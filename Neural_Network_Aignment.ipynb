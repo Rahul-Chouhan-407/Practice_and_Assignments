{
  "nbformat": 4,
  "nbformat_minor": 0,
  "metadata": {
    "colab": {
      "provenance": [],
      "mount_file_id": "https://github.com/Rahul-Chouhan-407/Practice_and_Assignments/blob/main/Neural_Network_Aignment.ipynb",
      "authorship_tag": "ABX9TyPUnGo6oF2qwIj+TN10/Oau",
      "include_colab_link": true
    },
    "kernelspec": {
      "name": "python3",
      "display_name": "Python 3"
    },
    "language_info": {
      "name": "python"
    }
  },
  "cells": [
    {
      "cell_type": "markdown",
      "metadata": {
        "id": "view-in-github",
        "colab_type": "text"
      },
      "source": [
        "<a href=\"https://colab.research.google.com/github/Rahul-Chouhan-407/Practice_and_Assignments/blob/main/Neural_Network_Aignment.ipynb\" target=\"_parent\"><img src=\"https://colab.research.google.com/assets/colab-badge.svg\" alt=\"Open In Colab\"/></a>"
      ]
    },
    {
      "cell_type": "code",
      "execution_count": 27,
      "metadata": {
        "id": "BUF1dabVeM5p"
      },
      "outputs": [],
      "source": [
        "import pandas as pd\n",
        "import numpy as np\n",
        "import tensorflow as tf\n",
        "from tensorflow import keras\n",
        "from sklearn.model_selection import train_test_split\n",
        "from sklearn.preprocessing import LabelEncoder, StandardScaler\n",
        "from keras.models import Sequential\n",
        "from tensorflow.keras.models import Sequential, Model, load_model, save_model\n",
        "from tensorflow.keras.layers import Dense, Activation, Dropout, Input, Masking, TimeDistributed, LSTM, Conv1D, Embedding\n",
        "from tensorflow.keras.optimizers import Adam\n",
        "from tensorflow.keras import optimizers"
      ]
    },
    {
      "cell_type": "code",
      "source": [
        "from google.colab import drive\n",
        "drive.mount('/content/drive')"
      ],
      "metadata": {
        "id": "q8MC-6Ld8BMo",
        "outputId": "be8af47f-fb8a-416b-aad2-68d2a9b2035a",
        "colab": {
          "base_uri": "https://localhost:8080/"
        }
      },
      "execution_count": 28,
      "outputs": [
        {
          "output_type": "stream",
          "name": "stdout",
          "text": [
            "Drive already mounted at /content/drive; to attempt to forcibly remount, call drive.mount(\"/content/drive\", force_remount=True).\n"
          ]
        }
      ]
    },
    {
      "cell_type": "code",
      "source": [
        "df = pd.read_excel(\"/content/drive/MyDrive/Colab Notebooks/Assignments/Neural Network Assignment - Intellipaat/Worksheet in Assignment - Titanic.xlsx\")"
      ],
      "metadata": {
        "id": "Rl72iwPyecCP"
      },
      "execution_count": 29,
      "outputs": []
    },
    {
      "cell_type": "code",
      "source": [
        "df.head()"
      ],
      "metadata": {
        "colab": {
          "base_uri": "https://localhost:8080/",
          "height": 320
        },
        "id": "_UBzi7L5gbRx",
        "outputId": "26ae51a4-ba92-4690-aa68-3284b55339b4"
      },
      "execution_count": 30,
      "outputs": [
        {
          "output_type": "execute_result",
          "data": {
            "text/plain": [
              "   pclass  survived                                            name     sex  \\\n",
              "0       1         1                    Allen Miss. Elisabeth Walton  female   \n",
              "1       1         1                   Allison Master. Hudson Trevor    male   \n",
              "2       1         0                     Allison Miss. Helen Loraine  female   \n",
              "3       1         0             Allison Mr. Hudson Joshua Creighton    male   \n",
              "4       1         0  Allison Mrs. Hudson J C (Bessie Waldo Daniels)  female   \n",
              "\n",
              "       age  sibsp  parch  ticket      fare    cabin embarked boat   body  \\\n",
              "0  29.0000      0      0   24160  211.3375       B5        S    2    NaN   \n",
              "1   0.9167      1      2  113781  151.5500  C22 C26        S   11    NaN   \n",
              "2   2.0000      1      2  113781  151.5500  C22 C26        S  NaN    NaN   \n",
              "3  30.0000      1      2  113781  151.5500  C22 C26        S  NaN  135.0   \n",
              "4  25.0000      1      2  113781  151.5500  C22 C26        S  NaN    NaN   \n",
              "\n",
              "                       home_dest  \n",
              "0                    St Louis MO  \n",
              "1  Montreal PQ / Chesterville ON  \n",
              "2  Montreal PQ / Chesterville ON  \n",
              "3  Montreal PQ / Chesterville ON  \n",
              "4  Montreal PQ / Chesterville ON  "
            ],
            "text/html": [
              "\n",
              "  <div id=\"df-61cf5488-7979-4bda-a042-cafb6549958f\">\n",
              "    <div class=\"colab-df-container\">\n",
              "      <div>\n",
              "<style scoped>\n",
              "    .dataframe tbody tr th:only-of-type {\n",
              "        vertical-align: middle;\n",
              "    }\n",
              "\n",
              "    .dataframe tbody tr th {\n",
              "        vertical-align: top;\n",
              "    }\n",
              "\n",
              "    .dataframe thead th {\n",
              "        text-align: right;\n",
              "    }\n",
              "</style>\n",
              "<table border=\"1\" class=\"dataframe\">\n",
              "  <thead>\n",
              "    <tr style=\"text-align: right;\">\n",
              "      <th></th>\n",
              "      <th>pclass</th>\n",
              "      <th>survived</th>\n",
              "      <th>name</th>\n",
              "      <th>sex</th>\n",
              "      <th>age</th>\n",
              "      <th>sibsp</th>\n",
              "      <th>parch</th>\n",
              "      <th>ticket</th>\n",
              "      <th>fare</th>\n",
              "      <th>cabin</th>\n",
              "      <th>embarked</th>\n",
              "      <th>boat</th>\n",
              "      <th>body</th>\n",
              "      <th>home_dest</th>\n",
              "    </tr>\n",
              "  </thead>\n",
              "  <tbody>\n",
              "    <tr>\n",
              "      <th>0</th>\n",
              "      <td>1</td>\n",
              "      <td>1</td>\n",
              "      <td>Allen Miss. Elisabeth Walton</td>\n",
              "      <td>female</td>\n",
              "      <td>29.0000</td>\n",
              "      <td>0</td>\n",
              "      <td>0</td>\n",
              "      <td>24160</td>\n",
              "      <td>211.3375</td>\n",
              "      <td>B5</td>\n",
              "      <td>S</td>\n",
              "      <td>2</td>\n",
              "      <td>NaN</td>\n",
              "      <td>St Louis MO</td>\n",
              "    </tr>\n",
              "    <tr>\n",
              "      <th>1</th>\n",
              "      <td>1</td>\n",
              "      <td>1</td>\n",
              "      <td>Allison Master. Hudson Trevor</td>\n",
              "      <td>male</td>\n",
              "      <td>0.9167</td>\n",
              "      <td>1</td>\n",
              "      <td>2</td>\n",
              "      <td>113781</td>\n",
              "      <td>151.5500</td>\n",
              "      <td>C22 C26</td>\n",
              "      <td>S</td>\n",
              "      <td>11</td>\n",
              "      <td>NaN</td>\n",
              "      <td>Montreal PQ / Chesterville ON</td>\n",
              "    </tr>\n",
              "    <tr>\n",
              "      <th>2</th>\n",
              "      <td>1</td>\n",
              "      <td>0</td>\n",
              "      <td>Allison Miss. Helen Loraine</td>\n",
              "      <td>female</td>\n",
              "      <td>2.0000</td>\n",
              "      <td>1</td>\n",
              "      <td>2</td>\n",
              "      <td>113781</td>\n",
              "      <td>151.5500</td>\n",
              "      <td>C22 C26</td>\n",
              "      <td>S</td>\n",
              "      <td>NaN</td>\n",
              "      <td>NaN</td>\n",
              "      <td>Montreal PQ / Chesterville ON</td>\n",
              "    </tr>\n",
              "    <tr>\n",
              "      <th>3</th>\n",
              "      <td>1</td>\n",
              "      <td>0</td>\n",
              "      <td>Allison Mr. Hudson Joshua Creighton</td>\n",
              "      <td>male</td>\n",
              "      <td>30.0000</td>\n",
              "      <td>1</td>\n",
              "      <td>2</td>\n",
              "      <td>113781</td>\n",
              "      <td>151.5500</td>\n",
              "      <td>C22 C26</td>\n",
              "      <td>S</td>\n",
              "      <td>NaN</td>\n",
              "      <td>135.0</td>\n",
              "      <td>Montreal PQ / Chesterville ON</td>\n",
              "    </tr>\n",
              "    <tr>\n",
              "      <th>4</th>\n",
              "      <td>1</td>\n",
              "      <td>0</td>\n",
              "      <td>Allison Mrs. Hudson J C (Bessie Waldo Daniels)</td>\n",
              "      <td>female</td>\n",
              "      <td>25.0000</td>\n",
              "      <td>1</td>\n",
              "      <td>2</td>\n",
              "      <td>113781</td>\n",
              "      <td>151.5500</td>\n",
              "      <td>C22 C26</td>\n",
              "      <td>S</td>\n",
              "      <td>NaN</td>\n",
              "      <td>NaN</td>\n",
              "      <td>Montreal PQ / Chesterville ON</td>\n",
              "    </tr>\n",
              "  </tbody>\n",
              "</table>\n",
              "</div>\n",
              "      <button class=\"colab-df-convert\" onclick=\"convertToInteractive('df-61cf5488-7979-4bda-a042-cafb6549958f')\"\n",
              "              title=\"Convert this dataframe to an interactive table.\"\n",
              "              style=\"display:none;\">\n",
              "        \n",
              "  <svg xmlns=\"http://www.w3.org/2000/svg\" height=\"24px\"viewBox=\"0 0 24 24\"\n",
              "       width=\"24px\">\n",
              "    <path d=\"M0 0h24v24H0V0z\" fill=\"none\"/>\n",
              "    <path d=\"M18.56 5.44l.94 2.06.94-2.06 2.06-.94-2.06-.94-.94-2.06-.94 2.06-2.06.94zm-11 1L8.5 8.5l.94-2.06 2.06-.94-2.06-.94L8.5 2.5l-.94 2.06-2.06.94zm10 10l.94 2.06.94-2.06 2.06-.94-2.06-.94-.94-2.06-.94 2.06-2.06.94z\"/><path d=\"M17.41 7.96l-1.37-1.37c-.4-.4-.92-.59-1.43-.59-.52 0-1.04.2-1.43.59L10.3 9.45l-7.72 7.72c-.78.78-.78 2.05 0 2.83L4 21.41c.39.39.9.59 1.41.59.51 0 1.02-.2 1.41-.59l7.78-7.78 2.81-2.81c.8-.78.8-2.07 0-2.86zM5.41 20L4 18.59l7.72-7.72 1.47 1.35L5.41 20z\"/>\n",
              "  </svg>\n",
              "      </button>\n",
              "      \n",
              "  <style>\n",
              "    .colab-df-container {\n",
              "      display:flex;\n",
              "      flex-wrap:wrap;\n",
              "      gap: 12px;\n",
              "    }\n",
              "\n",
              "    .colab-df-convert {\n",
              "      background-color: #E8F0FE;\n",
              "      border: none;\n",
              "      border-radius: 50%;\n",
              "      cursor: pointer;\n",
              "      display: none;\n",
              "      fill: #1967D2;\n",
              "      height: 32px;\n",
              "      padding: 0 0 0 0;\n",
              "      width: 32px;\n",
              "    }\n",
              "\n",
              "    .colab-df-convert:hover {\n",
              "      background-color: #E2EBFA;\n",
              "      box-shadow: 0px 1px 2px rgba(60, 64, 67, 0.3), 0px 1px 3px 1px rgba(60, 64, 67, 0.15);\n",
              "      fill: #174EA6;\n",
              "    }\n",
              "\n",
              "    [theme=dark] .colab-df-convert {\n",
              "      background-color: #3B4455;\n",
              "      fill: #D2E3FC;\n",
              "    }\n",
              "\n",
              "    [theme=dark] .colab-df-convert:hover {\n",
              "      background-color: #434B5C;\n",
              "      box-shadow: 0px 1px 3px 1px rgba(0, 0, 0, 0.15);\n",
              "      filter: drop-shadow(0px 1px 2px rgba(0, 0, 0, 0.3));\n",
              "      fill: #FFFFFF;\n",
              "    }\n",
              "  </style>\n",
              "\n",
              "      <script>\n",
              "        const buttonEl =\n",
              "          document.querySelector('#df-61cf5488-7979-4bda-a042-cafb6549958f button.colab-df-convert');\n",
              "        buttonEl.style.display =\n",
              "          google.colab.kernel.accessAllowed ? 'block' : 'none';\n",
              "\n",
              "        async function convertToInteractive(key) {\n",
              "          const element = document.querySelector('#df-61cf5488-7979-4bda-a042-cafb6549958f');\n",
              "          const dataTable =\n",
              "            await google.colab.kernel.invokeFunction('convertToInteractive',\n",
              "                                                     [key], {});\n",
              "          if (!dataTable) return;\n",
              "\n",
              "          const docLinkHtml = 'Like what you see? Visit the ' +\n",
              "            '<a target=\"_blank\" href=https://colab.research.google.com/notebooks/data_table.ipynb>data table notebook</a>'\n",
              "            + ' to learn more about interactive tables.';\n",
              "          element.innerHTML = '';\n",
              "          dataTable['output_type'] = 'display_data';\n",
              "          await google.colab.output.renderOutput(dataTable, element);\n",
              "          const docLink = document.createElement('div');\n",
              "          docLink.innerHTML = docLinkHtml;\n",
              "          element.appendChild(docLink);\n",
              "        }\n",
              "      </script>\n",
              "    </div>\n",
              "  </div>\n",
              "  "
            ]
          },
          "metadata": {},
          "execution_count": 30
        }
      ]
    },
    {
      "cell_type": "code",
      "source": [
        "df.info()"
      ],
      "metadata": {
        "colab": {
          "base_uri": "https://localhost:8080/"
        },
        "id": "v9QT3Or2gbie",
        "outputId": "f05d2b29-b528-4ede-eaac-ef6e0f239070"
      },
      "execution_count": 31,
      "outputs": [
        {
          "output_type": "stream",
          "name": "stdout",
          "text": [
            "<class 'pandas.core.frame.DataFrame'>\n",
            "RangeIndex: 1309 entries, 0 to 1308\n",
            "Data columns (total 14 columns):\n",
            " #   Column     Non-Null Count  Dtype  \n",
            "---  ------     --------------  -----  \n",
            " 0   pclass     1309 non-null   int64  \n",
            " 1   survived   1309 non-null   int64  \n",
            " 2   name       1309 non-null   object \n",
            " 3   sex        1309 non-null   object \n",
            " 4   age        1046 non-null   float64\n",
            " 5   sibsp      1309 non-null   int64  \n",
            " 6   parch      1309 non-null   int64  \n",
            " 7   ticket     1309 non-null   object \n",
            " 8   fare       1308 non-null   float64\n",
            " 9   cabin      295 non-null    object \n",
            " 10  embarked   1307 non-null   object \n",
            " 11  boat       486 non-null    object \n",
            " 12  body       121 non-null    float64\n",
            " 13  home_dest  745 non-null    object \n",
            "dtypes: float64(3), int64(4), object(7)\n",
            "memory usage: 143.3+ KB\n"
          ]
        }
      ]
    },
    {
      "cell_type": "code",
      "source": [
        "df.shape"
      ],
      "metadata": {
        "colab": {
          "base_uri": "https://localhost:8080/"
        },
        "id": "XALBKsgbvRop",
        "outputId": "8e9ef0e4-175b-465e-f4e0-830ae6183cea"
      },
      "execution_count": 32,
      "outputs": [
        {
          "output_type": "execute_result",
          "data": {
            "text/plain": [
              "(1309, 14)"
            ]
          },
          "metadata": {},
          "execution_count": 32
        }
      ]
    },
    {
      "cell_type": "code",
      "source": [
        "df.describe()"
      ],
      "metadata": {
        "colab": {
          "base_uri": "https://localhost:8080/",
          "height": 300
        },
        "id": "HNTJJuOcgbpi",
        "outputId": "4e561e7d-459c-48d5-b7d9-810131db3d6e"
      },
      "execution_count": 33,
      "outputs": [
        {
          "output_type": "execute_result",
          "data": {
            "text/plain": [
              "            pclass     survived          age        sibsp        parch  \\\n",
              "count  1309.000000  1309.000000  1046.000000  1309.000000  1309.000000   \n",
              "mean      2.294882     0.381971    29.881135     0.498854     0.385027   \n",
              "std       0.837836     0.486055    14.413500     1.041658     0.865560   \n",
              "min       1.000000     0.000000     0.166700     0.000000     0.000000   \n",
              "25%       2.000000     0.000000    21.000000     0.000000     0.000000   \n",
              "50%       3.000000     0.000000    28.000000     0.000000     0.000000   \n",
              "75%       3.000000     1.000000    39.000000     1.000000     0.000000   \n",
              "max       3.000000     1.000000    80.000000     8.000000     9.000000   \n",
              "\n",
              "              fare        body  \n",
              "count  1308.000000  121.000000  \n",
              "mean     33.295479  160.809917  \n",
              "std      51.758668   97.696922  \n",
              "min       0.000000    1.000000  \n",
              "25%       7.895800   72.000000  \n",
              "50%      14.454200  155.000000  \n",
              "75%      31.275000  256.000000  \n",
              "max     512.329200  328.000000  "
            ],
            "text/html": [
              "\n",
              "  <div id=\"df-e45e906b-7da1-44c4-873f-79dd2a6444f2\">\n",
              "    <div class=\"colab-df-container\">\n",
              "      <div>\n",
              "<style scoped>\n",
              "    .dataframe tbody tr th:only-of-type {\n",
              "        vertical-align: middle;\n",
              "    }\n",
              "\n",
              "    .dataframe tbody tr th {\n",
              "        vertical-align: top;\n",
              "    }\n",
              "\n",
              "    .dataframe thead th {\n",
              "        text-align: right;\n",
              "    }\n",
              "</style>\n",
              "<table border=\"1\" class=\"dataframe\">\n",
              "  <thead>\n",
              "    <tr style=\"text-align: right;\">\n",
              "      <th></th>\n",
              "      <th>pclass</th>\n",
              "      <th>survived</th>\n",
              "      <th>age</th>\n",
              "      <th>sibsp</th>\n",
              "      <th>parch</th>\n",
              "      <th>fare</th>\n",
              "      <th>body</th>\n",
              "    </tr>\n",
              "  </thead>\n",
              "  <tbody>\n",
              "    <tr>\n",
              "      <th>count</th>\n",
              "      <td>1309.000000</td>\n",
              "      <td>1309.000000</td>\n",
              "      <td>1046.000000</td>\n",
              "      <td>1309.000000</td>\n",
              "      <td>1309.000000</td>\n",
              "      <td>1308.000000</td>\n",
              "      <td>121.000000</td>\n",
              "    </tr>\n",
              "    <tr>\n",
              "      <th>mean</th>\n",
              "      <td>2.294882</td>\n",
              "      <td>0.381971</td>\n",
              "      <td>29.881135</td>\n",
              "      <td>0.498854</td>\n",
              "      <td>0.385027</td>\n",
              "      <td>33.295479</td>\n",
              "      <td>160.809917</td>\n",
              "    </tr>\n",
              "    <tr>\n",
              "      <th>std</th>\n",
              "      <td>0.837836</td>\n",
              "      <td>0.486055</td>\n",
              "      <td>14.413500</td>\n",
              "      <td>1.041658</td>\n",
              "      <td>0.865560</td>\n",
              "      <td>51.758668</td>\n",
              "      <td>97.696922</td>\n",
              "    </tr>\n",
              "    <tr>\n",
              "      <th>min</th>\n",
              "      <td>1.000000</td>\n",
              "      <td>0.000000</td>\n",
              "      <td>0.166700</td>\n",
              "      <td>0.000000</td>\n",
              "      <td>0.000000</td>\n",
              "      <td>0.000000</td>\n",
              "      <td>1.000000</td>\n",
              "    </tr>\n",
              "    <tr>\n",
              "      <th>25%</th>\n",
              "      <td>2.000000</td>\n",
              "      <td>0.000000</td>\n",
              "      <td>21.000000</td>\n",
              "      <td>0.000000</td>\n",
              "      <td>0.000000</td>\n",
              "      <td>7.895800</td>\n",
              "      <td>72.000000</td>\n",
              "    </tr>\n",
              "    <tr>\n",
              "      <th>50%</th>\n",
              "      <td>3.000000</td>\n",
              "      <td>0.000000</td>\n",
              "      <td>28.000000</td>\n",
              "      <td>0.000000</td>\n",
              "      <td>0.000000</td>\n",
              "      <td>14.454200</td>\n",
              "      <td>155.000000</td>\n",
              "    </tr>\n",
              "    <tr>\n",
              "      <th>75%</th>\n",
              "      <td>3.000000</td>\n",
              "      <td>1.000000</td>\n",
              "      <td>39.000000</td>\n",
              "      <td>1.000000</td>\n",
              "      <td>0.000000</td>\n",
              "      <td>31.275000</td>\n",
              "      <td>256.000000</td>\n",
              "    </tr>\n",
              "    <tr>\n",
              "      <th>max</th>\n",
              "      <td>3.000000</td>\n",
              "      <td>1.000000</td>\n",
              "      <td>80.000000</td>\n",
              "      <td>8.000000</td>\n",
              "      <td>9.000000</td>\n",
              "      <td>512.329200</td>\n",
              "      <td>328.000000</td>\n",
              "    </tr>\n",
              "  </tbody>\n",
              "</table>\n",
              "</div>\n",
              "      <button class=\"colab-df-convert\" onclick=\"convertToInteractive('df-e45e906b-7da1-44c4-873f-79dd2a6444f2')\"\n",
              "              title=\"Convert this dataframe to an interactive table.\"\n",
              "              style=\"display:none;\">\n",
              "        \n",
              "  <svg xmlns=\"http://www.w3.org/2000/svg\" height=\"24px\"viewBox=\"0 0 24 24\"\n",
              "       width=\"24px\">\n",
              "    <path d=\"M0 0h24v24H0V0z\" fill=\"none\"/>\n",
              "    <path d=\"M18.56 5.44l.94 2.06.94-2.06 2.06-.94-2.06-.94-.94-2.06-.94 2.06-2.06.94zm-11 1L8.5 8.5l.94-2.06 2.06-.94-2.06-.94L8.5 2.5l-.94 2.06-2.06.94zm10 10l.94 2.06.94-2.06 2.06-.94-2.06-.94-.94-2.06-.94 2.06-2.06.94z\"/><path d=\"M17.41 7.96l-1.37-1.37c-.4-.4-.92-.59-1.43-.59-.52 0-1.04.2-1.43.59L10.3 9.45l-7.72 7.72c-.78.78-.78 2.05 0 2.83L4 21.41c.39.39.9.59 1.41.59.51 0 1.02-.2 1.41-.59l7.78-7.78 2.81-2.81c.8-.78.8-2.07 0-2.86zM5.41 20L4 18.59l7.72-7.72 1.47 1.35L5.41 20z\"/>\n",
              "  </svg>\n",
              "      </button>\n",
              "      \n",
              "  <style>\n",
              "    .colab-df-container {\n",
              "      display:flex;\n",
              "      flex-wrap:wrap;\n",
              "      gap: 12px;\n",
              "    }\n",
              "\n",
              "    .colab-df-convert {\n",
              "      background-color: #E8F0FE;\n",
              "      border: none;\n",
              "      border-radius: 50%;\n",
              "      cursor: pointer;\n",
              "      display: none;\n",
              "      fill: #1967D2;\n",
              "      height: 32px;\n",
              "      padding: 0 0 0 0;\n",
              "      width: 32px;\n",
              "    }\n",
              "\n",
              "    .colab-df-convert:hover {\n",
              "      background-color: #E2EBFA;\n",
              "      box-shadow: 0px 1px 2px rgba(60, 64, 67, 0.3), 0px 1px 3px 1px rgba(60, 64, 67, 0.15);\n",
              "      fill: #174EA6;\n",
              "    }\n",
              "\n",
              "    [theme=dark] .colab-df-convert {\n",
              "      background-color: #3B4455;\n",
              "      fill: #D2E3FC;\n",
              "    }\n",
              "\n",
              "    [theme=dark] .colab-df-convert:hover {\n",
              "      background-color: #434B5C;\n",
              "      box-shadow: 0px 1px 3px 1px rgba(0, 0, 0, 0.15);\n",
              "      filter: drop-shadow(0px 1px 2px rgba(0, 0, 0, 0.3));\n",
              "      fill: #FFFFFF;\n",
              "    }\n",
              "  </style>\n",
              "\n",
              "      <script>\n",
              "        const buttonEl =\n",
              "          document.querySelector('#df-e45e906b-7da1-44c4-873f-79dd2a6444f2 button.colab-df-convert');\n",
              "        buttonEl.style.display =\n",
              "          google.colab.kernel.accessAllowed ? 'block' : 'none';\n",
              "\n",
              "        async function convertToInteractive(key) {\n",
              "          const element = document.querySelector('#df-e45e906b-7da1-44c4-873f-79dd2a6444f2');\n",
              "          const dataTable =\n",
              "            await google.colab.kernel.invokeFunction('convertToInteractive',\n",
              "                                                     [key], {});\n",
              "          if (!dataTable) return;\n",
              "\n",
              "          const docLinkHtml = 'Like what you see? Visit the ' +\n",
              "            '<a target=\"_blank\" href=https://colab.research.google.com/notebooks/data_table.ipynb>data table notebook</a>'\n",
              "            + ' to learn more about interactive tables.';\n",
              "          element.innerHTML = '';\n",
              "          dataTable['output_type'] = 'display_data';\n",
              "          await google.colab.output.renderOutput(dataTable, element);\n",
              "          const docLink = document.createElement('div');\n",
              "          docLink.innerHTML = docLinkHtml;\n",
              "          element.appendChild(docLink);\n",
              "        }\n",
              "      </script>\n",
              "    </div>\n",
              "  </div>\n",
              "  "
            ]
          },
          "metadata": {},
          "execution_count": 33
        }
      ]
    },
    {
      "cell_type": "code",
      "source": [
        "df.isnull().sum()"
      ],
      "metadata": {
        "colab": {
          "base_uri": "https://localhost:8080/"
        },
        "id": "mYe39OYygbwl",
        "outputId": "851a377b-bf92-40a1-a612-15f7f23a2b3c"
      },
      "execution_count": 34,
      "outputs": [
        {
          "output_type": "execute_result",
          "data": {
            "text/plain": [
              "pclass          0\n",
              "survived        0\n",
              "name            0\n",
              "sex             0\n",
              "age           263\n",
              "sibsp           0\n",
              "parch           0\n",
              "ticket          0\n",
              "fare            1\n",
              "cabin        1014\n",
              "embarked        2\n",
              "boat          823\n",
              "body         1188\n",
              "home_dest     564\n",
              "dtype: int64"
            ]
          },
          "metadata": {},
          "execution_count": 34
        }
      ]
    },
    {
      "cell_type": "code",
      "source": [
        "# Remove unnecessary columns\n",
        "df = df.drop(['name', 'ticket', 'cabin', 'boat', 'body', 'home_dest'], axis=1)"
      ],
      "metadata": {
        "id": "kcfjxeVeoHsH"
      },
      "execution_count": 35,
      "outputs": []
    },
    {
      "cell_type": "code",
      "source": [
        "# Replace missing values with the mean for the \"Age\" column\n",
        "df['age'] = df['age'].fillna(df['age'].mean())"
      ],
      "metadata": {
        "id": "wyWC1TQ8pDXo"
      },
      "execution_count": 36,
      "outputs": []
    },
    {
      "cell_type": "code",
      "source": [
        "# Replace missing values with the mode for the \"Embarked\" column\n",
        "df['embarked'] = df['embarked'].fillna(df['embarked'].mode()[0])"
      ],
      "metadata": {
        "id": "BftTkjG1pDhh"
      },
      "execution_count": 37,
      "outputs": []
    },
    {
      "cell_type": "code",
      "source": [
        "# Convert categorical variables to numerical variables\n",
        "labelencoder = LabelEncoder()\n",
        "df['sex'] = labelencoder.fit_transform(df['sex'])\n",
        "df['embarked'] = labelencoder.fit_transform(df['embarked'])"
      ],
      "metadata": {
        "id": "GpGtlzwbpDpF"
      },
      "execution_count": 38,
      "outputs": []
    },
    {
      "cell_type": "code",
      "source": [
        "# Standardize the numerical variables\n",
        "scaler = StandardScaler()\n",
        "df[['age', 'fare']] = scaler.fit_transform(df[['age', 'fare']])"
      ],
      "metadata": {
        "id": "zUMnXrwZpDyc"
      },
      "execution_count": 39,
      "outputs": []
    },
    {
      "cell_type": "code",
      "source": [
        "# Split the data into training and testing sets\n",
        "X = df.drop('survived', axis=1)\n",
        "y = df['survived']\n",
        "X_train, X_test, y_train, y_test = train_test_split(X, y, test_size=0.2, random_state=42)"
      ],
      "metadata": {
        "id": "DNobB-PmoaCi"
      },
      "execution_count": 40,
      "outputs": []
    },
    {
      "cell_type": "code",
      "source": [
        "# Build the neural network model\n",
        "model = keras.Sequential([\n",
        "    keras.layers.Dense(32, input_shape=(7,), activation='relu'),\n",
        "    keras.layers.Dense(16, activation='relu'),\n",
        "    keras.layers.Dense(1, activation='softmax')\n",
        "])"
      ],
      "metadata": {
        "id": "xhdxvcTFpxar"
      },
      "execution_count": 50,
      "outputs": []
    },
    {
      "cell_type": "code",
      "source": [
        "# Compile the model\n",
        "model.compile(optimizer='adam', loss='categorical_crossentropy', metrics=['accuracy'])"
      ],
      "metadata": {
        "id": "LmKBMg4apxmT"
      },
      "execution_count": 51,
      "outputs": []
    },
    {
      "cell_type": "code",
      "source": [
        "# Train the model\n",
        "model.fit(X_train, y_train, epochs=50, batch_size=32, validation_split=0.4)"
      ],
      "metadata": {
        "colab": {
          "base_uri": "https://localhost:8080/"
        },
        "id": "bhJsUrVNpxzG",
        "outputId": "9444de03-5ab0-4242-aecd-9cfa1f358912"
      },
      "execution_count": 62,
      "outputs": [
        {
          "output_type": "stream",
          "name": "stdout",
          "text": [
            "Epoch 1/50\n",
            "20/20 [==============================] - 0s 7ms/step - loss: nan - accuracy: 0.6433 - val_loss: nan - val_accuracy: 0.6229\n",
            "Epoch 2/50\n",
            "20/20 [==============================] - 0s 4ms/step - loss: nan - accuracy: 0.6433 - val_loss: nan - val_accuracy: 0.6229\n",
            "Epoch 3/50\n",
            "20/20 [==============================] - 0s 5ms/step - loss: nan - accuracy: 0.6433 - val_loss: nan - val_accuracy: 0.6229\n",
            "Epoch 4/50\n",
            "20/20 [==============================] - 0s 4ms/step - loss: nan - accuracy: 0.6433 - val_loss: nan - val_accuracy: 0.6229\n",
            "Epoch 5/50\n",
            "20/20 [==============================] - 0s 6ms/step - loss: nan - accuracy: 0.6433 - val_loss: nan - val_accuracy: 0.6229\n",
            "Epoch 6/50\n",
            "20/20 [==============================] - 0s 5ms/step - loss: nan - accuracy: 0.6433 - val_loss: nan - val_accuracy: 0.6229\n",
            "Epoch 7/50\n",
            "20/20 [==============================] - 0s 7ms/step - loss: nan - accuracy: 0.6433 - val_loss: nan - val_accuracy: 0.6229\n",
            "Epoch 8/50\n",
            "20/20 [==============================] - 0s 4ms/step - loss: nan - accuracy: 0.6433 - val_loss: nan - val_accuracy: 0.6229\n",
            "Epoch 9/50\n",
            "20/20 [==============================] - 0s 5ms/step - loss: nan - accuracy: 0.6433 - val_loss: nan - val_accuracy: 0.6229\n",
            "Epoch 10/50\n",
            "20/20 [==============================] - 0s 5ms/step - loss: nan - accuracy: 0.6433 - val_loss: nan - val_accuracy: 0.6229\n",
            "Epoch 11/50\n",
            "20/20 [==============================] - 0s 5ms/step - loss: nan - accuracy: 0.6433 - val_loss: nan - val_accuracy: 0.6229\n",
            "Epoch 12/50\n",
            "20/20 [==============================] - 0s 5ms/step - loss: nan - accuracy: 0.6433 - val_loss: nan - val_accuracy: 0.6229\n",
            "Epoch 13/50\n",
            "20/20 [==============================] - 0s 5ms/step - loss: nan - accuracy: 0.6433 - val_loss: nan - val_accuracy: 0.6229\n",
            "Epoch 14/50\n",
            "20/20 [==============================] - 0s 5ms/step - loss: nan - accuracy: 0.6433 - val_loss: nan - val_accuracy: 0.6229\n",
            "Epoch 15/50\n",
            "20/20 [==============================] - 0s 5ms/step - loss: nan - accuracy: 0.6433 - val_loss: nan - val_accuracy: 0.6229\n",
            "Epoch 16/50\n",
            "20/20 [==============================] - 0s 9ms/step - loss: nan - accuracy: 0.6433 - val_loss: nan - val_accuracy: 0.6229\n",
            "Epoch 17/50\n",
            "20/20 [==============================] - 0s 9ms/step - loss: nan - accuracy: 0.6433 - val_loss: nan - val_accuracy: 0.6229\n",
            "Epoch 18/50\n",
            "20/20 [==============================] - 0s 9ms/step - loss: nan - accuracy: 0.6433 - val_loss: nan - val_accuracy: 0.6229\n",
            "Epoch 19/50\n",
            "20/20 [==============================] - 0s 10ms/step - loss: nan - accuracy: 0.6433 - val_loss: nan - val_accuracy: 0.6229\n",
            "Epoch 20/50\n",
            "20/20 [==============================] - 0s 8ms/step - loss: nan - accuracy: 0.6433 - val_loss: nan - val_accuracy: 0.6229\n",
            "Epoch 21/50\n",
            "20/20 [==============================] - 0s 8ms/step - loss: nan - accuracy: 0.6433 - val_loss: nan - val_accuracy: 0.6229\n",
            "Epoch 22/50\n",
            "20/20 [==============================] - 0s 7ms/step - loss: nan - accuracy: 0.6433 - val_loss: nan - val_accuracy: 0.6229\n",
            "Epoch 23/50\n",
            "20/20 [==============================] - 0s 6ms/step - loss: nan - accuracy: 0.6433 - val_loss: nan - val_accuracy: 0.6229\n",
            "Epoch 24/50\n",
            "20/20 [==============================] - 0s 6ms/step - loss: nan - accuracy: 0.6433 - val_loss: nan - val_accuracy: 0.6229\n",
            "Epoch 25/50\n",
            "20/20 [==============================] - 0s 7ms/step - loss: nan - accuracy: 0.6433 - val_loss: nan - val_accuracy: 0.6229\n",
            "Epoch 26/50\n",
            "20/20 [==============================] - 0s 12ms/step - loss: nan - accuracy: 0.6433 - val_loss: nan - val_accuracy: 0.6229\n",
            "Epoch 27/50\n",
            "20/20 [==============================] - 1s 28ms/step - loss: nan - accuracy: 0.6433 - val_loss: nan - val_accuracy: 0.6229\n",
            "Epoch 28/50\n",
            "20/20 [==============================] - 0s 6ms/step - loss: nan - accuracy: 0.6433 - val_loss: nan - val_accuracy: 0.6229\n",
            "Epoch 29/50\n",
            "20/20 [==============================] - 0s 6ms/step - loss: nan - accuracy: 0.6433 - val_loss: nan - val_accuracy: 0.6229\n",
            "Epoch 30/50\n",
            "20/20 [==============================] - 0s 9ms/step - loss: nan - accuracy: 0.6433 - val_loss: nan - val_accuracy: 0.6229\n",
            "Epoch 31/50\n",
            "20/20 [==============================] - 0s 8ms/step - loss: nan - accuracy: 0.6433 - val_loss: nan - val_accuracy: 0.6229\n",
            "Epoch 32/50\n",
            "20/20 [==============================] - 0s 10ms/step - loss: nan - accuracy: 0.6433 - val_loss: nan - val_accuracy: 0.6229\n",
            "Epoch 33/50\n",
            "20/20 [==============================] - 0s 7ms/step - loss: nan - accuracy: 0.6433 - val_loss: nan - val_accuracy: 0.6229\n",
            "Epoch 34/50\n",
            "20/20 [==============================] - 0s 7ms/step - loss: nan - accuracy: 0.6433 - val_loss: nan - val_accuracy: 0.6229\n",
            "Epoch 35/50\n",
            "20/20 [==============================] - 0s 7ms/step - loss: nan - accuracy: 0.6433 - val_loss: nan - val_accuracy: 0.6229\n",
            "Epoch 36/50\n",
            "20/20 [==============================] - 0s 10ms/step - loss: nan - accuracy: 0.6433 - val_loss: nan - val_accuracy: 0.6229\n",
            "Epoch 37/50\n",
            "20/20 [==============================] - 0s 8ms/step - loss: nan - accuracy: 0.6433 - val_loss: nan - val_accuracy: 0.6229\n",
            "Epoch 38/50\n",
            "20/20 [==============================] - 0s 10ms/step - loss: nan - accuracy: 0.6433 - val_loss: nan - val_accuracy: 0.6229\n",
            "Epoch 39/50\n",
            "20/20 [==============================] - 0s 8ms/step - loss: nan - accuracy: 0.6433 - val_loss: nan - val_accuracy: 0.6229\n",
            "Epoch 40/50\n",
            "20/20 [==============================] - 0s 5ms/step - loss: nan - accuracy: 0.6433 - val_loss: nan - val_accuracy: 0.6229\n",
            "Epoch 41/50\n",
            "20/20 [==============================] - 0s 5ms/step - loss: nan - accuracy: 0.6433 - val_loss: nan - val_accuracy: 0.6229\n",
            "Epoch 42/50\n",
            "20/20 [==============================] - 0s 5ms/step - loss: nan - accuracy: 0.6433 - val_loss: nan - val_accuracy: 0.6229\n",
            "Epoch 43/50\n",
            "20/20 [==============================] - 0s 7ms/step - loss: nan - accuracy: 0.6433 - val_loss: nan - val_accuracy: 0.6229\n",
            "Epoch 44/50\n",
            "20/20 [==============================] - 0s 7ms/step - loss: nan - accuracy: 0.6433 - val_loss: nan - val_accuracy: 0.6229\n",
            "Epoch 45/50\n",
            "20/20 [==============================] - 0s 4ms/step - loss: nan - accuracy: 0.6433 - val_loss: nan - val_accuracy: 0.6229\n",
            "Epoch 46/50\n",
            "20/20 [==============================] - 0s 4ms/step - loss: nan - accuracy: 0.6433 - val_loss: nan - val_accuracy: 0.6229\n",
            "Epoch 47/50\n",
            "20/20 [==============================] - 0s 5ms/step - loss: nan - accuracy: 0.6433 - val_loss: nan - val_accuracy: 0.6229\n",
            "Epoch 48/50\n",
            "20/20 [==============================] - 0s 4ms/step - loss: nan - accuracy: 0.6433 - val_loss: nan - val_accuracy: 0.6229\n",
            "Epoch 49/50\n",
            "20/20 [==============================] - 0s 4ms/step - loss: nan - accuracy: 0.6433 - val_loss: nan - val_accuracy: 0.6229\n",
            "Epoch 50/50\n",
            "20/20 [==============================] - 0s 4ms/step - loss: nan - accuracy: 0.6433 - val_loss: nan - val_accuracy: 0.6229\n"
          ]
        },
        {
          "output_type": "execute_result",
          "data": {
            "text/plain": [
              "<keras.callbacks.History at 0x7f3d49ed3c70>"
            ]
          },
          "metadata": {},
          "execution_count": 62
        }
      ]
    },
    {
      "cell_type": "code",
      "source": [
        "# Evaluate the model\n",
        "test_loss, test_acc = model.evaluate(X_test, y_test)\n",
        "print('Test accuracy:', test_acc)"
      ],
      "metadata": {
        "colab": {
          "base_uri": "https://localhost:8080/"
        },
        "id": "bfGNOWHdp4v_",
        "outputId": "4da87499-7b6e-4f5d-8d8f-f8b4bfa8ed31"
      },
      "execution_count": 55,
      "outputs": [
        {
          "output_type": "stream",
          "name": "stdout",
          "text": [
            "9/9 [==============================] - 0s 2ms/step - loss: nan - accuracy: 0.5496\n",
            "Test accuracy: 0.5496183037757874\n"
          ]
        }
      ]
    }
  ]
}