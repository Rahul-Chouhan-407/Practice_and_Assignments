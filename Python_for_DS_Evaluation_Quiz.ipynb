{
  "nbformat": 4,
  "nbformat_minor": 0,
  "metadata": {
    "colab": {
      "provenance": [],
      "authorship_tag": "ABX9TyPvZtDIK+a+LomU+0g4X0Ep",
      "include_colab_link": true
    },
    "kernelspec": {
      "name": "python3",
      "display_name": "Python 3"
    },
    "language_info": {
      "name": "python"
    }
  },
  "cells": [
    {
      "cell_type": "markdown",
      "metadata": {
        "id": "view-in-github",
        "colab_type": "text"
      },
      "source": [
        "<a href=\"https://colab.research.google.com/github/Rahul-Chouhan-407/Practice_and_Assignments/blob/main/Python_for_DS_Evaluation_Quiz.ipynb\" target=\"_parent\"><img src=\"https://colab.research.google.com/assets/colab-badge.svg\" alt=\"Open In Colab\"/></a>"
      ]
    },
    {
      "cell_type": "code",
      "execution_count": 1,
      "metadata": {
        "id": "EAj431QVwohO"
      },
      "outputs": [],
      "source": [
        "import numpy as np\n",
        "import pandas as pd"
      ]
    },
    {
      "cell_type": "code",
      "source": [
        "df = pd.read_csv(\"/content/sp500_companies.csv\")"
      ],
      "metadata": {
        "id": "6ZaHtSRCw7Sv"
      },
      "execution_count": 2,
      "outputs": []
    },
    {
      "cell_type": "code",
      "source": [
        "df.head()"
      ],
      "metadata": {
        "colab": {
          "base_uri": "https://localhost:8080/",
          "height": 444
        },
        "id": "RmLz_mK4xB-K",
        "outputId": "6eb0fce1-3a91-4489-f8d5-f3b7b3217f86"
      },
      "execution_count": 3,
      "outputs": [
        {
          "output_type": "execute_result",
          "data": {
            "text/plain": [
              "  Exchange Symbol              Shortname               Longname  \\\n",
              "0      NMS   AAPL             Apple Inc.             Apple Inc.   \n",
              "1      NMS   MSFT  Microsoft Corporation  Microsoft Corporation   \n",
              "2      NMS   GOOG          Alphabet Inc.          Alphabet Inc.   \n",
              "3      NMS  GOOGL          Alphabet Inc.          Alphabet Inc.   \n",
              "4      NMS   AMZN       Amazon.com, Inc.       Amazon.com, Inc.   \n",
              "\n",
              "                   Sector                        Industry  Currentprice  \\\n",
              "0              Technology            Consumer Electronics        148.03   \n",
              "1              Technology         Software—Infrastructure        255.14   \n",
              "2  Communication Services  Internet Content & Information        101.45   \n",
              "3  Communication Services  Internet Content & Information        100.99   \n",
              "4       Consumer Cyclical                 Internet Retail         96.54   \n",
              "\n",
              "       Marketcap        Ebitda  Revenuegrowth           City State  \\\n",
              "0  2354875990016  1.305410e+11          0.081      Cupertino    CA   \n",
              "1  1915585953792  9.798300e+10          0.124        Redmond    WA   \n",
              "2  1311241142272  9.373300e+10          0.061  Mountain View    CA   \n",
              "3  1308729278464  9.373300e+10          0.061  Mountain View    CA   \n",
              "4   984872189952  5.154900e+10          0.147        Seattle    WA   \n",
              "\n",
              "         Country  Fulltimeemployees  \\\n",
              "0  United States           164000.0   \n",
              "1  United States           221000.0   \n",
              "2  United States           186779.0   \n",
              "3  United States           186779.0   \n",
              "4  United States          1544000.0   \n",
              "\n",
              "                                 Longbusinesssummary    Weight  \n",
              "0  Apple Inc. designs, manufactures, and markets ...  0.064857  \n",
              "1  Microsoft Corporation develops, licenses, and ...  0.052759  \n",
              "2  Alphabet Inc. provides various products and pl...  0.036114  \n",
              "3  Alphabet Inc. provides various products and pl...  0.036045  \n",
              "4  Amazon.com, Inc. engages in the retail sale of...  0.027125  "
            ],
            "text/html": [
              "\n",
              "  <div id=\"df-321bffe9-bc65-49c4-8b88-ef4d3709c8fc\">\n",
              "    <div class=\"colab-df-container\">\n",
              "      <div>\n",
              "<style scoped>\n",
              "    .dataframe tbody tr th:only-of-type {\n",
              "        vertical-align: middle;\n",
              "    }\n",
              "\n",
              "    .dataframe tbody tr th {\n",
              "        vertical-align: top;\n",
              "    }\n",
              "\n",
              "    .dataframe thead th {\n",
              "        text-align: right;\n",
              "    }\n",
              "</style>\n",
              "<table border=\"1\" class=\"dataframe\">\n",
              "  <thead>\n",
              "    <tr style=\"text-align: right;\">\n",
              "      <th></th>\n",
              "      <th>Exchange</th>\n",
              "      <th>Symbol</th>\n",
              "      <th>Shortname</th>\n",
              "      <th>Longname</th>\n",
              "      <th>Sector</th>\n",
              "      <th>Industry</th>\n",
              "      <th>Currentprice</th>\n",
              "      <th>Marketcap</th>\n",
              "      <th>Ebitda</th>\n",
              "      <th>Revenuegrowth</th>\n",
              "      <th>City</th>\n",
              "      <th>State</th>\n",
              "      <th>Country</th>\n",
              "      <th>Fulltimeemployees</th>\n",
              "      <th>Longbusinesssummary</th>\n",
              "      <th>Weight</th>\n",
              "    </tr>\n",
              "  </thead>\n",
              "  <tbody>\n",
              "    <tr>\n",
              "      <th>0</th>\n",
              "      <td>NMS</td>\n",
              "      <td>AAPL</td>\n",
              "      <td>Apple Inc.</td>\n",
              "      <td>Apple Inc.</td>\n",
              "      <td>Technology</td>\n",
              "      <td>Consumer Electronics</td>\n",
              "      <td>148.03</td>\n",
              "      <td>2354875990016</td>\n",
              "      <td>1.305410e+11</td>\n",
              "      <td>0.081</td>\n",
              "      <td>Cupertino</td>\n",
              "      <td>CA</td>\n",
              "      <td>United States</td>\n",
              "      <td>164000.0</td>\n",
              "      <td>Apple Inc. designs, manufactures, and markets ...</td>\n",
              "      <td>0.064857</td>\n",
              "    </tr>\n",
              "    <tr>\n",
              "      <th>1</th>\n",
              "      <td>NMS</td>\n",
              "      <td>MSFT</td>\n",
              "      <td>Microsoft Corporation</td>\n",
              "      <td>Microsoft Corporation</td>\n",
              "      <td>Technology</td>\n",
              "      <td>Software—Infrastructure</td>\n",
              "      <td>255.14</td>\n",
              "      <td>1915585953792</td>\n",
              "      <td>9.798300e+10</td>\n",
              "      <td>0.124</td>\n",
              "      <td>Redmond</td>\n",
              "      <td>WA</td>\n",
              "      <td>United States</td>\n",
              "      <td>221000.0</td>\n",
              "      <td>Microsoft Corporation develops, licenses, and ...</td>\n",
              "      <td>0.052759</td>\n",
              "    </tr>\n",
              "    <tr>\n",
              "      <th>2</th>\n",
              "      <td>NMS</td>\n",
              "      <td>GOOG</td>\n",
              "      <td>Alphabet Inc.</td>\n",
              "      <td>Alphabet Inc.</td>\n",
              "      <td>Communication Services</td>\n",
              "      <td>Internet Content &amp; Information</td>\n",
              "      <td>101.45</td>\n",
              "      <td>1311241142272</td>\n",
              "      <td>9.373300e+10</td>\n",
              "      <td>0.061</td>\n",
              "      <td>Mountain View</td>\n",
              "      <td>CA</td>\n",
              "      <td>United States</td>\n",
              "      <td>186779.0</td>\n",
              "      <td>Alphabet Inc. provides various products and pl...</td>\n",
              "      <td>0.036114</td>\n",
              "    </tr>\n",
              "    <tr>\n",
              "      <th>3</th>\n",
              "      <td>NMS</td>\n",
              "      <td>GOOGL</td>\n",
              "      <td>Alphabet Inc.</td>\n",
              "      <td>Alphabet Inc.</td>\n",
              "      <td>Communication Services</td>\n",
              "      <td>Internet Content &amp; Information</td>\n",
              "      <td>100.99</td>\n",
              "      <td>1308729278464</td>\n",
              "      <td>9.373300e+10</td>\n",
              "      <td>0.061</td>\n",
              "      <td>Mountain View</td>\n",
              "      <td>CA</td>\n",
              "      <td>United States</td>\n",
              "      <td>186779.0</td>\n",
              "      <td>Alphabet Inc. provides various products and pl...</td>\n",
              "      <td>0.036045</td>\n",
              "    </tr>\n",
              "    <tr>\n",
              "      <th>4</th>\n",
              "      <td>NMS</td>\n",
              "      <td>AMZN</td>\n",
              "      <td>Amazon.com, Inc.</td>\n",
              "      <td>Amazon.com, Inc.</td>\n",
              "      <td>Consumer Cyclical</td>\n",
              "      <td>Internet Retail</td>\n",
              "      <td>96.54</td>\n",
              "      <td>984872189952</td>\n",
              "      <td>5.154900e+10</td>\n",
              "      <td>0.147</td>\n",
              "      <td>Seattle</td>\n",
              "      <td>WA</td>\n",
              "      <td>United States</td>\n",
              "      <td>1544000.0</td>\n",
              "      <td>Amazon.com, Inc. engages in the retail sale of...</td>\n",
              "      <td>0.027125</td>\n",
              "    </tr>\n",
              "  </tbody>\n",
              "</table>\n",
              "</div>\n",
              "      <button class=\"colab-df-convert\" onclick=\"convertToInteractive('df-321bffe9-bc65-49c4-8b88-ef4d3709c8fc')\"\n",
              "              title=\"Convert this dataframe to an interactive table.\"\n",
              "              style=\"display:none;\">\n",
              "        \n",
              "  <svg xmlns=\"http://www.w3.org/2000/svg\" height=\"24px\"viewBox=\"0 0 24 24\"\n",
              "       width=\"24px\">\n",
              "    <path d=\"M0 0h24v24H0V0z\" fill=\"none\"/>\n",
              "    <path d=\"M18.56 5.44l.94 2.06.94-2.06 2.06-.94-2.06-.94-.94-2.06-.94 2.06-2.06.94zm-11 1L8.5 8.5l.94-2.06 2.06-.94-2.06-.94L8.5 2.5l-.94 2.06-2.06.94zm10 10l.94 2.06.94-2.06 2.06-.94-2.06-.94-.94-2.06-.94 2.06-2.06.94z\"/><path d=\"M17.41 7.96l-1.37-1.37c-.4-.4-.92-.59-1.43-.59-.52 0-1.04.2-1.43.59L10.3 9.45l-7.72 7.72c-.78.78-.78 2.05 0 2.83L4 21.41c.39.39.9.59 1.41.59.51 0 1.02-.2 1.41-.59l7.78-7.78 2.81-2.81c.8-.78.8-2.07 0-2.86zM5.41 20L4 18.59l7.72-7.72 1.47 1.35L5.41 20z\"/>\n",
              "  </svg>\n",
              "      </button>\n",
              "      \n",
              "  <style>\n",
              "    .colab-df-container {\n",
              "      display:flex;\n",
              "      flex-wrap:wrap;\n",
              "      gap: 12px;\n",
              "    }\n",
              "\n",
              "    .colab-df-convert {\n",
              "      background-color: #E8F0FE;\n",
              "      border: none;\n",
              "      border-radius: 50%;\n",
              "      cursor: pointer;\n",
              "      display: none;\n",
              "      fill: #1967D2;\n",
              "      height: 32px;\n",
              "      padding: 0 0 0 0;\n",
              "      width: 32px;\n",
              "    }\n",
              "\n",
              "    .colab-df-convert:hover {\n",
              "      background-color: #E2EBFA;\n",
              "      box-shadow: 0px 1px 2px rgba(60, 64, 67, 0.3), 0px 1px 3px 1px rgba(60, 64, 67, 0.15);\n",
              "      fill: #174EA6;\n",
              "    }\n",
              "\n",
              "    [theme=dark] .colab-df-convert {\n",
              "      background-color: #3B4455;\n",
              "      fill: #D2E3FC;\n",
              "    }\n",
              "\n",
              "    [theme=dark] .colab-df-convert:hover {\n",
              "      background-color: #434B5C;\n",
              "      box-shadow: 0px 1px 3px 1px rgba(0, 0, 0, 0.15);\n",
              "      filter: drop-shadow(0px 1px 2px rgba(0, 0, 0, 0.3));\n",
              "      fill: #FFFFFF;\n",
              "    }\n",
              "  </style>\n",
              "\n",
              "      <script>\n",
              "        const buttonEl =\n",
              "          document.querySelector('#df-321bffe9-bc65-49c4-8b88-ef4d3709c8fc button.colab-df-convert');\n",
              "        buttonEl.style.display =\n",
              "          google.colab.kernel.accessAllowed ? 'block' : 'none';\n",
              "\n",
              "        async function convertToInteractive(key) {\n",
              "          const element = document.querySelector('#df-321bffe9-bc65-49c4-8b88-ef4d3709c8fc');\n",
              "          const dataTable =\n",
              "            await google.colab.kernel.invokeFunction('convertToInteractive',\n",
              "                                                     [key], {});\n",
              "          if (!dataTable) return;\n",
              "\n",
              "          const docLinkHtml = 'Like what you see? Visit the ' +\n",
              "            '<a target=\"_blank\" href=https://colab.research.google.com/notebooks/data_table.ipynb>data table notebook</a>'\n",
              "            + ' to learn more about interactive tables.';\n",
              "          element.innerHTML = '';\n",
              "          dataTable['output_type'] = 'display_data';\n",
              "          await google.colab.output.renderOutput(dataTable, element);\n",
              "          const docLink = document.createElement('div');\n",
              "          docLink.innerHTML = docLinkHtml;\n",
              "          element.appendChild(docLink);\n",
              "        }\n",
              "      </script>\n",
              "    </div>\n",
              "  </div>\n",
              "  "
            ]
          },
          "metadata": {},
          "execution_count": 3
        }
      ]
    },
    {
      "cell_type": "code",
      "source": [
        "df.shape"
      ],
      "metadata": {
        "colab": {
          "base_uri": "https://localhost:8080/"
        },
        "id": "9PUfeJV5xCBG",
        "outputId": "5773d7fa-83c6-49fd-c6ce-cf0a2ac3fb00"
      },
      "execution_count": 5,
      "outputs": [
        {
          "output_type": "execute_result",
          "data": {
            "text/plain": [
              "(495, 16)"
            ]
          },
          "metadata": {},
          "execution_count": 5
        }
      ]
    },
    {
      "cell_type": "code",
      "source": [
        "df.isnull().sum()"
      ],
      "metadata": {
        "colab": {
          "base_uri": "https://localhost:8080/"
        },
        "id": "CnbvflLQxCEO",
        "outputId": "4f7ef1e1-a5fa-495d-b012-30e51cbb67cd"
      },
      "execution_count": 6,
      "outputs": [
        {
          "output_type": "execute_result",
          "data": {
            "text/plain": [
              "Exchange                0\n",
              "Symbol                  0\n",
              "Shortname               0\n",
              "Longname                0\n",
              "Sector                  0\n",
              "Industry                0\n",
              "Currentprice            0\n",
              "Marketcap               0\n",
              "Ebitda                 42\n",
              "Revenuegrowth          12\n",
              "City                    0\n",
              "State                  20\n",
              "Country                 0\n",
              "Fulltimeemployees       5\n",
              "Longbusinesssummary     0\n",
              "Weight                  0\n",
              "dtype: int64"
            ]
          },
          "metadata": {},
          "execution_count": 6
        }
      ]
    },
    {
      "cell_type": "code",
      "source": [
        "df['Sector'].nunique()"
      ],
      "metadata": {
        "colab": {
          "base_uri": "https://localhost:8080/"
        },
        "id": "A5UnfTXx5jCd",
        "outputId": "b5688e19-3586-4be8-e840-475b604948a8"
      },
      "execution_count": 18,
      "outputs": [
        {
          "output_type": "execute_result",
          "data": {
            "text/plain": [
              "11"
            ]
          },
          "metadata": {},
          "execution_count": 18
        }
      ]
    },
    {
      "cell_type": "code",
      "source": [
        "# Find the company with the highest market cap\n",
        "max_marketcap = df[\"Marketcap\"].max()\n",
        "company_with_max_marketcap = df.loc[df[\"Marketcap\"] == max_marketcap, \"Shortname\"].iloc[0]\n",
        "\n",
        "print(f\"The company with the highest market cap is {company_with_max_marketcap} with a market cap of {max_marketcap}.\")\n"
      ],
      "metadata": {
        "colab": {
          "base_uri": "https://localhost:8080/"
        },
        "id": "Xi85QgWX534t",
        "outputId": "d43e520c-bb9d-4869-88ab-776dc470b2d5"
      },
      "execution_count": 19,
      "outputs": [
        {
          "output_type": "stream",
          "name": "stdout",
          "text": [
            "The company with the highest market cap is Apple Inc. with a market cap of 2354875990016.\n"
          ]
        }
      ]
    },
    {
      "cell_type": "markdown",
      "source": [
        "Which company has the highest currentprice?\n",
        "\n",
        "a. Amazon.com Inc\n",
        "b. NVR, Inc\n",
        "c. Alphabet Inc\n",
        "d. Apple Inc"
      ],
      "metadata": {
        "id": "U7HTwIL_7Ig8"
      }
    },
    {
      "cell_type": "code",
      "source": [
        "# Find the company with the highest currentprice cap\n",
        "max_currentprice = df[\"Currentprice\"].max()\n",
        "company_with_max_currentprice = df.loc[df[\"Currentprice\"] == max_currentprice, \"Shortname\"].iloc[0]\n",
        "\n",
        "print(f\"The company with the highest Currentprice cap is {company_with_max_currentprice} with a Currentprice of {max_currentprice}.\")"
      ],
      "metadata": {
        "colab": {
          "base_uri": "https://localhost:8080/"
        },
        "id": "eOwlYq8q7OH3",
        "outputId": "27eded23-b953-41b9-fa2a-c4297529c92b"
      },
      "execution_count": 20,
      "outputs": [
        {
          "output_type": "stream",
          "name": "stdout",
          "text": [
            "The company with the highest Currentprice cap is NVR, Inc. with a Currentprice of 4639.01.\n"
          ]
        }
      ]
    },
    {
      "cell_type": "markdown",
      "source": [
        "Which company has fulltimeemployees more than 2000000?\n",
        "\n",
        "a. Alphabet Inc\n",
        "b. Apple Inc\n",
        "c. Amazon.com Inc\n",
        "d. Walmart Inc"
      ],
      "metadata": {
        "id": "UOA9tcEb8GTJ"
      }
    },
    {
      "cell_type": "code",
      "source": [
        "# filter companies with fulltimeemployees > 2000000\n",
        "filtered_df = df[df['Fulltimeemployees'] > 2000000]\n",
        "\n",
        "# get the company with highest marketcap\n",
        "company_with_flt = filtered_df.loc[filtered_df['Fulltimeemployees'].idxmax(), 'Shortname']\n",
        "\n",
        "print(\"Company with fulltimeemployees more than 2000000:\", company_with_flt)\n"
      ],
      "metadata": {
        "colab": {
          "base_uri": "https://localhost:8080/"
        },
        "id": "K3Dno7Ft87a-",
        "outputId": "6663097a-a723-4836-8e65-a5c570f7db5f"
      },
      "execution_count": 23,
      "outputs": [
        {
          "output_type": "stream",
          "name": "stdout",
          "text": [
            "Company with fulltimeemployees more than 2000000: Walmart Inc.\n"
          ]
        }
      ]
    },
    {
      "cell_type": "code",
      "source": [
        "df['Fulltimeemployees'] > 2000000"
      ],
      "metadata": {
        "colab": {
          "base_uri": "https://localhost:8080/"
        },
        "id": "0OsbBSUx7zaM",
        "outputId": "8f0bc7be-1076-41ed-c522-649c95f9acd4"
      },
      "execution_count": 21,
      "outputs": [
        {
          "output_type": "execute_result",
          "data": {
            "text/plain": [
              "0      False\n",
              "1      False\n",
              "2      False\n",
              "3      False\n",
              "4      False\n",
              "       ...  \n",
              "490    False\n",
              "491    False\n",
              "492    False\n",
              "493    False\n",
              "494    False\n",
              "Name: Fulltimeemployees, Length: 495, dtype: bool"
            ]
          },
          "metadata": {},
          "execution_count": 21
        }
      ]
    },
    {
      "cell_type": "code",
      "source": [
        "df.duplicated().sum()"
      ],
      "metadata": {
        "colab": {
          "base_uri": "https://localhost:8080/"
        },
        "id": "eU1BAIeWxCG6",
        "outputId": "cfa4f710-36ab-4a26-9085-421c9ce472b9"
      },
      "execution_count": 7,
      "outputs": [
        {
          "output_type": "execute_result",
          "data": {
            "text/plain": [
              "0"
            ]
          },
          "metadata": {},
          "execution_count": 7
        }
      ]
    },
    {
      "cell_type": "code",
      "source": [
        "df.info()"
      ],
      "metadata": {
        "colab": {
          "base_uri": "https://localhost:8080/"
        },
        "id": "z0uCHerExCMV",
        "outputId": "b2207030-91fe-48e8-efc2-521106ded947"
      },
      "execution_count": 9,
      "outputs": [
        {
          "output_type": "stream",
          "name": "stdout",
          "text": [
            "<class 'pandas.core.frame.DataFrame'>\n",
            "RangeIndex: 495 entries, 0 to 494\n",
            "Data columns (total 16 columns):\n",
            " #   Column               Non-Null Count  Dtype  \n",
            "---  ------               --------------  -----  \n",
            " 0   Exchange             495 non-null    object \n",
            " 1   Symbol               495 non-null    object \n",
            " 2   Shortname            495 non-null    object \n",
            " 3   Longname             495 non-null    object \n",
            " 4   Sector               495 non-null    object \n",
            " 5   Industry             495 non-null    object \n",
            " 6   Currentprice         495 non-null    float64\n",
            " 7   Marketcap            495 non-null    int64  \n",
            " 8   Ebitda               453 non-null    float64\n",
            " 9   Revenuegrowth        483 non-null    float64\n",
            " 10  City                 495 non-null    object \n",
            " 11  State                475 non-null    object \n",
            " 12  Country              495 non-null    object \n",
            " 13  Fulltimeemployees    490 non-null    float64\n",
            " 14  Longbusinesssummary  495 non-null    object \n",
            " 15  Weight               495 non-null    float64\n",
            "dtypes: float64(5), int64(1), object(10)\n",
            "memory usage: 62.0+ KB\n"
          ]
        }
      ]
    },
    {
      "cell_type": "code",
      "source": [
        "df.describe()"
      ],
      "metadata": {
        "colab": {
          "base_uri": "https://localhost:8080/",
          "height": 300
        },
        "id": "DHlh9jjpxCOi",
        "outputId": "2059b1c2-2b4b-462b-b05b-0634b15b63ee"
      },
      "execution_count": 10,
      "outputs": [
        {
          "output_type": "execute_result",
          "data": {
            "text/plain": [
              "       Currentprice     Marketcap        Ebitda  Revenuegrowth  \\\n",
              "count    495.000000  4.950000e+02  4.530000e+02     483.000000   \n",
              "mean     171.673717  7.335043e+10  6.159371e+09       0.816487   \n",
              "std      290.379414  1.784558e+11  1.227018e+10      12.465281   \n",
              "min        5.470000  3.335212e+09 -2.681000e+09      -0.444000   \n",
              "25%       59.920000  1.662387e+10  1.418000e+09       0.018500   \n",
              "50%      107.580000  3.106965e+10  2.627000e+09       0.088000   \n",
              "75%      194.015000  6.414280e+10  5.706000e+09       0.193500   \n",
              "max     4639.010000  2.354876e+12  1.305410e+11     270.791000   \n",
              "\n",
              "       Fulltimeemployees      Weight  \n",
              "count       4.900000e+02  495.000000  \n",
              "mean        5.545089e+04    0.002020  \n",
              "std         1.447732e+05    0.004915  \n",
              "min         1.050000e+02    0.000092  \n",
              "25%         9.438500e+03    0.000458  \n",
              "50%         1.940000e+04    0.000856  \n",
              "75%         5.388700e+04    0.001767  \n",
              "max         2.300000e+06    0.064857  "
            ],
            "text/html": [
              "\n",
              "  <div id=\"df-f2869217-020f-4ba3-b3ec-ee7ae83db3b9\">\n",
              "    <div class=\"colab-df-container\">\n",
              "      <div>\n",
              "<style scoped>\n",
              "    .dataframe tbody tr th:only-of-type {\n",
              "        vertical-align: middle;\n",
              "    }\n",
              "\n",
              "    .dataframe tbody tr th {\n",
              "        vertical-align: top;\n",
              "    }\n",
              "\n",
              "    .dataframe thead th {\n",
              "        text-align: right;\n",
              "    }\n",
              "</style>\n",
              "<table border=\"1\" class=\"dataframe\">\n",
              "  <thead>\n",
              "    <tr style=\"text-align: right;\">\n",
              "      <th></th>\n",
              "      <th>Currentprice</th>\n",
              "      <th>Marketcap</th>\n",
              "      <th>Ebitda</th>\n",
              "      <th>Revenuegrowth</th>\n",
              "      <th>Fulltimeemployees</th>\n",
              "      <th>Weight</th>\n",
              "    </tr>\n",
              "  </thead>\n",
              "  <tbody>\n",
              "    <tr>\n",
              "      <th>count</th>\n",
              "      <td>495.000000</td>\n",
              "      <td>4.950000e+02</td>\n",
              "      <td>4.530000e+02</td>\n",
              "      <td>483.000000</td>\n",
              "      <td>4.900000e+02</td>\n",
              "      <td>495.000000</td>\n",
              "    </tr>\n",
              "    <tr>\n",
              "      <th>mean</th>\n",
              "      <td>171.673717</td>\n",
              "      <td>7.335043e+10</td>\n",
              "      <td>6.159371e+09</td>\n",
              "      <td>0.816487</td>\n",
              "      <td>5.545089e+04</td>\n",
              "      <td>0.002020</td>\n",
              "    </tr>\n",
              "    <tr>\n",
              "      <th>std</th>\n",
              "      <td>290.379414</td>\n",
              "      <td>1.784558e+11</td>\n",
              "      <td>1.227018e+10</td>\n",
              "      <td>12.465281</td>\n",
              "      <td>1.447732e+05</td>\n",
              "      <td>0.004915</td>\n",
              "    </tr>\n",
              "    <tr>\n",
              "      <th>min</th>\n",
              "      <td>5.470000</td>\n",
              "      <td>3.335212e+09</td>\n",
              "      <td>-2.681000e+09</td>\n",
              "      <td>-0.444000</td>\n",
              "      <td>1.050000e+02</td>\n",
              "      <td>0.000092</td>\n",
              "    </tr>\n",
              "    <tr>\n",
              "      <th>25%</th>\n",
              "      <td>59.920000</td>\n",
              "      <td>1.662387e+10</td>\n",
              "      <td>1.418000e+09</td>\n",
              "      <td>0.018500</td>\n",
              "      <td>9.438500e+03</td>\n",
              "      <td>0.000458</td>\n",
              "    </tr>\n",
              "    <tr>\n",
              "      <th>50%</th>\n",
              "      <td>107.580000</td>\n",
              "      <td>3.106965e+10</td>\n",
              "      <td>2.627000e+09</td>\n",
              "      <td>0.088000</td>\n",
              "      <td>1.940000e+04</td>\n",
              "      <td>0.000856</td>\n",
              "    </tr>\n",
              "    <tr>\n",
              "      <th>75%</th>\n",
              "      <td>194.015000</td>\n",
              "      <td>6.414280e+10</td>\n",
              "      <td>5.706000e+09</td>\n",
              "      <td>0.193500</td>\n",
              "      <td>5.388700e+04</td>\n",
              "      <td>0.001767</td>\n",
              "    </tr>\n",
              "    <tr>\n",
              "      <th>max</th>\n",
              "      <td>4639.010000</td>\n",
              "      <td>2.354876e+12</td>\n",
              "      <td>1.305410e+11</td>\n",
              "      <td>270.791000</td>\n",
              "      <td>2.300000e+06</td>\n",
              "      <td>0.064857</td>\n",
              "    </tr>\n",
              "  </tbody>\n",
              "</table>\n",
              "</div>\n",
              "      <button class=\"colab-df-convert\" onclick=\"convertToInteractive('df-f2869217-020f-4ba3-b3ec-ee7ae83db3b9')\"\n",
              "              title=\"Convert this dataframe to an interactive table.\"\n",
              "              style=\"display:none;\">\n",
              "        \n",
              "  <svg xmlns=\"http://www.w3.org/2000/svg\" height=\"24px\"viewBox=\"0 0 24 24\"\n",
              "       width=\"24px\">\n",
              "    <path d=\"M0 0h24v24H0V0z\" fill=\"none\"/>\n",
              "    <path d=\"M18.56 5.44l.94 2.06.94-2.06 2.06-.94-2.06-.94-.94-2.06-.94 2.06-2.06.94zm-11 1L8.5 8.5l.94-2.06 2.06-.94-2.06-.94L8.5 2.5l-.94 2.06-2.06.94zm10 10l.94 2.06.94-2.06 2.06-.94-2.06-.94-.94-2.06-.94 2.06-2.06.94z\"/><path d=\"M17.41 7.96l-1.37-1.37c-.4-.4-.92-.59-1.43-.59-.52 0-1.04.2-1.43.59L10.3 9.45l-7.72 7.72c-.78.78-.78 2.05 0 2.83L4 21.41c.39.39.9.59 1.41.59.51 0 1.02-.2 1.41-.59l7.78-7.78 2.81-2.81c.8-.78.8-2.07 0-2.86zM5.41 20L4 18.59l7.72-7.72 1.47 1.35L5.41 20z\"/>\n",
              "  </svg>\n",
              "      </button>\n",
              "      \n",
              "  <style>\n",
              "    .colab-df-container {\n",
              "      display:flex;\n",
              "      flex-wrap:wrap;\n",
              "      gap: 12px;\n",
              "    }\n",
              "\n",
              "    .colab-df-convert {\n",
              "      background-color: #E8F0FE;\n",
              "      border: none;\n",
              "      border-radius: 50%;\n",
              "      cursor: pointer;\n",
              "      display: none;\n",
              "      fill: #1967D2;\n",
              "      height: 32px;\n",
              "      padding: 0 0 0 0;\n",
              "      width: 32px;\n",
              "    }\n",
              "\n",
              "    .colab-df-convert:hover {\n",
              "      background-color: #E2EBFA;\n",
              "      box-shadow: 0px 1px 2px rgba(60, 64, 67, 0.3), 0px 1px 3px 1px rgba(60, 64, 67, 0.15);\n",
              "      fill: #174EA6;\n",
              "    }\n",
              "\n",
              "    [theme=dark] .colab-df-convert {\n",
              "      background-color: #3B4455;\n",
              "      fill: #D2E3FC;\n",
              "    }\n",
              "\n",
              "    [theme=dark] .colab-df-convert:hover {\n",
              "      background-color: #434B5C;\n",
              "      box-shadow: 0px 1px 3px 1px rgba(0, 0, 0, 0.15);\n",
              "      filter: drop-shadow(0px 1px 2px rgba(0, 0, 0, 0.3));\n",
              "      fill: #FFFFFF;\n",
              "    }\n",
              "  </style>\n",
              "\n",
              "      <script>\n",
              "        const buttonEl =\n",
              "          document.querySelector('#df-f2869217-020f-4ba3-b3ec-ee7ae83db3b9 button.colab-df-convert');\n",
              "        buttonEl.style.display =\n",
              "          google.colab.kernel.accessAllowed ? 'block' : 'none';\n",
              "\n",
              "        async function convertToInteractive(key) {\n",
              "          const element = document.querySelector('#df-f2869217-020f-4ba3-b3ec-ee7ae83db3b9');\n",
              "          const dataTable =\n",
              "            await google.colab.kernel.invokeFunction('convertToInteractive',\n",
              "                                                     [key], {});\n",
              "          if (!dataTable) return;\n",
              "\n",
              "          const docLinkHtml = 'Like what you see? Visit the ' +\n",
              "            '<a target=\"_blank\" href=https://colab.research.google.com/notebooks/data_table.ipynb>data table notebook</a>'\n",
              "            + ' to learn more about interactive tables.';\n",
              "          element.innerHTML = '';\n",
              "          dataTable['output_type'] = 'display_data';\n",
              "          await google.colab.output.renderOutput(dataTable, element);\n",
              "          const docLink = document.createElement('div');\n",
              "          docLink.innerHTML = docLinkHtml;\n",
              "          element.appendChild(docLink);\n",
              "        }\n",
              "      </script>\n",
              "    </div>\n",
              "  </div>\n",
              "  "
            ]
          },
          "metadata": {},
          "execution_count": 10
        }
      ]
    },
    {
      "cell_type": "code",
      "source": [
        "# What is the output of the following code?\n",
        "x = [4,2,1,6,3,6,8,0,5,2,1,7,0,2]\n",
        "np.var(x, ddof=1)"
      ],
      "metadata": {
        "colab": {
          "base_uri": "https://localhost:8080/"
        },
        "id": "mpqpQzMjxCRP",
        "outputId": "99615b3b-da8c-4584-894d-a908d038abeb"
      },
      "execution_count": 11,
      "outputs": [
        {
          "output_type": "execute_result",
          "data": {
            "text/plain": [
              "7.016483516483515"
            ]
          },
          "metadata": {},
          "execution_count": 11
        }
      ]
    },
    {
      "cell_type": "code",
      "source": [
        "A = np.array([[3,2],[4,1],[2,5]])\n",
        "B = np.array([[6,11],[4,12],[2,15]])\n",
        "np.cross(A,B)"
      ],
      "metadata": {
        "colab": {
          "base_uri": "https://localhost:8080/"
        },
        "id": "eWeUyJ40xCV1",
        "outputId": "74e26d3e-e762-434e-f5c3-f522de683a74"
      },
      "execution_count": 12,
      "outputs": [
        {
          "output_type": "execute_result",
          "data": {
            "text/plain": [
              "array([21, 44, 20])"
            ]
          },
          "metadata": {},
          "execution_count": 12
        }
      ]
    },
    {
      "cell_type": "code",
      "source": [
        "A = np.array([4,5,6])\n",
        "B = np.array([1,2,3])\n",
        "np.hstack((B,A))"
      ],
      "metadata": {
        "colab": {
          "base_uri": "https://localhost:8080/"
        },
        "id": "pRE93naXzped",
        "outputId": "13387940-84c9-4300-8615-bc809dc9ddc1"
      },
      "execution_count": 13,
      "outputs": [
        {
          "output_type": "execute_result",
          "data": {
            "text/plain": [
              "array([1, 2, 3, 4, 5, 6])"
            ]
          },
          "metadata": {},
          "execution_count": 13
        }
      ]
    },
    {
      "cell_type": "code",
      "source": [
        "# What will be the output of the following code?\n",
        "A = np.array([[4],[5],[6]])\n",
        "B = np.array([[1],[2],[3]])\n",
        "np.column_stack((A,B))"
      ],
      "metadata": {
        "colab": {
          "base_uri": "https://localhost:8080/"
        },
        "id": "J-Z6v1MDzzQo",
        "outputId": "952b36c5-46e0-4c97-a53d-d7dba8c8ceac"
      },
      "execution_count": 14,
      "outputs": [
        {
          "output_type": "execute_result",
          "data": {
            "text/plain": [
              "array([[4, 1],\n",
              "       [5, 2],\n",
              "       [6, 3]])"
            ]
          },
          "metadata": {},
          "execution_count": 14
        }
      ]
    },
    {
      "cell_type": "code",
      "source": [
        "A = np.array([1,2,3,4,5])"
      ],
      "metadata": {
        "id": "BfpBZ2XE0TYt"
      },
      "execution_count": null,
      "outputs": []
    },
    {
      "cell_type": "code",
      "source": [
        "# Group the companies by state and count the number of companies in each state\n",
        "state_counts = df.groupby('State')['Shortname'].count()\n",
        "\n",
        "# Sort the states based on the count of companies and take the first row to get the state with the most number of sp500 companies\n",
        "state_with_most_companies = state_counts.sort_values(ascending=False).index[0]\n",
        "\n",
        "print(\"State with the most number of sp500 companies:\", state_with_most_companies)\n"
      ],
      "metadata": {
        "colab": {
          "base_uri": "https://localhost:8080/"
        },
        "id": "5yK1mbiN-I9b",
        "outputId": "1d5727d6-9fe5-43de-ef5d-6b3faafc7511"
      },
      "execution_count": 25,
      "outputs": [
        {
          "output_type": "stream",
          "name": "stdout",
          "text": [
            "State with the most number of sp500 companies: CA\n"
          ]
        }
      ]
    },
    {
      "cell_type": "code",
      "source": [
        "# Filter for revenue growth greater than 0.1 and sort by current price\n",
        "filtered_df = df[df['Revenuegrowth'] > 0.1].sort_values('Currentprice')\n",
        "\n",
        "# Print the company with the lowest current price\n",
        "print(filtered_df.iloc[0]['Shortname'])"
      ],
      "metadata": {
        "colab": {
          "base_uri": "https://localhost:8080/"
        },
        "id": "eeanoYxU_HBp",
        "outputId": "9db12d4a-156b-43b8-e4e1-4a5c928a6ef9"
      },
      "execution_count": 27,
      "outputs": [
        {
          "output_type": "stream",
          "name": "stdout",
          "text": [
            "Carnival Corporation\n"
          ]
        }
      ]
    },
    {
      "cell_type": "code",
      "source": [
        "california_companies = df[df['State'] == 'CA']\n",
        "sector_count = california_companies['Sector'].value_counts()\n",
        "most_common_sector = sector_count.index[0]\n",
        "print(\"The sector with the most number of companies in California is:\", most_common_sector)\n",
        "\n"
      ],
      "metadata": {
        "colab": {
          "base_uri": "https://localhost:8080/"
        },
        "id": "57UiU0a5CmCJ",
        "outputId": "1705f362-700c-48b8-f94d-b452e1ac4cc0"
      },
      "execution_count": 30,
      "outputs": [
        {
          "output_type": "stream",
          "name": "stdout",
          "text": [
            "The sector with the most number of companies in California is: Technology\n"
          ]
        }
      ]
    },
    {
      "cell_type": "code",
      "source": [
        "# Compute the correlation matrix\n",
        "corr_matrix = df.corr()\n"
      ],
      "metadata": {
        "colab": {
          "base_uri": "https://localhost:8080/"
        },
        "id": "jzMKv2LGDZv1",
        "outputId": "bf6fee67-a019-42bf-b727-ae5b6f2d1bf2"
      },
      "execution_count": 34,
      "outputs": [
        {
          "output_type": "stream",
          "name": "stderr",
          "text": [
            "<ipython-input-34-5f6d38d23b14>:2: FutureWarning: The default value of numeric_only in DataFrame.corr is deprecated. In a future version, it will default to False. Select only valid columns or specify the value of numeric_only to silence this warning.\n",
            "  corr_matrix = df.corr()\n"
          ]
        }
      ]
    },
    {
      "cell_type": "code",
      "source": [
        "# Calculate the correlation matrix between all columns\n",
        "corr_matrix = df.corr()\n",
        "\n",
        "# Print the correlation values between each pair of columns\n",
        "print(corr_matrix)"
      ],
      "metadata": {
        "colab": {
          "base_uri": "https://localhost:8080/"
        },
        "id": "7UEq15HIEB8c",
        "outputId": "4c4ff8cc-18cc-4a71-d8e9-75ff24cb9ee3"
      },
      "execution_count": 35,
      "outputs": [
        {
          "output_type": "stream",
          "name": "stdout",
          "text": [
            "                   Currentprice  Marketcap    Ebitda  Revenuegrowth  \\\n",
            "Currentprice           1.000000   0.031924 -0.018301      -0.027836   \n",
            "Marketcap              0.031924   1.000000  0.889062      -0.020162   \n",
            "Ebitda                -0.018301   0.889062  1.000000      -0.034846   \n",
            "Revenuegrowth         -0.027836  -0.020162 -0.034846       1.000000   \n",
            "Fulltimeemployees      0.003568   0.352247  0.332915      -0.007083   \n",
            "Weight                 0.031924   1.000000  0.889062      -0.020162   \n",
            "\n",
            "                   Fulltimeemployees    Weight  \n",
            "Currentprice                0.003568  0.031924  \n",
            "Marketcap                   0.352247  1.000000  \n",
            "Ebitda                      0.332915  0.889062  \n",
            "Revenuegrowth              -0.007083 -0.020162  \n",
            "Fulltimeemployees           1.000000  0.352247  \n",
            "Weight                      0.352247  1.000000  \n"
          ]
        },
        {
          "output_type": "stream",
          "name": "stderr",
          "text": [
            "<ipython-input-35-1bbac2a0718d>:2: FutureWarning: The default value of numeric_only in DataFrame.corr is deprecated. In a future version, it will default to False. Select only valid columns or specify the value of numeric_only to silence this warning.\n",
            "  corr_matrix = df.corr()\n"
          ]
        }
      ]
    }
  ]
}