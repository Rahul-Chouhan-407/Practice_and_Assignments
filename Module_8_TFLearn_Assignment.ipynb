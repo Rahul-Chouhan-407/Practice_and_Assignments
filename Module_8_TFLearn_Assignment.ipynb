{
  "nbformat": 4,
  "nbformat_minor": 0,
  "metadata": {
    "colab": {
      "provenance": [],
      "authorship_tag": "ABX9TyOkqeqQ8tt6uv4ZF1udg5Cy",
      "include_colab_link": true
    },
    "kernelspec": {
      "name": "python3",
      "display_name": "Python 3"
    },
    "language_info": {
      "name": "python"
    }
  },
  "cells": [
    {
      "cell_type": "markdown",
      "metadata": {
        "id": "view-in-github",
        "colab_type": "text"
      },
      "source": [
        "<a href=\"https://colab.research.google.com/github/Rahul-Chouhan-407/Practice_and_Assignments/blob/main/Module_8_TFLearn_Assignment.ipynb\" target=\"_parent\"><img src=\"https://colab.research.google.com/assets/colab-badge.svg\" alt=\"Open In Colab\"/></a>"
      ]
    },
    {
      "cell_type": "markdown",
      "source": [
        "# **Module 8: TFLearn Assignment**\n",
        "\n",
        "**Tasks to be Done:**\n",
        "**A. Start off by loading the ‘breast_cancer’ dataset from ‘sklearn’**\n",
        "\n",
        "a. Print the number of samples and number of features in the data\n",
        "\n",
        "b. Divide the data into train & test sets with with test set size to be equal to 0.33\n",
        "\n",
        "c. Create the network:\n",
        "\n",
        "i. Start with the input layer\n",
        "\n",
        "ii. Add two hidden layers, where each layer has 32 nodes\n",
        "\n",
        "iii. The final layer’s activation should be ‘softmax’\n",
        "\n",
        "iv. Fit the model on the train set\n",
        "\n",
        "v. Evaluate the accuracy for train and test set"
      ],
      "metadata": {
        "id": "4kGEtGrbKgGX"
      }
    },
    {
      "cell_type": "code",
      "execution_count": 1,
      "metadata": {
        "id": "qqDU9W1RIGdC"
      },
      "outputs": [],
      "source": [
        "from sklearn.datasets import load_breast_cancer\n",
        "from sklearn.model_selection import train_test_split\n",
        "from keras.models import Sequential\n",
        "from keras.layers import Dense"
      ]
    },
    {
      "cell_type": "code",
      "source": [
        "# load breast cancer dataset\n",
        "data = load_breast_cancer()"
      ],
      "metadata": {
        "id": "ia0qv01kIl6p"
      },
      "execution_count": 2,
      "outputs": []
    },
    {
      "cell_type": "code",
      "source": [
        "# print number of samples and number of features\n",
        "print(\"Number of samples:\", data.data.shape[0])\n",
        "print(\"Number of features:\", data.data.shape[1])"
      ],
      "metadata": {
        "colab": {
          "base_uri": "https://localhost:8080/"
        },
        "id": "NjFa6iK3ImAa",
        "outputId": "71143971-13c6-4ed7-9bf1-48427cb0b095"
      },
      "execution_count": 3,
      "outputs": [
        {
          "output_type": "stream",
          "name": "stdout",
          "text": [
            "Number of samples: 569\n",
            "Number of features: 30\n"
          ]
        }
      ]
    },
    {
      "cell_type": "code",
      "source": [
        "print(data.data)"
      ],
      "metadata": {
        "colab": {
          "base_uri": "https://localhost:8080/"
        },
        "id": "PP5NSHhlJBP0",
        "outputId": "518524d4-bc6b-4916-8762-8dccc19ec4f6"
      },
      "execution_count": 6,
      "outputs": [
        {
          "output_type": "stream",
          "name": "stdout",
          "text": [
            "[[1.799e+01 1.038e+01 1.228e+02 ... 2.654e-01 4.601e-01 1.189e-01]\n",
            " [2.057e+01 1.777e+01 1.329e+02 ... 1.860e-01 2.750e-01 8.902e-02]\n",
            " [1.969e+01 2.125e+01 1.300e+02 ... 2.430e-01 3.613e-01 8.758e-02]\n",
            " ...\n",
            " [1.660e+01 2.808e+01 1.083e+02 ... 1.418e-01 2.218e-01 7.820e-02]\n",
            " [2.060e+01 2.933e+01 1.401e+02 ... 2.650e-01 4.087e-01 1.240e-01]\n",
            " [7.760e+00 2.454e+01 4.792e+01 ... 0.000e+00 2.871e-01 7.039e-02]]\n"
          ]
        }
      ]
    },
    {
      "cell_type": "code",
      "source": [
        "print(data.DESCR)"
      ],
      "metadata": {
        "colab": {
          "base_uri": "https://localhost:8080/"
        },
        "id": "9VRexVkeJqvX",
        "outputId": "ab78d8d5-ea45-4f40-d51b-5ed79a39eb0a"
      },
      "execution_count": 7,
      "outputs": [
        {
          "output_type": "stream",
          "name": "stdout",
          "text": [
            ".. _breast_cancer_dataset:\n",
            "\n",
            "Breast cancer wisconsin (diagnostic) dataset\n",
            "--------------------------------------------\n",
            "\n",
            "**Data Set Characteristics:**\n",
            "\n",
            "    :Number of Instances: 569\n",
            "\n",
            "    :Number of Attributes: 30 numeric, predictive attributes and the class\n",
            "\n",
            "    :Attribute Information:\n",
            "        - radius (mean of distances from center to points on the perimeter)\n",
            "        - texture (standard deviation of gray-scale values)\n",
            "        - perimeter\n",
            "        - area\n",
            "        - smoothness (local variation in radius lengths)\n",
            "        - compactness (perimeter^2 / area - 1.0)\n",
            "        - concavity (severity of concave portions of the contour)\n",
            "        - concave points (number of concave portions of the contour)\n",
            "        - symmetry\n",
            "        - fractal dimension (\"coastline approximation\" - 1)\n",
            "\n",
            "        The mean, standard error, and \"worst\" or largest (mean of the three\n",
            "        worst/largest values) of these features were computed for each image,\n",
            "        resulting in 30 features.  For instance, field 0 is Mean Radius, field\n",
            "        10 is Radius SE, field 20 is Worst Radius.\n",
            "\n",
            "        - class:\n",
            "                - WDBC-Malignant\n",
            "                - WDBC-Benign\n",
            "\n",
            "    :Summary Statistics:\n",
            "\n",
            "    ===================================== ====== ======\n",
            "                                           Min    Max\n",
            "    ===================================== ====== ======\n",
            "    radius (mean):                        6.981  28.11\n",
            "    texture (mean):                       9.71   39.28\n",
            "    perimeter (mean):                     43.79  188.5\n",
            "    area (mean):                          143.5  2501.0\n",
            "    smoothness (mean):                    0.053  0.163\n",
            "    compactness (mean):                   0.019  0.345\n",
            "    concavity (mean):                     0.0    0.427\n",
            "    concave points (mean):                0.0    0.201\n",
            "    symmetry (mean):                      0.106  0.304\n",
            "    fractal dimension (mean):             0.05   0.097\n",
            "    radius (standard error):              0.112  2.873\n",
            "    texture (standard error):             0.36   4.885\n",
            "    perimeter (standard error):           0.757  21.98\n",
            "    area (standard error):                6.802  542.2\n",
            "    smoothness (standard error):          0.002  0.031\n",
            "    compactness (standard error):         0.002  0.135\n",
            "    concavity (standard error):           0.0    0.396\n",
            "    concave points (standard error):      0.0    0.053\n",
            "    symmetry (standard error):            0.008  0.079\n",
            "    fractal dimension (standard error):   0.001  0.03\n",
            "    radius (worst):                       7.93   36.04\n",
            "    texture (worst):                      12.02  49.54\n",
            "    perimeter (worst):                    50.41  251.2\n",
            "    area (worst):                         185.2  4254.0\n",
            "    smoothness (worst):                   0.071  0.223\n",
            "    compactness (worst):                  0.027  1.058\n",
            "    concavity (worst):                    0.0    1.252\n",
            "    concave points (worst):               0.0    0.291\n",
            "    symmetry (worst):                     0.156  0.664\n",
            "    fractal dimension (worst):            0.055  0.208\n",
            "    ===================================== ====== ======\n",
            "\n",
            "    :Missing Attribute Values: None\n",
            "\n",
            "    :Class Distribution: 212 - Malignant, 357 - Benign\n",
            "\n",
            "    :Creator:  Dr. William H. Wolberg, W. Nick Street, Olvi L. Mangasarian\n",
            "\n",
            "    :Donor: Nick Street\n",
            "\n",
            "    :Date: November, 1995\n",
            "\n",
            "This is a copy of UCI ML Breast Cancer Wisconsin (Diagnostic) datasets.\n",
            "https://goo.gl/U2Uwz2\n",
            "\n",
            "Features are computed from a digitized image of a fine needle\n",
            "aspirate (FNA) of a breast mass.  They describe\n",
            "characteristics of the cell nuclei present in the image.\n",
            "\n",
            "Separating plane described above was obtained using\n",
            "Multisurface Method-Tree (MSM-T) [K. P. Bennett, \"Decision Tree\n",
            "Construction Via Linear Programming.\" Proceedings of the 4th\n",
            "Midwest Artificial Intelligence and Cognitive Science Society,\n",
            "pp. 97-101, 1992], a classification method which uses linear\n",
            "programming to construct a decision tree.  Relevant features\n",
            "were selected using an exhaustive search in the space of 1-4\n",
            "features and 1-3 separating planes.\n",
            "\n",
            "The actual linear program used to obtain the separating plane\n",
            "in the 3-dimensional space is that described in:\n",
            "[K. P. Bennett and O. L. Mangasarian: \"Robust Linear\n",
            "Programming Discrimination of Two Linearly Inseparable Sets\",\n",
            "Optimization Methods and Software 1, 1992, 23-34].\n",
            "\n",
            "This database is also available through the UW CS ftp server:\n",
            "\n",
            "ftp ftp.cs.wisc.edu\n",
            "cd math-prog/cpo-dataset/machine-learn/WDBC/\n",
            "\n",
            ".. topic:: References\n",
            "\n",
            "   - W.N. Street, W.H. Wolberg and O.L. Mangasarian. Nuclear feature extraction \n",
            "     for breast tumor diagnosis. IS&T/SPIE 1993 International Symposium on \n",
            "     Electronic Imaging: Science and Technology, volume 1905, pages 861-870,\n",
            "     San Jose, CA, 1993.\n",
            "   - O.L. Mangasarian, W.N. Street and W.H. Wolberg. Breast cancer diagnosis and \n",
            "     prognosis via linear programming. Operations Research, 43(4), pages 570-577, \n",
            "     July-August 1995.\n",
            "   - W.H. Wolberg, W.N. Street, and O.L. Mangasarian. Machine learning techniques\n",
            "     to diagnose breast cancer from fine-needle aspirates. Cancer Letters 77 (1994) \n",
            "     163-171.\n"
          ]
        }
      ]
    },
    {
      "cell_type": "code",
      "source": [
        "# divide data into train and test sets\n",
        "trainX, testX, trainY, testY = train_test_split(data.data, data.target, test_size=0.33, random_state=42)"
      ],
      "metadata": {
        "id": "ApAUDM5LImH9"
      },
      "execution_count": 8,
      "outputs": []
    },
    {
      "cell_type": "code",
      "source": [
        "# create the network\n",
        "model = Sequential()\n",
        "model.add(Dense(32, input_dim=trainX.shape[1], activation='relu'))\n",
        "model.add(Dense(32, activation='relu'))\n",
        "model.add(Dense(1, activation='softmax'))\n",
        "model.compile(loss='binary_crossentropy', optimizer='adam', metrics=['accuracy'])"
      ],
      "metadata": {
        "id": "Dkh1r1HmImM8"
      },
      "execution_count": 9,
      "outputs": []
    },
    {
      "cell_type": "code",
      "source": [
        "# fit the model on train set\n",
        "model.fit(trainX, trainY, epochs=50, batch_size=10, verbose=2)"
      ],
      "metadata": {
        "colab": {
          "base_uri": "https://localhost:8080/"
        },
        "id": "RgNGrTgrImSb",
        "outputId": "0bf3ac94-2c04-488f-9f25-8772c223c7bb"
      },
      "execution_count": 10,
      "outputs": [
        {
          "output_type": "stream",
          "name": "stdout",
          "text": [
            "Epoch 1/50\n",
            "39/39 - 1s - loss: 10.5366 - accuracy: 0.6194 - 1s/epoch - 30ms/step\n",
            "Epoch 2/50\n",
            "39/39 - 0s - loss: 0.7478 - accuracy: 0.6194 - 74ms/epoch - 2ms/step\n",
            "Epoch 3/50\n",
            "39/39 - 0s - loss: 0.3360 - accuracy: 0.6194 - 66ms/epoch - 2ms/step\n",
            "Epoch 4/50\n",
            "39/39 - 0s - loss: 0.3420 - accuracy: 0.6194 - 79ms/epoch - 2ms/step\n",
            "Epoch 5/50\n",
            "39/39 - 0s - loss: 0.5448 - accuracy: 0.6194 - 72ms/epoch - 2ms/step\n",
            "Epoch 6/50\n",
            "39/39 - 0s - loss: 0.6726 - accuracy: 0.6194 - 64ms/epoch - 2ms/step\n",
            "Epoch 7/50\n",
            "39/39 - 0s - loss: 0.4637 - accuracy: 0.6194 - 64ms/epoch - 2ms/step\n",
            "Epoch 8/50\n",
            "39/39 - 0s - loss: 0.3252 - accuracy: 0.6194 - 66ms/epoch - 2ms/step\n",
            "Epoch 9/50\n",
            "39/39 - 0s - loss: 0.3858 - accuracy: 0.6194 - 77ms/epoch - 2ms/step\n",
            "Epoch 10/50\n",
            "39/39 - 0s - loss: 0.9015 - accuracy: 0.6194 - 72ms/epoch - 2ms/step\n",
            "Epoch 11/50\n",
            "39/39 - 0s - loss: 0.5476 - accuracy: 0.6194 - 59ms/epoch - 2ms/step\n",
            "Epoch 12/50\n",
            "39/39 - 0s - loss: 0.4556 - accuracy: 0.6194 - 56ms/epoch - 1ms/step\n",
            "Epoch 13/50\n",
            "39/39 - 0s - loss: 0.3753 - accuracy: 0.6194 - 57ms/epoch - 1ms/step\n",
            "Epoch 14/50\n",
            "39/39 - 0s - loss: 0.4192 - accuracy: 0.6194 - 69ms/epoch - 2ms/step\n",
            "Epoch 15/50\n",
            "39/39 - 0s - loss: 0.4825 - accuracy: 0.6194 - 58ms/epoch - 1ms/step\n",
            "Epoch 16/50\n",
            "39/39 - 0s - loss: 0.3386 - accuracy: 0.6194 - 57ms/epoch - 1ms/step\n",
            "Epoch 17/50\n",
            "39/39 - 0s - loss: 0.4689 - accuracy: 0.6194 - 59ms/epoch - 2ms/step\n",
            "Epoch 18/50\n",
            "39/39 - 0s - loss: 0.5704 - accuracy: 0.6194 - 57ms/epoch - 1ms/step\n",
            "Epoch 19/50\n",
            "39/39 - 0s - loss: 0.3330 - accuracy: 0.6194 - 60ms/epoch - 2ms/step\n",
            "Epoch 20/50\n",
            "39/39 - 0s - loss: 0.4898 - accuracy: 0.6194 - 58ms/epoch - 1ms/step\n",
            "Epoch 21/50\n",
            "39/39 - 0s - loss: 0.3124 - accuracy: 0.6194 - 56ms/epoch - 1ms/step\n",
            "Epoch 22/50\n",
            "39/39 - 0s - loss: 0.2791 - accuracy: 0.6194 - 66ms/epoch - 2ms/step\n",
            "Epoch 23/50\n",
            "39/39 - 0s - loss: 0.3026 - accuracy: 0.6194 - 59ms/epoch - 2ms/step\n",
            "Epoch 24/50\n",
            "39/39 - 0s - loss: 0.4033 - accuracy: 0.6194 - 61ms/epoch - 2ms/step\n",
            "Epoch 25/50\n",
            "39/39 - 0s - loss: 0.4308 - accuracy: 0.6194 - 67ms/epoch - 2ms/step\n",
            "Epoch 26/50\n",
            "39/39 - 0s - loss: 0.3367 - accuracy: 0.6194 - 57ms/epoch - 1ms/step\n",
            "Epoch 27/50\n",
            "39/39 - 0s - loss: 0.3333 - accuracy: 0.6194 - 61ms/epoch - 2ms/step\n",
            "Epoch 28/50\n",
            "39/39 - 0s - loss: 0.2490 - accuracy: 0.6194 - 62ms/epoch - 2ms/step\n",
            "Epoch 29/50\n",
            "39/39 - 0s - loss: 0.4511 - accuracy: 0.6194 - 60ms/epoch - 2ms/step\n",
            "Epoch 30/50\n",
            "39/39 - 0s - loss: 0.6437 - accuracy: 0.6194 - 56ms/epoch - 1ms/step\n",
            "Epoch 31/50\n",
            "39/39 - 0s - loss: 0.3581 - accuracy: 0.6194 - 57ms/epoch - 1ms/step\n",
            "Epoch 32/50\n",
            "39/39 - 0s - loss: 0.2372 - accuracy: 0.6194 - 58ms/epoch - 1ms/step\n",
            "Epoch 33/50\n",
            "39/39 - 0s - loss: 0.3391 - accuracy: 0.6194 - 62ms/epoch - 2ms/step\n",
            "Epoch 34/50\n",
            "39/39 - 0s - loss: 0.2660 - accuracy: 0.6194 - 58ms/epoch - 1ms/step\n",
            "Epoch 35/50\n",
            "39/39 - 0s - loss: 0.3071 - accuracy: 0.6194 - 62ms/epoch - 2ms/step\n",
            "Epoch 36/50\n",
            "39/39 - 0s - loss: 0.3959 - accuracy: 0.6194 - 59ms/epoch - 2ms/step\n",
            "Epoch 37/50\n",
            "39/39 - 0s - loss: 0.6178 - accuracy: 0.6194 - 59ms/epoch - 2ms/step\n",
            "Epoch 38/50\n",
            "39/39 - 0s - loss: 0.4032 - accuracy: 0.6194 - 64ms/epoch - 2ms/step\n",
            "Epoch 39/50\n",
            "39/39 - 0s - loss: 0.2486 - accuracy: 0.6194 - 57ms/epoch - 1ms/step\n",
            "Epoch 40/50\n",
            "39/39 - 0s - loss: 0.3047 - accuracy: 0.6194 - 58ms/epoch - 1ms/step\n",
            "Epoch 41/50\n",
            "39/39 - 0s - loss: 0.3404 - accuracy: 0.6194 - 71ms/epoch - 2ms/step\n",
            "Epoch 42/50\n",
            "39/39 - 0s - loss: 0.4841 - accuracy: 0.6194 - 60ms/epoch - 2ms/step\n",
            "Epoch 43/50\n",
            "39/39 - 0s - loss: 0.2993 - accuracy: 0.6194 - 57ms/epoch - 1ms/step\n",
            "Epoch 44/50\n",
            "39/39 - 0s - loss: 0.2886 - accuracy: 0.6194 - 59ms/epoch - 2ms/step\n",
            "Epoch 45/50\n",
            "39/39 - 0s - loss: 0.2911 - accuracy: 0.6194 - 61ms/epoch - 2ms/step\n",
            "Epoch 46/50\n",
            "39/39 - 0s - loss: 0.2374 - accuracy: 0.6194 - 59ms/epoch - 2ms/step\n",
            "Epoch 47/50\n",
            "39/39 - 0s - loss: 0.2411 - accuracy: 0.6194 - 63ms/epoch - 2ms/step\n",
            "Epoch 48/50\n",
            "39/39 - 0s - loss: 0.2039 - accuracy: 0.6194 - 68ms/epoch - 2ms/step\n",
            "Epoch 49/50\n",
            "39/39 - 0s - loss: 0.2215 - accuracy: 0.6194 - 61ms/epoch - 2ms/step\n",
            "Epoch 50/50\n",
            "39/39 - 0s - loss: 0.2307 - accuracy: 0.6194 - 59ms/epoch - 2ms/step\n"
          ]
        },
        {
          "output_type": "execute_result",
          "data": {
            "text/plain": [
              "<keras.callbacks.History at 0x7f5562371750>"
            ]
          },
          "metadata": {},
          "execution_count": 10
        }
      ]
    },
    {
      "cell_type": "code",
      "source": [
        "# evaluate accuracy for train and test sets\n",
        "train_acc = model.evaluate(trainX, trainY, verbose=0)\n",
        "test_acc = model.evaluate(testX, testY, verbose=0)"
      ],
      "metadata": {
        "id": "zZjTRodyImZA"
      },
      "execution_count": 11,
      "outputs": []
    },
    {
      "cell_type": "code",
      "source": [
        "print(\"Train Accuracy:\", train_acc[1])\n",
        "print(\"Test Accuracy:\", test_acc[1])"
      ],
      "metadata": {
        "colab": {
          "base_uri": "https://localhost:8080/"
        },
        "id": "5DemGqLlImd_",
        "outputId": "9b5a8c83-21cc-48f1-ca49-8a8be7172a81"
      },
      "execution_count": 12,
      "outputs": [
        {
          "output_type": "stream",
          "name": "stdout",
          "text": [
            "Train Accuracy: 0.6194225549697876\n",
            "Test Accuracy: 0.6436170339584351\n"
          ]
        }
      ]
    }
  ]
}