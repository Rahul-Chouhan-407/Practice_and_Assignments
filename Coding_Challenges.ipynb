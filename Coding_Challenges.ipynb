{
  "nbformat": 4,
  "nbformat_minor": 0,
  "metadata": {
    "colab": {
      "provenance": [],
      "authorship_tag": "ABX9TyP1sXT7OeSAOuOGIhq6V6pE",
      "include_colab_link": true
    },
    "kernelspec": {
      "name": "python3",
      "display_name": "Python 3"
    },
    "language_info": {
      "name": "python"
    }
  },
  "cells": [
    {
      "cell_type": "markdown",
      "metadata": {
        "id": "view-in-github",
        "colab_type": "text"
      },
      "source": [
        "<a href=\"https://colab.research.google.com/github/Rahul-Chouhan-407/Practice_and_Assignments/blob/main/Coding_Challenges.ipynb\" target=\"_parent\"><img src=\"https://colab.research.google.com/assets/colab-badge.svg\" alt=\"Open In Colab\"/></a>"
      ]
    },
    {
      "cell_type": "code",
      "execution_count": 4,
      "metadata": {
        "colab": {
          "base_uri": "https://localhost:8080/",
          "height": 35
        },
        "id": "OHIvn-pIeDL6",
        "outputId": "bd7ee53f-a965-4696-9e2a-b55369b86f91"
      },
      "outputs": [
        {
          "output_type": "execute_result",
          "data": {
            "text/plain": [
              "'RAHUL CHOUHAN'"
            ],
            "application/vnd.google.colaboratory.intrinsic+json": {
              "type": "string"
            }
          },
          "metadata": {},
          "execution_count": 4
        }
      ],
      "source": [
        "# CC1 - Lowercase to Uppercase\n",
        "\n",
        "def low_to_up(string):\n",
        "  new_string = string.upper()\n",
        "  return new_string\n",
        "\n",
        "low_to_up(\"RaHuL chouHAN\")"
      ]
    },
    {
      "cell_type": "code",
      "source": [
        "# CC2 - Swith Case\n",
        "\n",
        "def switch_case(string):\n",
        "  new_string = ' '\n",
        "  for letter in string:\n",
        "    if letter.islower():\n",
        "      new_string = new_string + letter.upper()\n",
        "    else:\n",
        "      new_string = new_string + letter.lower()\n",
        "  return(new_string)\n",
        "\n",
        "print(switch_case(\"RaHuL\"))\n",
        "print(switch_case(\"IntelliPaat\"))\n",
        "print(switch_case(\"almaBettER\"))\n",
        "print(switch_case(\"IiT MadRAS\"))\n",
        "print(switch_case(\"LinkEDin\"))"
      ],
      "metadata": {
        "colab": {
          "base_uri": "https://localhost:8080/"
        },
        "id": "v4xC9-juep6u",
        "outputId": "aad21bca-eb63-4569-90d4-be0098ccf065"
      },
      "execution_count": 13,
      "outputs": [
        {
          "output_type": "stream",
          "name": "stdout",
          "text": [
            " rAhUl\n",
            " iNTELLIpAAT\n",
            " ALMAbETTer\n",
            " iIt mADras\n",
            " lINKedIN\n"
          ]
        }
      ]
    },
    {
      "cell_type": "code",
      "source": [
        "# CC3 - Gerund\n",
        "\n",
        "def is_gerund(string):\n",
        "  if string[-3:] == 'ing':\n",
        "    return \"to \" + string[0:-3]\n",
        "  else:\n",
        "    return \"Not a Gerund\"\n",
        "  return string\n",
        "is_gerund(\"flicking\")"
      ],
      "metadata": {
        "colab": {
          "base_uri": "https://localhost:8080/",
          "height": 35
        },
        "id": "7ZqYit4vilIu",
        "outputId": "fc8c98d3-64d2-4069-f7a5-80f6a39409fa"
      },
      "execution_count": 23,
      "outputs": [
        {
          "output_type": "execute_result",
          "data": {
            "text/plain": [
              "'to flick'"
            ],
            "application/vnd.google.colaboratory.intrinsic+json": {
              "type": "string"
            }
          },
          "metadata": {},
          "execution_count": 23
        }
      ]
    },
    {
      "cell_type": "code",
      "source": [
        "# CC4 - If starts with 'a' print Rahul else print Chouhan\n",
        "\n",
        "def starta(string):\n",
        "  if string[0] == 'a' or string[0] == 'A':\n",
        "    return \"Rahul\"\n",
        "  else:\n",
        "    return \"Chouhan\"\n",
        "\n",
        "starta(\"Abhimantrit\")"
      ],
      "metadata": {
        "colab": {
          "base_uri": "https://localhost:8080/",
          "height": 35
        },
        "id": "xl-zBVRclAlc",
        "outputId": "9341d7e4-33ef-4f36-eac6-af539f856734"
      },
      "execution_count": 32,
      "outputs": [
        {
          "output_type": "execute_result",
          "data": {
            "text/plain": [
              "'Rahul'"
            ],
            "application/vnd.google.colaboratory.intrinsic+json": {
              "type": "string"
            }
          },
          "metadata": {},
          "execution_count": 32
        }
      ]
    },
    {
      "cell_type": "code",
      "source": [
        "# CC5 - Reverse Slicing\n",
        "\n",
        "def rev_slicing(string):\n",
        "  return string[::-1]\n",
        "\n",
        "rev_slicing(\"Rahul Chouhan\")"
      ],
      "metadata": {
        "colab": {
          "base_uri": "https://localhost:8080/",
          "height": 35
        },
        "id": "HhhE3qhel0PJ",
        "outputId": "11f864bc-c0bf-4239-e9a3-94442780070c"
      },
      "execution_count": 37,
      "outputs": [
        {
          "output_type": "execute_result",
          "data": {
            "text/plain": [
              "'nahuohC luhaR'"
            ],
            "application/vnd.google.colaboratory.intrinsic+json": {
              "type": "string"
            }
          },
          "metadata": {},
          "execution_count": 37
        }
      ]
    },
    {
      "cell_type": "code",
      "source": [
        "# CC6 - Oxford Comma\n",
        "\n",
        "def ocomma(list):\n",
        "  list[-1] = \"and \" + list[-1]\n",
        "  return ', '.join(list)\n",
        "\n",
        "ocomma([\"a\", \"b\", \"c\"])"
      ],
      "metadata": {
        "colab": {
          "base_uri": "https://localhost:8080/",
          "height": 35
        },
        "id": "1bYMci-rmVkY",
        "outputId": "246512d0-f008-4293-ff14-e61dbc51c7d0"
      },
      "execution_count": 39,
      "outputs": [
        {
          "output_type": "execute_result",
          "data": {
            "text/plain": [
              "'a, b, and c'"
            ],
            "application/vnd.google.colaboratory.intrinsic+json": {
              "type": "string"
            }
          },
          "metadata": {},
          "execution_count": 39
        }
      ]
    }
  ]
}