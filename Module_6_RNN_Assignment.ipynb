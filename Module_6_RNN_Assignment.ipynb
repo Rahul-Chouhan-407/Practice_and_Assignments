{
  "nbformat": 4,
  "nbformat_minor": 0,
  "metadata": {
    "colab": {
      "provenance": [],
      "authorship_tag": "ABX9TyP46Qe0VQVqGDKmbpmMeuk0",
      "include_colab_link": true
    },
    "kernelspec": {
      "name": "python3",
      "display_name": "Python 3"
    },
    "language_info": {
      "name": "python"
    }
  },
  "cells": [
    {
      "cell_type": "markdown",
      "metadata": {
        "id": "view-in-github",
        "colab_type": "text"
      },
      "source": [
        "<a href=\"https://colab.research.google.com/github/Rahul-Chouhan-407/Practice_and_Assignments/blob/main/Module_6_RNN_Assignment.ipynb\" target=\"_parent\"><img src=\"https://colab.research.google.com/assets/colab-badge.svg\" alt=\"Open In Colab\"/></a>"
      ]
    },
    {
      "cell_type": "markdown",
      "source": [
        "# **Module 6: RNN Assignment**\n",
        "\n",
        "**Tasks to be Done:**\n",
        "Using airline-passenger Dataset try to predict the number of passengers for next month,given the number of passengers (in units of thousands) for this month\n",
        "\n",
        "**A. You can write a simple function to convert our single column of data into a two-column dataset:**\n",
        "\n",
        "a. The first column containing this month’s (t) passenger count and the second\n",
        "column containing next month’s (t+1) passenger count, to be predicted.\n",
        "\n",
        "b. Divide the data into train and test set\n",
        "\n",
        "c. Fit an LSTM model on top of the data where the optimizer = ‘adam’ and epoch\n",
        "=’100’\n",
        "\n",
        "d. Build another model where optimizer = ‘sgd’ and epoch = ‘50’"
      ],
      "metadata": {
        "id": "URCKGdiP_-89"
      }
    },
    {
      "cell_type": "code",
      "source": [
        "import numpy as np\n",
        "import pandas as pd\n",
        "from sklearn.preprocessing import MinMaxScaler\n",
        "from tensorflow.keras.models import Sequential\n",
        "from tensorflow.keras.layers import Dense, LSTM\n",
        "import matplotlib.pyplot as plt"
      ],
      "metadata": {
        "id": "cO_i-AyL5amc"
      },
      "execution_count": 4,
      "outputs": []
    },
    {
      "cell_type": "code",
      "source": [
        "# Load the dataset\n",
        "df = pd.read_csv('/content/airline-passengers.csv', usecols=[1])"
      ],
      "metadata": {
        "id": "r-b7MfcJ7Ndf"
      },
      "execution_count": 5,
      "outputs": []
    },
    {
      "cell_type": "code",
      "source": [
        "# Convert the data into a two-column dataset\n",
        "data = df.values.astype('float32')\n",
        "look_back = 1\n",
        "trainX, trainY = [], []\n",
        "for i in range(len(data)-look_back-1):\n",
        "    trainX.append(data[i:i+look_back, 0])\n",
        "    trainY.append(data[i+look_back, 0])\n",
        "trainX = np.array(trainX)\n",
        "trainY = np.array(trainY)\n",
        "trainX = np.reshape(trainX, (trainX.shape[0], 1, trainX.shape[1]))"
      ],
      "metadata": {
        "id": "UYEidx2L7N4P"
      },
      "execution_count": 6,
      "outputs": []
    },
    {
      "cell_type": "code",
      "source": [
        "# Split the data into training and testing sets\n",
        "train_size = int(len(data) * 0.67)\n",
        "test_size = len(data) - train_size\n",
        "trainX, testX = trainX[0:train_size,:,:], trainX[train_size:len(data),:,:]\n",
        "trainY, testY = trainY[0:train_size], trainY[train_size:len(data)]"
      ],
      "metadata": {
        "id": "M23lwBbd7Ock"
      },
      "execution_count": 7,
      "outputs": []
    },
    {
      "cell_type": "code",
      "source": [
        "# Scale the data\n",
        "scaler = MinMaxScaler(feature_range=(0, 1))\n",
        "trainX = scaler.fit_transform(trainX.reshape(-1, 1)).reshape(trainX.shape)\n",
        "testX = scaler.transform(testX.reshape(-1, 1)).reshape(testX.shape)"
      ],
      "metadata": {
        "id": "M5GSybP77PAo"
      },
      "execution_count": 8,
      "outputs": []
    },
    {
      "cell_type": "code",
      "source": [
        "# Create and fit an LSTM network with adam optimizer\n",
        "model1 = Sequential()\n",
        "model1.add(LSTM(4, input_shape=(1, look_back)))\n",
        "model1.add(Dense(1))\n",
        "model1.compile(loss='mean_squared_error', optimizer='adam')\n",
        "model1.fit(trainX, trainY, epochs=100, batch_size=1, verbose=2)"
      ],
      "metadata": {
        "colab": {
          "base_uri": "https://localhost:8080/",
          "height": 0
        },
        "id": "0UyWZttt7PjD",
        "outputId": "22c80fc8-dac5-451a-9d51-72d4ff4ba718"
      },
      "execution_count": 9,
      "outputs": [
        {
          "output_type": "stream",
          "name": "stdout",
          "text": [
            "Epoch 1/100\n",
            "96/96 - 3s - loss: 51668.1562 - 3s/epoch - 35ms/step\n",
            "Epoch 2/100\n",
            "96/96 - 0s - loss: 51581.9023 - 176ms/epoch - 2ms/step\n",
            "Epoch 3/100\n",
            "96/96 - 0s - loss: 51477.1406 - 187ms/epoch - 2ms/step\n",
            "Epoch 4/100\n",
            "96/96 - 0s - loss: 51336.3789 - 202ms/epoch - 2ms/step\n",
            "Epoch 5/100\n",
            "96/96 - 0s - loss: 51152.6875 - 175ms/epoch - 2ms/step\n",
            "Epoch 6/100\n",
            "96/96 - 0s - loss: 50926.3633 - 184ms/epoch - 2ms/step\n",
            "Epoch 7/100\n",
            "96/96 - 0s - loss: 50669.1211 - 198ms/epoch - 2ms/step\n",
            "Epoch 8/100\n",
            "96/96 - 0s - loss: 50395.2305 - 171ms/epoch - 2ms/step\n",
            "Epoch 9/100\n",
            "96/96 - 0s - loss: 50120.1250 - 172ms/epoch - 2ms/step\n",
            "Epoch 10/100\n",
            "96/96 - 0s - loss: 49851.9570 - 181ms/epoch - 2ms/step\n",
            "Epoch 11/100\n",
            "96/96 - 0s - loss: 49591.6875 - 198ms/epoch - 2ms/step\n",
            "Epoch 12/100\n",
            "96/96 - 0s - loss: 49340.7930 - 201ms/epoch - 2ms/step\n",
            "Epoch 13/100\n",
            "96/96 - 0s - loss: 49098.6055 - 211ms/epoch - 2ms/step\n",
            "Epoch 14/100\n",
            "96/96 - 0s - loss: 48865.0273 - 220ms/epoch - 2ms/step\n",
            "Epoch 15/100\n",
            "96/96 - 0s - loss: 48639.1289 - 202ms/epoch - 2ms/step\n",
            "Epoch 16/100\n",
            "96/96 - 0s - loss: 48420.1211 - 193ms/epoch - 2ms/step\n",
            "Epoch 17/100\n",
            "96/96 - 0s - loss: 48208.5195 - 188ms/epoch - 2ms/step\n",
            "Epoch 18/100\n",
            "96/96 - 0s - loss: 48002.2930 - 197ms/epoch - 2ms/step\n",
            "Epoch 19/100\n",
            "96/96 - 0s - loss: 47800.8086 - 191ms/epoch - 2ms/step\n",
            "Epoch 20/100\n",
            "96/96 - 0s - loss: 47605.1211 - 195ms/epoch - 2ms/step\n",
            "Epoch 21/100\n",
            "96/96 - 0s - loss: 47412.7812 - 196ms/epoch - 2ms/step\n",
            "Epoch 22/100\n",
            "96/96 - 0s - loss: 47224.4219 - 199ms/epoch - 2ms/step\n",
            "Epoch 23/100\n",
            "96/96 - 0s - loss: 47039.8281 - 200ms/epoch - 2ms/step\n",
            "Epoch 24/100\n",
            "96/96 - 0s - loss: 46858.0039 - 214ms/epoch - 2ms/step\n",
            "Epoch 25/100\n",
            "96/96 - 0s - loss: 46679.7539 - 195ms/epoch - 2ms/step\n",
            "Epoch 26/100\n",
            "96/96 - 0s - loss: 46504.4062 - 187ms/epoch - 2ms/step\n",
            "Epoch 27/100\n",
            "96/96 - 0s - loss: 46330.9219 - 176ms/epoch - 2ms/step\n",
            "Epoch 28/100\n",
            "96/96 - 0s - loss: 46159.9336 - 192ms/epoch - 2ms/step\n",
            "Epoch 29/100\n",
            "96/96 - 0s - loss: 45991.4102 - 194ms/epoch - 2ms/step\n",
            "Epoch 30/100\n",
            "96/96 - 0s - loss: 45824.3555 - 176ms/epoch - 2ms/step\n",
            "Epoch 31/100\n",
            "96/96 - 0s - loss: 45659.3633 - 176ms/epoch - 2ms/step\n",
            "Epoch 32/100\n",
            "96/96 - 0s - loss: 45496.0977 - 195ms/epoch - 2ms/step\n",
            "Epoch 33/100\n",
            "96/96 - 0s - loss: 45334.2617 - 187ms/epoch - 2ms/step\n",
            "Epoch 34/100\n",
            "96/96 - 0s - loss: 45174.0664 - 170ms/epoch - 2ms/step\n",
            "Epoch 35/100\n",
            "96/96 - 0s - loss: 45015.1758 - 167ms/epoch - 2ms/step\n",
            "Epoch 36/100\n",
            "96/96 - 0s - loss: 44857.5742 - 191ms/epoch - 2ms/step\n",
            "Epoch 37/100\n",
            "96/96 - 0s - loss: 44701.2930 - 194ms/epoch - 2ms/step\n",
            "Epoch 38/100\n",
            "96/96 - 0s - loss: 44546.1719 - 189ms/epoch - 2ms/step\n",
            "Epoch 39/100\n",
            "96/96 - 0s - loss: 44391.9102 - 189ms/epoch - 2ms/step\n",
            "Epoch 40/100\n",
            "96/96 - 0s - loss: 44239.1523 - 173ms/epoch - 2ms/step\n",
            "Epoch 41/100\n",
            "96/96 - 0s - loss: 44087.1367 - 175ms/epoch - 2ms/step\n",
            "Epoch 42/100\n",
            "96/96 - 0s - loss: 43936.0156 - 189ms/epoch - 2ms/step\n",
            "Epoch 43/100\n",
            "96/96 - 0s - loss: 43785.4805 - 183ms/epoch - 2ms/step\n",
            "Epoch 44/100\n",
            "96/96 - 0s - loss: 43636.3594 - 181ms/epoch - 2ms/step\n",
            "Epoch 45/100\n",
            "96/96 - 0s - loss: 43487.5703 - 207ms/epoch - 2ms/step\n",
            "Epoch 46/100\n",
            "96/96 - 0s - loss: 43340.1367 - 206ms/epoch - 2ms/step\n",
            "Epoch 47/100\n",
            "96/96 - 0s - loss: 43193.0859 - 197ms/epoch - 2ms/step\n",
            "Epoch 48/100\n",
            "96/96 - 0s - loss: 43046.4570 - 180ms/epoch - 2ms/step\n",
            "Epoch 49/100\n",
            "96/96 - 0s - loss: 42901.2031 - 191ms/epoch - 2ms/step\n",
            "Epoch 50/100\n",
            "96/96 - 0s - loss: 42756.2188 - 226ms/epoch - 2ms/step\n",
            "Epoch 51/100\n",
            "96/96 - 0s - loss: 42611.7617 - 265ms/epoch - 3ms/step\n",
            "Epoch 52/100\n",
            "96/96 - 0s - loss: 42468.3633 - 284ms/epoch - 3ms/step\n",
            "Epoch 53/100\n",
            "96/96 - 0s - loss: 42325.7188 - 272ms/epoch - 3ms/step\n",
            "Epoch 54/100\n",
            "96/96 - 0s - loss: 42182.6484 - 299ms/epoch - 3ms/step\n",
            "Epoch 55/100\n",
            "96/96 - 0s - loss: 42040.8672 - 308ms/epoch - 3ms/step\n",
            "Epoch 56/100\n",
            "96/96 - 0s - loss: 41899.2305 - 292ms/epoch - 3ms/step\n",
            "Epoch 57/100\n",
            "96/96 - 0s - loss: 41758.1133 - 322ms/epoch - 3ms/step\n",
            "Epoch 58/100\n",
            "96/96 - 0s - loss: 41617.6289 - 335ms/epoch - 3ms/step\n",
            "Epoch 59/100\n",
            "96/96 - 0s - loss: 41477.7617 - 236ms/epoch - 2ms/step\n",
            "Epoch 60/100\n",
            "96/96 - 0s - loss: 41338.4727 - 199ms/epoch - 2ms/step\n",
            "Epoch 61/100\n",
            "96/96 - 0s - loss: 41199.3711 - 188ms/epoch - 2ms/step\n",
            "Epoch 62/100\n",
            "96/96 - 0s - loss: 41060.8711 - 182ms/epoch - 2ms/step\n",
            "Epoch 63/100\n",
            "96/96 - 0s - loss: 40922.7188 - 197ms/epoch - 2ms/step\n",
            "Epoch 64/100\n",
            "96/96 - 0s - loss: 40784.9805 - 181ms/epoch - 2ms/step\n",
            "Epoch 65/100\n",
            "96/96 - 0s - loss: 40647.6172 - 197ms/epoch - 2ms/step\n",
            "Epoch 66/100\n",
            "96/96 - 0s - loss: 40511.1016 - 199ms/epoch - 2ms/step\n",
            "Epoch 67/100\n",
            "96/96 - 0s - loss: 40374.4961 - 175ms/epoch - 2ms/step\n",
            "Epoch 68/100\n",
            "96/96 - 0s - loss: 40238.5469 - 183ms/epoch - 2ms/step\n",
            "Epoch 69/100\n",
            "96/96 - 0s - loss: 40103.0586 - 198ms/epoch - 2ms/step\n",
            "Epoch 70/100\n",
            "96/96 - 0s - loss: 39967.7539 - 209ms/epoch - 2ms/step\n",
            "Epoch 71/100\n",
            "96/96 - 0s - loss: 39832.9883 - 189ms/epoch - 2ms/step\n",
            "Epoch 72/100\n",
            "96/96 - 0s - loss: 39698.5742 - 199ms/epoch - 2ms/step\n",
            "Epoch 73/100\n",
            "96/96 - 0s - loss: 39564.6094 - 203ms/epoch - 2ms/step\n",
            "Epoch 74/100\n",
            "96/96 - 0s - loss: 39430.9258 - 178ms/epoch - 2ms/step\n",
            "Epoch 75/100\n",
            "96/96 - 0s - loss: 39297.8477 - 227ms/epoch - 2ms/step\n",
            "Epoch 76/100\n",
            "96/96 - 0s - loss: 39164.7500 - 213ms/epoch - 2ms/step\n",
            "Epoch 77/100\n",
            "96/96 - 0s - loss: 39032.1328 - 218ms/epoch - 2ms/step\n",
            "Epoch 78/100\n",
            "96/96 - 0s - loss: 38899.8789 - 218ms/epoch - 2ms/step\n",
            "Epoch 79/100\n",
            "96/96 - 0s - loss: 38768.1484 - 225ms/epoch - 2ms/step\n",
            "Epoch 80/100\n",
            "96/96 - 0s - loss: 38636.2344 - 235ms/epoch - 2ms/step\n",
            "Epoch 81/100\n",
            "96/96 - 0s - loss: 38505.2227 - 230ms/epoch - 2ms/step\n",
            "Epoch 82/100\n",
            "96/96 - 0s - loss: 38374.4531 - 226ms/epoch - 2ms/step\n",
            "Epoch 83/100\n",
            "96/96 - 0s - loss: 38243.9570 - 182ms/epoch - 2ms/step\n",
            "Epoch 84/100\n",
            "96/96 - 0s - loss: 38114.1875 - 199ms/epoch - 2ms/step\n",
            "Epoch 85/100\n",
            "96/96 - 0s - loss: 37984.2148 - 181ms/epoch - 2ms/step\n",
            "Epoch 86/100\n",
            "96/96 - 0s - loss: 37854.4492 - 179ms/epoch - 2ms/step\n",
            "Epoch 87/100\n",
            "96/96 - 0s - loss: 37725.7461 - 172ms/epoch - 2ms/step\n",
            "Epoch 88/100\n",
            "96/96 - 0s - loss: 37596.9062 - 175ms/epoch - 2ms/step\n",
            "Epoch 89/100\n",
            "96/96 - 0s - loss: 37468.2461 - 213ms/epoch - 2ms/step\n",
            "Epoch 90/100\n",
            "96/96 - 0s - loss: 37340.5547 - 191ms/epoch - 2ms/step\n",
            "Epoch 91/100\n",
            "96/96 - 0s - loss: 37212.5820 - 200ms/epoch - 2ms/step\n",
            "Epoch 92/100\n",
            "96/96 - 0s - loss: 37084.7852 - 203ms/epoch - 2ms/step\n",
            "Epoch 93/100\n",
            "96/96 - 0s - loss: 36958.0273 - 171ms/epoch - 2ms/step\n",
            "Epoch 94/100\n",
            "96/96 - 0s - loss: 36831.0078 - 177ms/epoch - 2ms/step\n",
            "Epoch 95/100\n",
            "96/96 - 0s - loss: 36703.9648 - 213ms/epoch - 2ms/step\n",
            "Epoch 96/100\n",
            "96/96 - 0s - loss: 36578.4102 - 197ms/epoch - 2ms/step\n",
            "Epoch 97/100\n",
            "96/96 - 0s - loss: 36452.1328 - 191ms/epoch - 2ms/step\n",
            "Epoch 98/100\n",
            "96/96 - 0s - loss: 36326.4570 - 190ms/epoch - 2ms/step\n",
            "Epoch 99/100\n",
            "96/96 - 0s - loss: 36200.9414 - 187ms/epoch - 2ms/step\n",
            "Epoch 100/100\n",
            "96/96 - 0s - loss: 36075.9258 - 184ms/epoch - 2ms/step\n"
          ]
        },
        {
          "output_type": "execute_result",
          "data": {
            "text/plain": [
              "<keras.callbacks.History at 0x7ff9c8c83c70>"
            ]
          },
          "metadata": {},
          "execution_count": 9
        }
      ]
    },
    {
      "cell_type": "code",
      "source": [
        "# Create and fit another LSTM network with sgd optimizer\n",
        "model2 = Sequential()\n",
        "model2.add(LSTM(4, input_shape=(1, look_back)))\n",
        "model2.add(Dense(1))\n",
        "model2.compile(loss='mean_squared_error', optimizer='sgd')\n",
        "model2.fit(trainX, trainY, epochs=50, batch_size=1, verbose=2)"
      ],
      "metadata": {
        "colab": {
          "base_uri": "https://localhost:8080/",
          "height": 0
        },
        "id": "bSippiCD7QEy",
        "outputId": "19ed1a73-7461-41e5-e4b9-5175173cd641"
      },
      "execution_count": 10,
      "outputs": [
        {
          "output_type": "stream",
          "name": "stdout",
          "text": [
            "Epoch 1/50\n",
            "96/96 - 2s - loss: 10358.3193 - 2s/epoch - 20ms/step\n",
            "Epoch 2/50\n",
            "96/96 - 0s - loss: 5675.0327 - 165ms/epoch - 2ms/step\n",
            "Epoch 3/50\n",
            "96/96 - 0s - loss: 5346.6841 - 160ms/epoch - 2ms/step\n",
            "Epoch 4/50\n",
            "96/96 - 0s - loss: 4551.0532 - 167ms/epoch - 2ms/step\n",
            "Epoch 5/50\n",
            "96/96 - 0s - loss: 3107.1208 - 165ms/epoch - 2ms/step\n",
            "Epoch 6/50\n",
            "96/96 - 0s - loss: 2760.4822 - 175ms/epoch - 2ms/step\n",
            "Epoch 7/50\n",
            "96/96 - 0s - loss: 2791.8723 - 160ms/epoch - 2ms/step\n",
            "Epoch 8/50\n",
            "96/96 - 0s - loss: 2889.0283 - 193ms/epoch - 2ms/step\n",
            "Epoch 9/50\n",
            "96/96 - 0s - loss: 5681.6294 - 158ms/epoch - 2ms/step\n",
            "Epoch 10/50\n",
            "96/96 - 0s - loss: 3833.4265 - 186ms/epoch - 2ms/step\n",
            "Epoch 11/50\n",
            "96/96 - 0s - loss: 4131.3745 - 191ms/epoch - 2ms/step\n",
            "Epoch 12/50\n",
            "96/96 - 0s - loss: 3158.2439 - 202ms/epoch - 2ms/step\n",
            "Epoch 13/50\n",
            "96/96 - 0s - loss: 3009.5771 - 187ms/epoch - 2ms/step\n",
            "Epoch 14/50\n",
            "96/96 - 0s - loss: 2582.0388 - 175ms/epoch - 2ms/step\n",
            "Epoch 15/50\n",
            "96/96 - 0s - loss: 2247.7747 - 166ms/epoch - 2ms/step\n",
            "Epoch 16/50\n",
            "96/96 - 0s - loss: 2541.3567 - 164ms/epoch - 2ms/step\n",
            "Epoch 17/50\n",
            "96/96 - 0s - loss: 2696.1443 - 186ms/epoch - 2ms/step\n",
            "Epoch 18/50\n",
            "96/96 - 0s - loss: 2253.5212 - 161ms/epoch - 2ms/step\n",
            "Epoch 19/50\n",
            "96/96 - 0s - loss: 2297.6619 - 175ms/epoch - 2ms/step\n",
            "Epoch 20/50\n",
            "96/96 - 0s - loss: 2049.5168 - 165ms/epoch - 2ms/step\n",
            "Epoch 21/50\n",
            "96/96 - 0s - loss: 2494.9578 - 187ms/epoch - 2ms/step\n",
            "Epoch 22/50\n",
            "96/96 - 0s - loss: 2078.1462 - 168ms/epoch - 2ms/step\n",
            "Epoch 23/50\n",
            "96/96 - 0s - loss: 2755.8337 - 209ms/epoch - 2ms/step\n",
            "Epoch 24/50\n",
            "96/96 - 0s - loss: 2234.0066 - 183ms/epoch - 2ms/step\n",
            "Epoch 25/50\n",
            "96/96 - 0s - loss: 2151.8625 - 170ms/epoch - 2ms/step\n",
            "Epoch 26/50\n",
            "96/96 - 0s - loss: 2148.4788 - 168ms/epoch - 2ms/step\n",
            "Epoch 27/50\n",
            "96/96 - 0s - loss: 1903.9736 - 162ms/epoch - 2ms/step\n",
            "Epoch 28/50\n",
            "96/96 - 0s - loss: 2145.8572 - 165ms/epoch - 2ms/step\n",
            "Epoch 29/50\n",
            "96/96 - 0s - loss: 2459.7898 - 167ms/epoch - 2ms/step\n",
            "Epoch 30/50\n",
            "96/96 - 0s - loss: 1960.1466 - 157ms/epoch - 2ms/step\n",
            "Epoch 31/50\n",
            "96/96 - 0s - loss: 2674.9141 - 174ms/epoch - 2ms/step\n",
            "Epoch 32/50\n",
            "96/96 - 0s - loss: 2142.1655 - 178ms/epoch - 2ms/step\n",
            "Epoch 33/50\n",
            "96/96 - 0s - loss: 1859.3883 - 183ms/epoch - 2ms/step\n",
            "Epoch 34/50\n",
            "96/96 - 0s - loss: 2476.5210 - 169ms/epoch - 2ms/step\n",
            "Epoch 35/50\n",
            "96/96 - 0s - loss: 2291.8481 - 206ms/epoch - 2ms/step\n",
            "Epoch 36/50\n",
            "96/96 - 0s - loss: 2118.9692 - 168ms/epoch - 2ms/step\n",
            "Epoch 37/50\n",
            "96/96 - 0s - loss: 2257.2598 - 182ms/epoch - 2ms/step\n",
            "Epoch 38/50\n",
            "96/96 - 0s - loss: 2003.9370 - 180ms/epoch - 2ms/step\n",
            "Epoch 39/50\n",
            "96/96 - 0s - loss: 1821.8258 - 183ms/epoch - 2ms/step\n",
            "Epoch 40/50\n",
            "96/96 - 0s - loss: 2592.1511 - 183ms/epoch - 2ms/step\n",
            "Epoch 41/50\n",
            "96/96 - 0s - loss: 2087.3357 - 167ms/epoch - 2ms/step\n",
            "Epoch 42/50\n",
            "96/96 - 0s - loss: 2078.8958 - 173ms/epoch - 2ms/step\n",
            "Epoch 43/50\n",
            "96/96 - 0s - loss: 2381.2727 - 176ms/epoch - 2ms/step\n",
            "Epoch 44/50\n",
            "96/96 - 0s - loss: 2353.5247 - 167ms/epoch - 2ms/step\n",
            "Epoch 45/50\n",
            "96/96 - 0s - loss: 2142.1697 - 173ms/epoch - 2ms/step\n",
            "Epoch 46/50\n",
            "96/96 - 0s - loss: 2067.9438 - 195ms/epoch - 2ms/step\n",
            "Epoch 47/50\n",
            "96/96 - 0s - loss: 2084.3152 - 183ms/epoch - 2ms/step\n",
            "Epoch 48/50\n",
            "96/96 - 0s - loss: 2585.1284 - 281ms/epoch - 3ms/step\n",
            "Epoch 49/50\n",
            "96/96 - 0s - loss: 3729.5186 - 295ms/epoch - 3ms/step\n",
            "Epoch 50/50\n",
            "96/96 - 0s - loss: 2876.4238 - 272ms/epoch - 3ms/step\n"
          ]
        },
        {
          "output_type": "execute_result",
          "data": {
            "text/plain": [
              "<keras.callbacks.History at 0x7ff9c9ea7fa0>"
            ]
          },
          "metadata": {},
          "execution_count": 10
        }
      ]
    },
    {
      "cell_type": "code",
      "source": [
        "# Make predictions\n",
        "trainPredict1 = model1.predict(trainX)\n",
        "testPredict1 = model1.predict(testX)\n",
        "trainPredict2 = model2.predict(trainX)\n",
        "testPredict2 = model2.predict(testX)"
      ],
      "metadata": {
        "colab": {
          "base_uri": "https://localhost:8080/",
          "height": 0
        },
        "id": "EHSfpx-I7QnO",
        "outputId": "767b506a-30e3-4701-85d5-205f739c6b02"
      },
      "execution_count": 11,
      "outputs": [
        {
          "output_type": "stream",
          "name": "stdout",
          "text": [
            "3/3 [==============================] - 0s 4ms/step\n",
            "2/2 [==============================] - 0s 7ms/step\n",
            "3/3 [==============================] - 0s 6ms/step\n",
            "2/2 [==============================] - 1s 11ms/step\n"
          ]
        }
      ]
    },
    {
      "cell_type": "code",
      "source": [
        "# Invert predictions back to original scale\n",
        "trainPredict1 = scaler.inverse_transform(trainPredict1)\n",
        "trainY = scaler.inverse_transform([trainY])\n",
        "testPredict1 = scaler.inverse_transform(testPredict1)\n",
        "testY = scaler.inverse_transform([testY])\n",
        "trainPredict2 = scaler.inverse_transform(trainPredict2)\n",
        "testPredict2 = scaler.inverse_transform(testPredict2)"
      ],
      "metadata": {
        "id": "x-lZDY-c7ROh"
      },
      "execution_count": 12,
      "outputs": []
    },
    {
      "cell_type": "code",
      "source": [
        "# Calculate root mean squared error\n",
        "trainScore1 = np.sqrt(np.mean(np.square(trainY - trainPredict1)))\n",
        "testScore1 = np.sqrt(np.mean(np.square(testY - testPredict1)))\n",
        "trainScore2 = np.sqrt(np.mean(np.square(trainY - trainPredict2)))\n",
        "testScore2 = np.sqrt(np.mean(np.square(testY - testPredict2)))"
      ],
      "metadata": {
        "id": "2OytkD5G7R2s"
      },
      "execution_count": 13,
      "outputs": []
    },
    {
      "cell_type": "code",
      "source": [
        "# Plot the results\n",
        "plt.plot(df.values, label='Original Data')\n",
        "plt.plot([None for i in trainPredict1] + [x for x in trainPredict1], label='Model1 Training Prediction')\n",
        "plt.plot([None for i in testPredict1] + [x for x in testPredict1], label='Model1 Testing Prediction')\n",
        "plt.plot([None for i in trainPredict2] + [x for x in trainPredict2], label='Model2 Training Prediction')\n",
        "plt.plot([None for i in testPredict2] + [x for x in testPredict2], label='Model2 Testing Prediction')\n",
        "plt.legend()\n",
        "plt.show()"
      ],
      "metadata": {
        "colab": {
          "base_uri": "https://localhost:8080/",
          "height": 485
        },
        "id": "PW9TqT_T_X04",
        "outputId": "cd4e3e3f-7c23-4d02-d1a3-e9ff05f23848"
      },
      "execution_count": 14,
      "outputs": [
        {
          "output_type": "stream",
          "name": "stderr",
          "text": [
            "/usr/local/lib/python3.10/dist-packages/numpy/core/shape_base.py:65: VisibleDeprecationWarning: Creating an ndarray from ragged nested sequences (which is a list-or-tuple of lists-or-tuples-or ndarrays with different lengths or shapes) is deprecated. If you meant to do this, you must specify 'dtype=object' when creating the ndarray.\n",
            "  ary = asanyarray(ary)\n"
          ]
        },
        {
          "output_type": "display_data",
          "data": {
            "text/plain": [
              "<Figure size 640x480 with 1 Axes>"
            ],
            "image/png": "[encoded data removed]"
          },
          "metadata": {}
        }
      ]
    }
  ]
}