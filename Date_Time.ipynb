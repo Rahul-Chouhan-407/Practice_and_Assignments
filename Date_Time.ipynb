{
  "nbformat": 4,
  "nbformat_minor": 0,
  "metadata": {
    "colab": {
      "provenance": [],
      "authorship_tag": "ABX9TyMNT9GCEZCKndgOV4jY8vYo",
      "include_colab_link": true
    },
    "kernelspec": {
      "name": "python3",
      "display_name": "Python 3"
    },
    "language_info": {
      "name": "python"
    }
  },
  "cells": [
    {
      "cell_type": "markdown",
      "metadata": {
        "id": "view-in-github",
        "colab_type": "text"
      },
      "source": [
        "<a href=\"https://colab.research.google.com/github/Rahul-Chouhan-407/Practice_and_Assignments/blob/main/Date_Time.ipynb\" target=\"_parent\"><img src=\"https://colab.research.google.com/assets/colab-badge.svg\" alt=\"Open In Colab\"/></a>"
      ]
    },
    {
      "cell_type": "code",
      "execution_count": 41,
      "metadata": {
        "colab": {
          "base_uri": "https://localhost:8080/"
        },
        "id": "a70xxOjXlTKx",
        "outputId": "dfb91beb-34d0-485c-f485-25d15227a5e2"
      },
      "outputs": [
        {
          "output_type": "stream",
          "name": "stdout",
          "text": [
            "2023-10-17 07:06:45.224753\n",
            "2023-10-15 00:00:00\n",
            "2023-10-15 00:00:00\n",
            "2023-10-15 12:00:00\n"
          ]
        }
      ],
      "source": [
        "import datetime\n",
        "\n",
        "# Current date and time\n",
        "now = datetime.datetime.now()\n",
        "print(now)\n",
        "\n",
        "# Create a specific date\n",
        "specific_date = datetime.datetime(2023, 10, 15)\n",
        "print(specific_date)\n",
        "\n",
        "# Formatting dates as strings\n",
        "formatted_date = specific_date.strftime('%Y-%m-%d %H:%M:%S')\n",
        "print(formatted_date)\n",
        "\n",
        "# Parsing a date from a string\n",
        "parsed_date = datetime.datetime.strptime('2023-10-15 12:00:00', '%Y-%m-%d %H:%M:%S')\n",
        "print(parsed_date)\n"
      ]
    },
    {
      "cell_type": "code",
      "source": [
        "import datetime\n",
        "import pytz\n"
      ],
      "metadata": {
        "id": "x6VRswsZwz9A"
      },
      "execution_count": 40,
      "outputs": []
    },
    {
      "cell_type": "code",
      "source": [
        "for x in pytz.all_timezones:\n",
        "    print(x)\n"
      ],
      "metadata": {
        "colab": {
          "base_uri": "https://localhost:8080/"
        },
        "id": "gtbklzPCwxvk",
        "outputId": "4ea82aab-7802-4e72-e0d5-d29fe8b3ded8"
      },
      "execution_count": 14,
      "outputs": [
        {
          "output_type": "stream",
          "name": "stdout",
          "text": [
            "Africa/Abidjan\n",
            "Africa/Accra\n",
            "Africa/Addis_Ababa\n",
            "Africa/Algiers\n",
            "Africa/Asmara\n",
            "Africa/Asmera\n",
            "Africa/Bamako\n",
            "Africa/Bangui\n",
            "Africa/Banjul\n",
            "Africa/Bissau\n",
            "Africa/Blantyre\n",
            "Africa/Brazzaville\n",
            "Africa/Bujumbura\n",
            "Africa/Cairo\n",
            "Africa/Casablanca\n",
            "Africa/Ceuta\n",
            "Africa/Conakry\n",
            "Africa/Dakar\n",
            "Africa/Dar_es_Salaam\n",
            "Africa/Djibouti\n",
            "Africa/Douala\n",
            "Africa/El_Aaiun\n",
            "Africa/Freetown\n",
            "Africa/Gaborone\n",
            "Africa/Harare\n",
            "Africa/Johannesburg\n",
            "Africa/Juba\n",
            "Africa/Kampala\n",
            "Africa/Khartoum\n",
            "Africa/Kigali\n",
            "Africa/Kinshasa\n",
            "Africa/Lagos\n",
            "Africa/Libreville\n",
            "Africa/Lome\n",
            "Africa/Luanda\n",
            "Africa/Lubumbashi\n",
            "Africa/Lusaka\n",
            "Africa/Malabo\n",
            "Africa/Maputo\n",
            "Africa/Maseru\n",
            "Africa/Mbabane\n",
            "Africa/Mogadishu\n",
            "Africa/Monrovia\n",
            "Africa/Nairobi\n",
            "Africa/Ndjamena\n",
            "Africa/Niamey\n",
            "Africa/Nouakchott\n",
            "Africa/Ouagadougou\n",
            "Africa/Porto-Novo\n",
            "Africa/Sao_Tome\n",
            "Africa/Timbuktu\n",
            "Africa/Tripoli\n",
            "Africa/Tunis\n",
            "Africa/Windhoek\n",
            "America/Adak\n",
            "America/Anchorage\n",
            "America/Anguilla\n",
            "America/Antigua\n",
            "America/Araguaina\n",
            "America/Argentina/Buenos_Aires\n",
            "America/Argentina/Catamarca\n",
            "America/Argentina/ComodRivadavia\n",
            "America/Argentina/Cordoba\n",
            "America/Argentina/Jujuy\n",
            "America/Argentina/La_Rioja\n",
            "America/Argentina/Mendoza\n",
            "America/Argentina/Rio_Gallegos\n",
            "America/Argentina/Salta\n",
            "America/Argentina/San_Juan\n",
            "America/Argentina/San_Luis\n",
            "America/Argentina/Tucuman\n",
            "America/Argentina/Ushuaia\n",
            "America/Aruba\n",
            "America/Asuncion\n",
            "America/Atikokan\n",
            "America/Atka\n",
            "America/Bahia\n",
            "America/Bahia_Banderas\n",
            "America/Barbados\n",
            "America/Belem\n",
            "America/Belize\n",
            "America/Blanc-Sablon\n",
            "America/Boa_Vista\n",
            "America/Bogota\n",
            "America/Boise\n",
            "America/Buenos_Aires\n",
            "America/Cambridge_Bay\n",
            "America/Campo_Grande\n",
            "America/Cancun\n",
            "America/Caracas\n",
            "America/Catamarca\n",
            "America/Cayenne\n",
            "America/Cayman\n",
            "America/Chicago\n",
            "America/Chihuahua\n",
            "America/Ciudad_Juarez\n",
            "America/Coral_Harbour\n",
            "America/Cordoba\n",
            "America/Costa_Rica\n",
            "America/Creston\n",
            "America/Cuiaba\n",
            "America/Curacao\n",
            "America/Danmarkshavn\n",
            "America/Dawson\n",
            "America/Dawson_Creek\n",
            "America/Denver\n",
            "America/Detroit\n",
            "America/Dominica\n",
            "America/Edmonton\n",
            "America/Eirunepe\n",
            "America/El_Salvador\n",
            "America/Ensenada\n",
            "America/Fort_Nelson\n",
            "America/Fort_Wayne\n",
            "America/Fortaleza\n",
            "America/Glace_Bay\n",
            "America/Godthab\n",
            "America/Goose_Bay\n",
            "America/Grand_Turk\n",
            "America/Grenada\n",
            "America/Guadeloupe\n",
            "America/Guatemala\n",
            "America/Guayaquil\n",
            "America/Guyana\n",
            "America/Halifax\n",
            "America/Havana\n",
            "America/Hermosillo\n",
            "America/Indiana/Indianapolis\n",
            "America/Indiana/Knox\n",
            "America/Indiana/Marengo\n",
            "America/Indiana/Petersburg\n",
            "America/Indiana/Tell_City\n",
            "America/Indiana/Vevay\n",
            "America/Indiana/Vincennes\n",
            "America/Indiana/Winamac\n",
            "America/Indianapolis\n",
            "America/Inuvik\n",
            "America/Iqaluit\n",
            "America/Jamaica\n",
            "America/Jujuy\n",
            "America/Juneau\n",
            "America/Kentucky/Louisville\n",
            "America/Kentucky/Monticello\n",
            "America/Knox_IN\n",
            "America/Kralendijk\n",
            "America/La_Paz\n",
            "America/Lima\n",
            "America/Los_Angeles\n",
            "America/Louisville\n",
            "America/Lower_Princes\n",
            "America/Maceio\n",
            "America/Managua\n",
            "America/Manaus\n",
            "America/Marigot\n",
            "America/Martinique\n",
            "America/Matamoros\n",
            "America/Mazatlan\n",
            "America/Mendoza\n",
            "America/Menominee\n",
            "America/Merida\n",
            "America/Metlakatla\n",
            "America/Mexico_City\n",
            "America/Miquelon\n",
            "America/Moncton\n",
            "America/Monterrey\n",
            "America/Montevideo\n",
            "America/Montreal\n",
            "America/Montserrat\n",
            "America/Nassau\n",
            "America/New_York\n",
            "America/Nipigon\n",
            "America/Nome\n",
            "America/Noronha\n",
            "America/North_Dakota/Beulah\n",
            "America/North_Dakota/Center\n",
            "America/North_Dakota/New_Salem\n",
            "America/Nuuk\n",
            "America/Ojinaga\n",
            "America/Panama\n",
            "America/Pangnirtung\n",
            "America/Paramaribo\n",
            "America/Phoenix\n",
            "America/Port-au-Prince\n",
            "America/Port_of_Spain\n",
            "America/Porto_Acre\n",
            "America/Porto_Velho\n",
            "America/Puerto_Rico\n",
            "America/Punta_Arenas\n",
            "America/Rainy_River\n",
            "America/Rankin_Inlet\n",
            "America/Recife\n",
            "America/Regina\n",
            "America/Resolute\n",
            "America/Rio_Branco\n",
            "America/Rosario\n",
            "America/Santa_Isabel\n",
            "America/Santarem\n",
            "America/Santiago\n",
            "America/Santo_Domingo\n",
            "America/Sao_Paulo\n",
            "America/Scoresbysund\n",
            "America/Shiprock\n",
            "America/Sitka\n",
            "America/St_Barthelemy\n",
            "America/St_Johns\n",
            "America/St_Kitts\n",
            "America/St_Lucia\n",
            "America/St_Thomas\n",
            "America/St_Vincent\n",
            "America/Swift_Current\n",
            "America/Tegucigalpa\n",
            "America/Thule\n",
            "America/Thunder_Bay\n",
            "America/Tijuana\n",
            "America/Toronto\n",
            "America/Tortola\n",
            "America/Vancouver\n",
            "America/Virgin\n",
            "America/Whitehorse\n",
            "America/Winnipeg\n",
            "America/Yakutat\n",
            "America/Yellowknife\n",
            "Antarctica/Casey\n",
            "Antarctica/Davis\n",
            "Antarctica/DumontDUrville\n",
            "Antarctica/Macquarie\n",
            "Antarctica/Mawson\n",
            "Antarctica/McMurdo\n",
            "Antarctica/Palmer\n",
            "Antarctica/Rothera\n",
            "Antarctica/South_Pole\n",
            "Antarctica/Syowa\n",
            "Antarctica/Troll\n",
            "Antarctica/Vostok\n",
            "Arctic/Longyearbyen\n",
            "Asia/Aden\n",
            "Asia/Almaty\n",
            "Asia/Amman\n",
            "Asia/Anadyr\n",
            "Asia/Aqtau\n",
            "Asia/Aqtobe\n",
            "Asia/Ashgabat\n",
            "Asia/Ashkhabad\n",
            "Asia/Atyrau\n",
            "Asia/Baghdad\n",
            "Asia/Bahrain\n",
            "Asia/Baku\n",
            "Asia/Bangkok\n",
            "Asia/Barnaul\n",
            "Asia/Beirut\n",
            "Asia/Bishkek\n",
            "Asia/Brunei\n",
            "Asia/Calcutta\n",
            "Asia/Chita\n",
            "Asia/Choibalsan\n",
            "Asia/Chongqing\n",
            "Asia/Chungking\n",
            "Asia/Colombo\n",
            "Asia/Dacca\n",
            "Asia/Damascus\n",
            "Asia/Dhaka\n",
            "Asia/Dili\n",
            "Asia/Dubai\n",
            "Asia/Dushanbe\n",
            "Asia/Famagusta\n",
            "Asia/Gaza\n",
            "Asia/Harbin\n",
            "Asia/Hebron\n",
            "Asia/Ho_Chi_Minh\n",
            "Asia/Hong_Kong\n",
            "Asia/Hovd\n",
            "Asia/Irkutsk\n",
            "Asia/Istanbul\n",
            "Asia/Jakarta\n",
            "Asia/Jayapura\n",
            "Asia/Jerusalem\n",
            "Asia/Kabul\n",
            "Asia/Kamchatka\n",
            "Asia/Karachi\n",
            "Asia/Kashgar\n",
            "Asia/Kathmandu\n",
            "Asia/Katmandu\n",
            "Asia/Khandyga\n",
            "Asia/Kolkata\n",
            "Asia/Krasnoyarsk\n",
            "Asia/Kuala_Lumpur\n",
            "Asia/Kuching\n",
            "Asia/Kuwait\n",
            "Asia/Macao\n",
            "Asia/Macau\n",
            "Asia/Magadan\n",
            "Asia/Makassar\n",
            "Asia/Manila\n",
            "Asia/Muscat\n",
            "Asia/Nicosia\n",
            "Asia/Novokuznetsk\n",
            "Asia/Novosibirsk\n",
            "Asia/Omsk\n",
            "Asia/Oral\n",
            "Asia/Phnom_Penh\n",
            "Asia/Pontianak\n",
            "Asia/Pyongyang\n",
            "Asia/Qatar\n",
            "Asia/Qostanay\n",
            "Asia/Qyzylorda\n",
            "Asia/Rangoon\n",
            "Asia/Riyadh\n",
            "Asia/Saigon\n",
            "Asia/Sakhalin\n",
            "Asia/Samarkand\n",
            "Asia/Seoul\n",
            "Asia/Shanghai\n",
            "Asia/Singapore\n",
            "Asia/Srednekolymsk\n",
            "Asia/Taipei\n",
            "Asia/Tashkent\n",
            "Asia/Tbilisi\n",
            "Asia/Tehran\n",
            "Asia/Tel_Aviv\n",
            "Asia/Thimbu\n",
            "Asia/Thimphu\n",
            "Asia/Tokyo\n",
            "Asia/Tomsk\n",
            "Asia/Ujung_Pandang\n",
            "Asia/Ulaanbaatar\n",
            "Asia/Ulan_Bator\n",
            "Asia/Urumqi\n",
            "Asia/Ust-Nera\n",
            "Asia/Vientiane\n",
            "Asia/Vladivostok\n",
            "Asia/Yakutsk\n",
            "Asia/Yangon\n",
            "Asia/Yekaterinburg\n",
            "Asia/Yerevan\n",
            "Atlantic/Azores\n",
            "Atlantic/Bermuda\n",
            "Atlantic/Canary\n",
            "Atlantic/Cape_Verde\n",
            "Atlantic/Faeroe\n",
            "Atlantic/Faroe\n",
            "Atlantic/Jan_Mayen\n",
            "Atlantic/Madeira\n",
            "Atlantic/Reykjavik\n",
            "Atlantic/South_Georgia\n",
            "Atlantic/St_Helena\n",
            "Atlantic/Stanley\n",
            "Australia/ACT\n",
            "Australia/Adelaide\n",
            "Australia/Brisbane\n",
            "Australia/Broken_Hill\n",
            "Australia/Canberra\n",
            "Australia/Currie\n",
            "Australia/Darwin\n",
            "Australia/Eucla\n",
            "Australia/Hobart\n",
            "Australia/LHI\n",
            "Australia/Lindeman\n",
            "Australia/Lord_Howe\n",
            "Australia/Melbourne\n",
            "Australia/NSW\n",
            "Australia/North\n",
            "Australia/Perth\n",
            "Australia/Queensland\n",
            "Australia/South\n",
            "Australia/Sydney\n",
            "Australia/Tasmania\n",
            "Australia/Victoria\n",
            "Australia/West\n",
            "Australia/Yancowinna\n",
            "Brazil/Acre\n",
            "Brazil/DeNoronha\n",
            "Brazil/East\n",
            "Brazil/West\n",
            "CET\n",
            "CST6CDT\n",
            "Canada/Atlantic\n",
            "Canada/Central\n",
            "Canada/Eastern\n",
            "Canada/Mountain\n",
            "Canada/Newfoundland\n",
            "Canada/Pacific\n",
            "Canada/Saskatchewan\n",
            "Canada/Yukon\n",
            "Chile/Continental\n",
            "Chile/EasterIsland\n",
            "Cuba\n",
            "EET\n",
            "EST\n",
            "EST5EDT\n",
            "Egypt\n",
            "Eire\n",
            "Etc/GMT\n",
            "Etc/GMT+0\n",
            "Etc/GMT+1\n",
            "Etc/GMT+10\n",
            "Etc/GMT+11\n",
            "Etc/GMT+12\n",
            "Etc/GMT+2\n",
            "Etc/GMT+3\n",
            "Etc/GMT+4\n",
            "Etc/GMT+5\n",
            "Etc/GMT+6\n",
            "Etc/GMT+7\n",
            "Etc/GMT+8\n",
            "Etc/GMT+9\n",
            "Etc/GMT-0\n",
            "Etc/GMT-1\n",
            "Etc/GMT-10\n",
            "Etc/GMT-11\n",
            "Etc/GMT-12\n",
            "Etc/GMT-13\n",
            "Etc/GMT-14\n",
            "Etc/GMT-2\n",
            "Etc/GMT-3\n",
            "Etc/GMT-4\n",
            "Etc/GMT-5\n",
            "Etc/GMT-6\n",
            "Etc/GMT-7\n",
            "Etc/GMT-8\n",
            "Etc/GMT-9\n",
            "Etc/GMT0\n",
            "Etc/Greenwich\n",
            "Etc/UCT\n",
            "Etc/UTC\n",
            "Etc/Universal\n",
            "Etc/Zulu\n",
            "Europe/Amsterdam\n",
            "Europe/Andorra\n",
            "Europe/Astrakhan\n",
            "Europe/Athens\n",
            "Europe/Belfast\n",
            "Europe/Belgrade\n",
            "Europe/Berlin\n",
            "Europe/Bratislava\n",
            "Europe/Brussels\n",
            "Europe/Bucharest\n",
            "Europe/Budapest\n",
            "Europe/Busingen\n",
            "Europe/Chisinau\n",
            "Europe/Copenhagen\n",
            "Europe/Dublin\n",
            "Europe/Gibraltar\n",
            "Europe/Guernsey\n",
            "Europe/Helsinki\n",
            "Europe/Isle_of_Man\n",
            "Europe/Istanbul\n",
            "Europe/Jersey\n",
            "Europe/Kaliningrad\n",
            "Europe/Kiev\n",
            "Europe/Kirov\n",
            "Europe/Kyiv\n",
            "Europe/Lisbon\n",
            "Europe/Ljubljana\n",
            "Europe/London\n",
            "Europe/Luxembourg\n",
            "Europe/Madrid\n",
            "Europe/Malta\n",
            "Europe/Mariehamn\n",
            "Europe/Minsk\n",
            "Europe/Monaco\n",
            "Europe/Moscow\n",
            "Europe/Nicosia\n",
            "Europe/Oslo\n",
            "Europe/Paris\n",
            "Europe/Podgorica\n",
            "Europe/Prague\n",
            "Europe/Riga\n",
            "Europe/Rome\n",
            "Europe/Samara\n",
            "Europe/San_Marino\n",
            "Europe/Sarajevo\n",
            "Europe/Saratov\n",
            "Europe/Simferopol\n",
            "Europe/Skopje\n",
            "Europe/Sofia\n",
            "Europe/Stockholm\n",
            "Europe/Tallinn\n",
            "Europe/Tirane\n",
            "Europe/Tiraspol\n",
            "Europe/Ulyanovsk\n",
            "Europe/Uzhgorod\n",
            "Europe/Vaduz\n",
            "Europe/Vatican\n",
            "Europe/Vienna\n",
            "Europe/Vilnius\n",
            "Europe/Volgograd\n",
            "Europe/Warsaw\n",
            "Europe/Zagreb\n",
            "Europe/Zaporozhye\n",
            "Europe/Zurich\n",
            "GB\n",
            "GB-Eire\n",
            "GMT\n",
            "GMT+0\n",
            "GMT-0\n",
            "GMT0\n",
            "Greenwich\n",
            "HST\n",
            "Hongkong\n",
            "Iceland\n",
            "Indian/Antananarivo\n",
            "Indian/Chagos\n",
            "Indian/Christmas\n",
            "Indian/Cocos\n",
            "Indian/Comoro\n",
            "Indian/Kerguelen\n",
            "Indian/Mahe\n",
            "Indian/Maldives\n",
            "Indian/Mauritius\n",
            "Indian/Mayotte\n",
            "Indian/Reunion\n",
            "Iran\n",
            "Israel\n",
            "Jamaica\n",
            "Japan\n",
            "Kwajalein\n",
            "Libya\n",
            "MET\n",
            "MST\n",
            "MST7MDT\n",
            "Mexico/BajaNorte\n",
            "Mexico/BajaSur\n",
            "Mexico/General\n",
            "NZ\n",
            "NZ-CHAT\n",
            "Navajo\n",
            "PRC\n",
            "PST8PDT\n",
            "Pacific/Apia\n",
            "Pacific/Auckland\n",
            "Pacific/Bougainville\n",
            "Pacific/Chatham\n",
            "Pacific/Chuuk\n",
            "Pacific/Easter\n",
            "Pacific/Efate\n",
            "Pacific/Enderbury\n",
            "Pacific/Fakaofo\n",
            "Pacific/Fiji\n",
            "Pacific/Funafuti\n",
            "Pacific/Galapagos\n",
            "Pacific/Gambier\n",
            "Pacific/Guadalcanal\n",
            "Pacific/Guam\n",
            "Pacific/Honolulu\n",
            "Pacific/Johnston\n",
            "Pacific/Kanton\n",
            "Pacific/Kiritimati\n",
            "Pacific/Kosrae\n",
            "Pacific/Kwajalein\n",
            "Pacific/Majuro\n",
            "Pacific/Marquesas\n",
            "Pacific/Midway\n",
            "Pacific/Nauru\n",
            "Pacific/Niue\n",
            "Pacific/Norfolk\n",
            "Pacific/Noumea\n",
            "Pacific/Pago_Pago\n",
            "Pacific/Palau\n",
            "Pacific/Pitcairn\n",
            "Pacific/Pohnpei\n",
            "Pacific/Ponape\n",
            "Pacific/Port_Moresby\n",
            "Pacific/Rarotonga\n",
            "Pacific/Saipan\n",
            "Pacific/Samoa\n",
            "Pacific/Tahiti\n",
            "Pacific/Tarawa\n",
            "Pacific/Tongatapu\n",
            "Pacific/Truk\n",
            "Pacific/Wake\n",
            "Pacific/Wallis\n",
            "Pacific/Yap\n",
            "Poland\n",
            "Portugal\n",
            "ROC\n",
            "ROK\n",
            "Singapore\n",
            "Turkey\n",
            "UCT\n",
            "US/Alaska\n",
            "US/Aleutian\n",
            "US/Arizona\n",
            "US/Central\n",
            "US/East-Indiana\n",
            "US/Eastern\n",
            "US/Hawaii\n",
            "US/Indiana-Starke\n",
            "US/Michigan\n",
            "US/Mountain\n",
            "US/Pacific\n",
            "US/Samoa\n",
            "UTC\n",
            "Universal\n",
            "W-SU\n",
            "WET\n",
            "Zulu\n"
          ]
        }
      ]
    },
    {
      "cell_type": "code",
      "source": [
        "# Create a datetime object for the current time in a specific timezone\n",
        "timezone = pytz.timezone('Asia/Calcutta')\n",
        "aware_datetime = datetime.datetime.now(timezone)\n",
        "print(aware_datetime)\n"
      ],
      "metadata": {
        "colab": {
          "base_uri": "https://localhost:8080/"
        },
        "id": "NkIY9WqMxKLY",
        "outputId": "bc7b0b67-bf7e-4681-b25f-b16eb996040e"
      },
      "execution_count": 16,
      "outputs": [
        {
          "output_type": "stream",
          "name": "stdout",
          "text": [
            "2023-10-15 20:10:24.418330+05:30\n"
          ]
        }
      ]
    },
    {
      "cell_type": "code",
      "source": [
        "import time"
      ],
      "metadata": {
        "id": "UHkop2M2TqhH"
      },
      "execution_count": 1,
      "outputs": []
    },
    {
      "cell_type": "code",
      "source": [
        "a = time.time()\n",
        "print(a)"
      ],
      "metadata": {
        "colab": {
          "base_uri": "https://localhost:8080/"
        },
        "id": "CUMxekckTqqc",
        "outputId": "320ba874-ce1c-4c5e-aa97-83e49aee4b86"
      },
      "execution_count": 8,
      "outputs": [
        {
          "output_type": "stream",
          "name": "stdout",
          "text": [
            "1697522650.0248365\n"
          ]
        }
      ]
    },
    {
      "cell_type": "code",
      "source": [
        "time.ctime(1697522650.0248365)"
      ],
      "metadata": {
        "colab": {
          "base_uri": "https://localhost:8080/",
          "height": 35
        },
        "id": "9JFQ6vUaTqta",
        "outputId": "b16c37d9-8466-4cb4-e5c4-59a945c70d84"
      },
      "execution_count": 9,
      "outputs": [
        {
          "output_type": "execute_result",
          "data": {
            "text/plain": [
              "'Tue Oct 17 06:04:10 2023'"
            ],
            "application/vnd.google.colaboratory.intrinsic+json": {
              "type": "string"
            }
          },
          "metadata": {},
          "execution_count": 9
        }
      ]
    },
    {
      "cell_type": "code",
      "source": [
        "a = time.localtime()\n",
        "print(a)"
      ],
      "metadata": {
        "colab": {
          "base_uri": "https://localhost:8080/"
        },
        "id": "dnzSpOGRPWJ7",
        "outputId": "e6fb848c-8a0a-4532-f823-253b6cbd842c"
      },
      "execution_count": 15,
      "outputs": [
        {
          "output_type": "stream",
          "name": "stdout",
          "text": [
            "time.struct_time(tm_year=2023, tm_mon=10, tm_mday=17, tm_hour=6, tm_min=10, tm_sec=11, tm_wday=1, tm_yday=290, tm_isdst=0)\n"
          ]
        }
      ]
    },
    {
      "cell_type": "code",
      "source": [
        "b = time.mktime(a)\n",
        "print(b)"
      ],
      "metadata": {
        "colab": {
          "base_uri": "https://localhost:8080/"
        },
        "id": "sk7LbG8STqwR",
        "outputId": "93168610-4db2-44f9-c064-a745ddeca720"
      },
      "execution_count": 13,
      "outputs": [
        {
          "output_type": "stream",
          "name": "stdout",
          "text": [
            "1697522929.0\n"
          ]
        }
      ]
    },
    {
      "cell_type": "code",
      "source": [
        "time.asctime(a)"
      ],
      "metadata": {
        "colab": {
          "base_uri": "https://localhost:8080/",
          "height": 35
        },
        "id": "GQE8izmuTqys",
        "outputId": "bfe2faeb-bc54-483c-d59d-2ff4f8184d9a"
      },
      "execution_count": 16,
      "outputs": [
        {
          "output_type": "execute_result",
          "data": {
            "text/plain": [
              "'Tue Oct 17 06:10:11 2023'"
            ],
            "application/vnd.google.colaboratory.intrinsic+json": {
              "type": "string"
            }
          },
          "metadata": {},
          "execution_count": 16
        }
      ]
    },
    {
      "cell_type": "code",
      "source": [
        "help(time.strftime)"
      ],
      "metadata": {
        "colab": {
          "base_uri": "https://localhost:8080/"
        },
        "id": "hy8c86QeTq1R",
        "outputId": "e278ff14-cdbe-4f19-d1d6-3c5a0df1f186"
      },
      "execution_count": 17,
      "outputs": [
        {
          "output_type": "stream",
          "name": "stdout",
          "text": [
            "Help on built-in function strftime in module time:\n",
            "\n",
            "strftime(...)\n",
            "    strftime(format[, tuple]) -> string\n",
            "    \n",
            "    Convert a time tuple to a string according to a format specification.\n",
            "    See the library reference manual for formatting codes. When the time tuple\n",
            "    is not present, current time as returned by localtime() is used.\n",
            "    \n",
            "    Commonly used format codes:\n",
            "    \n",
            "    %Y  Year with century as a decimal number.\n",
            "    %m  Month as a decimal number [01,12].\n",
            "    %d  Day of the month as a decimal number [01,31].\n",
            "    %H  Hour (24-hour clock) as a decimal number [00,23].\n",
            "    %M  Minute as a decimal number [00,59].\n",
            "    %S  Second as a decimal number [00,61].\n",
            "    %z  Time zone offset from UTC.\n",
            "    %a  Locale's abbreviated weekday name.\n",
            "    %A  Locale's full weekday name.\n",
            "    %b  Locale's abbreviated month name.\n",
            "    %B  Locale's full month name.\n",
            "    %c  Locale's appropriate date and time representation.\n",
            "    %I  Hour (12-hour clock) as a decimal number [01,12].\n",
            "    %p  Locale's equivalent of either AM or PM.\n",
            "    \n",
            "    Other codes may be available on your platform.  See documentation for\n",
            "    the C library strftime function.\n",
            "\n"
          ]
        }
      ]
    },
    {
      "cell_type": "code",
      "source": [
        "help(time.strptime)"
      ],
      "metadata": {
        "colab": {
          "base_uri": "https://localhost:8080/"
        },
        "id": "zGNkkzvMRI2d",
        "outputId": "ad36c28d-74fd-42b9-e363-0bf69352d6ef"
      },
      "execution_count": 18,
      "outputs": [
        {
          "output_type": "stream",
          "name": "stdout",
          "text": [
            "Help on built-in function strptime in module time:\n",
            "\n",
            "strptime(...)\n",
            "    strptime(string, format) -> struct_time\n",
            "    \n",
            "    Parse a string to a time tuple according to a format specification.\n",
            "    See the library reference manual for formatting codes (same as\n",
            "    strftime()).\n",
            "    \n",
            "    Commonly used format codes:\n",
            "    \n",
            "    %Y  Year with century as a decimal number.\n",
            "    %m  Month as a decimal number [01,12].\n",
            "    %d  Day of the month as a decimal number [01,31].\n",
            "    %H  Hour (24-hour clock) as a decimal number [00,23].\n",
            "    %M  Minute as a decimal number [00,59].\n",
            "    %S  Second as a decimal number [00,61].\n",
            "    %z  Time zone offset from UTC.\n",
            "    %a  Locale's abbreviated weekday name.\n",
            "    %A  Locale's full weekday name.\n",
            "    %b  Locale's abbreviated month name.\n",
            "    %B  Locale's full month name.\n",
            "    %c  Locale's appropriate date and time representation.\n",
            "    %I  Hour (12-hour clock) as a decimal number [01,12].\n",
            "    %p  Locale's equivalent of either AM or PM.\n",
            "    \n",
            "    Other codes may be available on your platform.  See documentation for\n",
            "    the C library strftime function.\n",
            "\n"
          ]
        }
      ]
    },
    {
      "cell_type": "code",
      "source": [
        "time.strftime(\"%Y/%m/%d %H:%M:%S\")"
      ],
      "metadata": {
        "colab": {
          "base_uri": "https://localhost:8080/",
          "height": 35
        },
        "id": "aJuNkJZ9Tq3q",
        "outputId": "fd45a947-a35d-46bf-c4af-985c61518a03"
      },
      "execution_count": 20,
      "outputs": [
        {
          "output_type": "execute_result",
          "data": {
            "text/plain": [
              "'2023/10/17 06:31:16'"
            ],
            "application/vnd.google.colaboratory.intrinsic+json": {
              "type": "string"
            }
          },
          "metadata": {},
          "execution_count": 20
        }
      ]
    },
    {
      "cell_type": "code",
      "source": [
        "y = \"8 August 2023\"\n",
        "s = time.strptime(y, \"%d %B %Y\")\n",
        "print(s)"
      ],
      "metadata": {
        "colab": {
          "base_uri": "https://localhost:8080/"
        },
        "id": "0_pRFUOAVefj",
        "outputId": "77ce0921-95a2-4cd6-bf4f-dc6a6c8eee4d"
      },
      "execution_count": 32,
      "outputs": [
        {
          "output_type": "stream",
          "name": "stdout",
          "text": [
            "time.struct_time(tm_year=2023, tm_mon=8, tm_mday=8, tm_hour=0, tm_min=0, tm_sec=0, tm_wday=1, tm_yday=220, tm_isdst=-1)\n"
          ]
        }
      ]
    },
    {
      "cell_type": "code",
      "source": [
        "import datetime as dt"
      ],
      "metadata": {
        "id": "HrLlChbCcA6q"
      },
      "execution_count": 33,
      "outputs": []
    },
    {
      "cell_type": "code",
      "source": [
        "print(dt.datetime(2023,10,15,10,45,45,4567))"
      ],
      "metadata": {
        "colab": {
          "base_uri": "https://localhost:8080/"
        },
        "id": "3VuLucfpTq6C",
        "outputId": "d20c3384-0800-431a-d5f7-22a6dd16e0c4"
      },
      "execution_count": 44,
      "outputs": [
        {
          "output_type": "stream",
          "name": "stdout",
          "text": [
            "2023-10-15 10:45:45.004567\n"
          ]
        }
      ]
    },
    {
      "cell_type": "code",
      "source": [
        "timezone = pytz.timezone('Asia/Calcutta')\n",
        "aware_datetime = datetime.datetime.now(timezone)\n",
        "print(aware_datetime)"
      ],
      "metadata": {
        "colab": {
          "base_uri": "https://localhost:8080/"
        },
        "id": "K6uoKhU0cEK9",
        "outputId": "0fb3d227-977f-4ccb-cbe6-ef2f4fb5dc8e"
      },
      "execution_count": 53,
      "outputs": [
        {
          "output_type": "stream",
          "name": "stdout",
          "text": [
            "2023-10-17 12:43:09.076713+05:30\n"
          ]
        }
      ]
    },
    {
      "cell_type": "code",
      "source": [
        "aware_datetime.hour"
      ],
      "metadata": {
        "colab": {
          "base_uri": "https://localhost:8080/"
        },
        "id": "Vaxmkf7Oe0jJ",
        "outputId": "0ac746bd-5d73-4c1a-d147-cf6d4be87cde"
      },
      "execution_count": 54,
      "outputs": [
        {
          "output_type": "execute_result",
          "data": {
            "text/plain": [
              "12"
            ]
          },
          "metadata": {},
          "execution_count": 54
        }
      ]
    },
    {
      "cell_type": "code",
      "source": [
        "a = dt.datetime.now()\n",
        "print(a.day)\n",
        "print(a.month)\n",
        "print(a.year)\n",
        "print(a.hour)"
      ],
      "metadata": {
        "colab": {
          "base_uri": "https://localhost:8080/"
        },
        "id": "a_RnoBiycEN5",
        "outputId": "21061679-cc1c-4d96-bb75-c6953e0c82b8"
      },
      "execution_count": 52,
      "outputs": [
        {
          "output_type": "stream",
          "name": "stdout",
          "text": [
            "17\n",
            "10\n",
            "2023\n",
            "7\n"
          ]
        }
      ]
    },
    {
      "cell_type": "code",
      "source": [
        "print(dt.date(2023,7,4))"
      ],
      "metadata": {
        "colab": {
          "base_uri": "https://localhost:8080/"
        },
        "id": "yQqiw_stcEQz",
        "outputId": "d4122de7-d0fb-4bf9-c6fa-7b1446881d5e"
      },
      "execution_count": 57,
      "outputs": [
        {
          "output_type": "stream",
          "name": "stdout",
          "text": [
            "2023-07-04\n"
          ]
        }
      ]
    },
    {
      "cell_type": "code",
      "source": [
        "print(dt.time(12,45,45))"
      ],
      "metadata": {
        "colab": {
          "base_uri": "https://localhost:8080/"
        },
        "id": "_XmdWymLcETi",
        "outputId": "7941b6ed-bd36-41ec-82ea-18308eab7a1e"
      },
      "execution_count": 58,
      "outputs": [
        {
          "output_type": "stream",
          "name": "stdout",
          "text": [
            "12:45:45\n"
          ]
        }
      ]
    },
    {
      "cell_type": "code",
      "source": [
        "b1 = dt.timedelta(days = 10, minutes = 45, hours = 10)\n",
        "b2 = dt.timedelta(days=4)\n",
        "b3 = b1 + b2\n",
        "print(b3)\n",
        "type(b3)"
      ],
      "metadata": {
        "colab": {
          "base_uri": "https://localhost:8080/"
        },
        "id": "pNQ5hXk3cEWi",
        "outputId": "00e7c32b-1e9c-4bda-b174-7919a5c30af6"
      },
      "execution_count": 62,
      "outputs": [
        {
          "output_type": "stream",
          "name": "stdout",
          "text": [
            "14 days, 10:45:00\n"
          ]
        },
        {
          "output_type": "execute_result",
          "data": {
            "text/plain": [
              "datetime.timedelta"
            ]
          },
          "metadata": {},
          "execution_count": 62
        }
      ]
    },
    {
      "cell_type": "code",
      "source": [
        "print(dt.datetime.now(pytz.utc))\n",
        "print(dt.datetime.now())\n",
        "print(dt.datetime.now(pytz.timezone(\"Asia/Calcutta\")))"
      ],
      "metadata": {
        "colab": {
          "base_uri": "https://localhost:8080/"
        },
        "id": "9_eC89-eh7Eb",
        "outputId": "100ba96e-a4c7-4636-91c5-799b5484656e"
      },
      "execution_count": 65,
      "outputs": [
        {
          "output_type": "stream",
          "name": "stdout",
          "text": [
            "2023-10-17 07:28:24.008740+00:00\n",
            "2023-10-17 07:28:24.008910\n",
            "2023-10-17 12:58:24.009014+05:30\n"
          ]
        }
      ]
    },
    {
      "cell_type": "code",
      "source": [
        "datetime_string = \"2023-10-15 13:25:45\""
      ],
      "metadata": {
        "id": "fuEdO5bacEZb"
      },
      "execution_count": 66,
      "outputs": []
    },
    {
      "cell_type": "code",
      "source": [
        "datetime_useastern = dt.datetime.strptime(datetime_string, \"%Y-%m-%d %H:%M:%S\")"
      ],
      "metadata": {
        "id": "yBPo8RIZn9-v"
      },
      "execution_count": 68,
      "outputs": []
    },
    {
      "cell_type": "code",
      "source": [
        "print(datetime_useastern)"
      ],
      "metadata": {
        "colab": {
          "base_uri": "https://localhost:8080/"
        },
        "id": "Jwg_Vwqbn-Bz",
        "outputId": "b8145743-d9d5-47d8-dc96-60249bcaff65"
      },
      "execution_count": 69,
      "outputs": [
        {
          "output_type": "stream",
          "name": "stdout",
          "text": [
            "2023-10-15 13:25:45\n"
          ]
        }
      ]
    },
    {
      "cell_type": "code",
      "source": [
        "current_timezone = pytz.timezone(\"US/Eastern\")\n",
        "print(current_timezone)"
      ],
      "metadata": {
        "colab": {
          "base_uri": "https://localhost:8080/"
        },
        "id": "t7Py6o5dn-Es",
        "outputId": "62635042-d1ac-40c6-cce7-e3db2d1b1c18"
      },
      "execution_count": 71,
      "outputs": [
        {
          "output_type": "stream",
          "name": "stdout",
          "text": [
            "US/Eastern\n"
          ]
        }
      ]
    },
    {
      "cell_type": "code",
      "source": [
        "target_timezone = pytz.timezone(\"Asia/Calcutta\")\n",
        "print(target_timezone)"
      ],
      "metadata": {
        "colab": {
          "base_uri": "https://localhost:8080/"
        },
        "id": "pQnFI3HKn-H6",
        "outputId": "fb43edbe-67b3-4c8f-8510-14c9132f8a1b"
      },
      "execution_count": 75,
      "outputs": [
        {
          "output_type": "stream",
          "name": "stdout",
          "text": [
            "Asia/Calcutta\n"
          ]
        }
      ]
    },
    {
      "cell_type": "code",
      "source": [
        "localized_useastern = current_timezone.localize(datetime_useastern)\n",
        "print(localized_useastern)"
      ],
      "metadata": {
        "colab": {
          "base_uri": "https://localhost:8080/"
        },
        "id": "5jPjj3e3qDEW",
        "outputId": "8b9e17ee-9156-46d3-beb2-2dd1290aba84"
      },
      "execution_count": 77,
      "outputs": [
        {
          "output_type": "stream",
          "name": "stdout",
          "text": [
            "2023-10-15 13:25:45-04:00\n"
          ]
        }
      ]
    },
    {
      "cell_type": "code",
      "source": [
        "datetime_india = localized_useastern.astimezone(target_timezone)\n",
        "print(datetime_india)"
      ],
      "metadata": {
        "colab": {
          "base_uri": "https://localhost:8080/"
        },
        "id": "eVx-8pxQqbz8",
        "outputId": "08535554-1053-4bf8-d767-be1fa0d7658b"
      },
      "execution_count": 79,
      "outputs": [
        {
          "output_type": "stream",
          "name": "stdout",
          "text": [
            "2023-10-15 22:55:45+05:30\n"
          ]
        }
      ]
    },
    {
      "cell_type": "code",
      "source": [
        "dt.datetime.today()"
      ],
      "metadata": {
        "colab": {
          "base_uri": "https://localhost:8080/"
        },
        "id": "qwL6M_vmsUsJ",
        "outputId": "0af4a699-2f7f-4305-a656-d6501f99176f"
      },
      "execution_count": 81,
      "outputs": [
        {
          "output_type": "execute_result",
          "data": {
            "text/plain": [
              "datetime.datetime(2023, 10, 17, 8, 12, 42, 256036)"
            ]
          },
          "metadata": {},
          "execution_count": 81
        }
      ]
    }
  ]
}