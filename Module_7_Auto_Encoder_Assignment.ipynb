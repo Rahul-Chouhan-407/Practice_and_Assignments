{
  "nbformat": 4,
  "nbformat_minor": 0,
  "metadata": {
    "colab": {
      "provenance": [],
      "authorship_tag": "ABX9TyMRlbfY8oZjxyWBSZF0iZMG",
      "include_colab_link": true
    },
    "kernelspec": {
      "name": "python3",
      "display_name": "Python 3"
    },
    "language_info": {
      "name": "python"
    }
  },
  "cells": [
    {
      "cell_type": "markdown",
      "metadata": {
        "id": "view-in-github",
        "colab_type": "text"
      },
      "source": [
        "<a href=\"https://colab.research.google.com/github/Rahul-Chouhan-407/Practice_and_Assignments/blob/main/Module_7_Auto_Encoder_Assignment.ipynb\" target=\"_parent\"><img src=\"https://colab.research.google.com/assets/colab-badge.svg\" alt=\"Open In Colab\"/></a>"
      ]
    },
    {
      "cell_type": "markdown",
      "source": [
        "# **Module 7: Auto-Encoder Assignment**\n",
        "\n",
        "**Problem Statement:**\n",
        "Consider yourself to be Bob, who is a Deep Learning PhD student. As part of your semester exam you have to implement an LSTM encoder.\n",
        "\n",
        "**Brief information on LSTM Auto-Encoders:**\n",
        "LSTM Autoencoders can learn a compressed representation of sequence data and have been used on video, text, audio, and time series sequence data. For a given dataset of sequences, an encoder-decoder LSTM is configured to read the input sequence, encode it, decode it, and recreate it. The performance of the model is evaluated based on the model’s ability to recreate the input sequence.\n",
        "\n",
        "**Tasks to be Done:**\n",
        "**A. Start off by creating an input sequence of numbers: [0.1,0.2,0.3,0.4,0.5,0.6,0.7,0.8,0.9]**\n",
        "\n",
        "a. Build an LSTM RNN model on top of this data. Compile the model with ‘adam’ to\n",
        "be the optimizer and loss to be ‘mse’\n",
        "\n",
        "b. Fit the model on data and set the number of epochs to be 300\n",
        "\n",
        "c. Predict the values and verify it with the input data"
      ],
      "metadata": {
        "id": "gAW9g2SHFZpB"
      }
    },
    {
      "cell_type": "code",
      "execution_count": 2,
      "metadata": {
        "id": "9tjtiyiAD9DM"
      },
      "outputs": [],
      "source": [
        "import numpy as np\n",
        "from tensorflow.keras.models import Sequential\n",
        "from tensorflow.keras.layers import LSTM, Dense"
      ]
    },
    {
      "cell_type": "code",
      "source": [
        "# Define input sequence\n",
        "sequence = np.array([0.1, 0.2, 0.3, 0.4, 0.5, 0.6, 0.7, 0.8, 0.9])"
      ],
      "metadata": {
        "id": "ewPmRutgEW7-"
      },
      "execution_count": 3,
      "outputs": []
    },
    {
      "cell_type": "code",
      "source": [
        "# Reshape input data into (samples, timesteps, features)\n",
        "n_in = len(sequence)\n",
        "sequence = sequence.reshape((1, n_in, 1))"
      ],
      "metadata": {
        "id": "f9kG4zAjEXIv"
      },
      "execution_count": 4,
      "outputs": []
    },
    {
      "cell_type": "code",
      "source": [
        "# Define LSTM Autoencoder model\n",
        "model = Sequential()\n",
        "model.add(LSTM(100, activation='relu', input_shape=(n_in, 1)))\n",
        "model.add(Dense(n_in))"
      ],
      "metadata": {
        "id": "ndKnMLBOEXVf"
      },
      "execution_count": 5,
      "outputs": []
    },
    {
      "cell_type": "code",
      "source": [
        "# Compile the model\n",
        "model.compile(optimizer='adam', loss='mse')"
      ],
      "metadata": {
        "id": "XJlLR6UxEXjC"
      },
      "execution_count": 6,
      "outputs": []
    },
    {
      "cell_type": "code",
      "source": [
        "# Fit the model\n",
        "model.fit(sequence, sequence, epochs=300, verbose=0)"
      ],
      "metadata": {
        "colab": {
          "base_uri": "https://localhost:8080/"
        },
        "id": "xaSUbnrbEXxx",
        "outputId": "2f4fda71-cf75-4b5c-bb21-79acce2e84e5"
      },
      "execution_count": 7,
      "outputs": [
        {
          "output_type": "execute_result",
          "data": {
            "text/plain": [
              "<keras.callbacks.History at 0x7f823c15e140>"
            ]
          },
          "metadata": {},
          "execution_count": 7
        }
      ]
    },
    {
      "cell_type": "code",
      "source": [
        "# Predict the values\n",
        "yhat = model.predict(sequence, verbose=0)\n",
        "print(yhat)"
      ],
      "metadata": {
        "colab": {
          "base_uri": "https://localhost:8080/"
        },
        "id": "D8iOgy_qEYAR",
        "outputId": "2705e02b-a133-42ce-f695-e14366a79eae"
      },
      "execution_count": 8,
      "outputs": [
        {
          "output_type": "stream",
          "name": "stdout",
          "text": [
            "[[0.09999989 0.20000006 0.3        0.39999986 0.49999985 0.6\n",
            "  0.6999997  0.79999995 0.9       ]]\n"
          ]
        }
      ]
    }
  ]
}