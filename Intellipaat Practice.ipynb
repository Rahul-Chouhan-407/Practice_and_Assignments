{
  "nbformat": 4,
  "nbformat_minor": 0,
  "metadata": {
    "colab": {
      "provenance": [],
      "authorship_tag": "ABX9TyOTtpI8WjsVIfLyVkBS1OH+",
      "include_colab_link": true
    },
    "kernelspec": {
      "name": "python3",
      "display_name": "Python 3"
    },
    "language_info": {
      "name": "python"
    }
  },
  "cells": [
    {
      "cell_type": "markdown",
      "metadata": {
        "id": "view-in-github",
        "colab_type": "text"
      },
      "source": [
        "<a href=\"https://colab.research.google.com/github/Rahul-Chouhan-407/Practice_and_Assignments/blob/main/Intellipaat%20Practice.ipynb\" target=\"_parent\"><img src=\"https://colab.research.google.com/assets/colab-badge.svg\" alt=\"Open In Colab\"/></a>"
      ]
    },
    {
      "cell_type": "code",
      "execution_count": 134,
      "metadata": {
        "colab": {
          "base_uri": "https://localhost:8080/"
        },
        "id": "sIkN7XlkJSO_",
        "outputId": "f594179c-862f-444c-afd9-f99df8f735c9"
      },
      "outputs": [
        {
          "output_type": "stream",
          "name": "stdout",
          "text": [
            "Suresh 29 is a \"natural\" swimmer\n"
          ]
        }
      ],
      "source": [
        "name,age = \"Suresh\", 29 \n",
        "print(name,age,\"is a \\\"natural\\\" swimmer\")"
      ]
    },
    {
      "cell_type": "code",
      "source": [
        "a,b,c = 10,20,50 \n",
        "result = (a + b)//c \n",
        "print(\"The result is {}\".format(c))"
      ],
      "metadata": {
        "colab": {
          "base_uri": "https://localhost:8080/"
        },
        "id": "hyznLAs4Jk7O",
        "outputId": "650a60b0-c319-42e4-f9c4-c0c97c93870c"
      },
      "execution_count": 125,
      "outputs": [
        {
          "output_type": "stream",
          "name": "stdout",
          "text": [
            "The result is 50\n"
          ]
        }
      ]
    },
    {
      "cell_type": "code",
      "source": [
        "a = 10 \n",
        "b = 20 \n",
        "c = a**2 \n",
        "d = b**2 \n",
        "result = d - c \n",
        "result -= 100 \n",
        "print(result)"
      ],
      "metadata": {
        "colab": {
          "base_uri": "https://localhost:8080/"
        },
        "id": "YjJxW1zBJrd9",
        "outputId": "5f5918ff-e000-453e-e698-fef30425c831"
      },
      "execution_count": 126,
      "outputs": [
        {
          "output_type": "stream",
          "name": "stdout",
          "text": [
            "200\n"
          ]
        }
      ]
    },
    {
      "cell_type": "code",
      "source": [
        "a = 10 \n",
        "b = 20 \n",
        "print(a>b)"
      ],
      "metadata": {
        "colab": {
          "base_uri": "https://localhost:8080/"
        },
        "id": "n8iFh6e_Jzoj",
        "outputId": "7f51d7c0-f294-44a5-f0c9-eed8577cf094"
      },
      "execution_count": 127,
      "outputs": [
        {
          "output_type": "stream",
          "name": "stdout",
          "text": [
            "False\n"
          ]
        }
      ]
    },
    {
      "cell_type": "code",
      "source": [
        "a = 10 \n",
        "b = 10.0 \n",
        "print(a is not b)"
      ],
      "metadata": {
        "colab": {
          "base_uri": "https://localhost:8080/"
        },
        "id": "gxSSWf9cJ5oM",
        "outputId": "b1c239c8-9838-4e03-ea1c-ba160ca9225e"
      },
      "execution_count": 128,
      "outputs": [
        {
          "output_type": "stream",
          "name": "stdout",
          "text": [
            "True\n"
          ]
        }
      ]
    },
    {
      "cell_type": "code",
      "source": [
        "a = [10] \n",
        "b = {10,20} \n",
        "print(a[0] in b)"
      ],
      "metadata": {
        "colab": {
          "base_uri": "https://localhost:8080/"
        },
        "id": "wu_IA0bBKAG2",
        "outputId": "b73ff314-2594-4d0a-ff72-af33b987e758"
      },
      "execution_count": 129,
      "outputs": [
        {
          "output_type": "stream",
          "name": "stdout",
          "text": [
            "True\n"
          ]
        }
      ]
    },
    {
      "cell_type": "code",
      "source": [
        "a = 10 \n",
        "b = 20 \n",
        "print(a > 5 & b > 15)"
      ],
      "metadata": {
        "colab": {
          "base_uri": "https://localhost:8080/"
        },
        "id": "8McCiwO0KFuY",
        "outputId": "563d695e-4c9c-4649-8f4a-0baeead22c22"
      },
      "execution_count": 130,
      "outputs": [
        {
          "output_type": "stream",
          "name": "stdout",
          "text": [
            "False\n"
          ]
        }
      ]
    },
    {
      "cell_type": "code",
      "source": [
        "a = 10 \n",
        "b = 20 \n",
        "print(a > 5 or b > 15)"
      ],
      "metadata": {
        "colab": {
          "base_uri": "https://localhost:8080/"
        },
        "id": "37l8pYEnKLYE",
        "outputId": "a6b7f6cd-ff31-496a-9749-96699129efc8"
      },
      "execution_count": 131,
      "outputs": [
        {
          "output_type": "stream",
          "name": "stdout",
          "text": [
            "True\n"
          ]
        }
      ]
    },
    {
      "cell_type": "code",
      "source": [
        "a = [1,2,3,4,5]\n",
        "b = [2,3,4,5,6]\n",
        "print(a[-1],\"and\",b[len(b)-1])"
      ],
      "metadata": {
        "colab": {
          "base_uri": "https://localhost:8080/"
        },
        "id": "K_VrLXQdKThG",
        "outputId": "0dbc2a08-85e3-4f63-ede8-cef97d87f51e"
      },
      "execution_count": 132,
      "outputs": [
        {
          "output_type": "stream",
          "name": "stdout",
          "text": [
            "5 and 6\n"
          ]
        }
      ]
    },
    {
      "cell_type": "code",
      "source": [
        "a = list(range(0,10,2))\n",
        "\n",
        "print(a[::-1])"
      ],
      "metadata": {
        "colab": {
          "base_uri": "https://localhost:8080/",
          "height": 201
        },
        "id": "jJnqTiX7KYJr",
        "outputId": "d45d8183-d3d3-4111-d97e-e9bef5a6eef6"
      },
      "execution_count": 135,
      "outputs": [
        {
          "output_type": "error",
          "ename": "TypeError",
          "evalue": "ignored",
          "traceback": [
            "\u001b[0;31m---------------------------------------------------------------------------\u001b[0m",
            "\u001b[0;31mTypeError\u001b[0m                                 Traceback (most recent call last)",
            "\u001b[0;32m<ipython-input-135-71beb2ce8af7>\u001b[0m in \u001b[0;36m<cell line: 1>\u001b[0;34m()\u001b[0m\n\u001b[0;32m----> 1\u001b[0;31m \u001b[0ma\u001b[0m \u001b[0;34m=\u001b[0m \u001b[0mlist\u001b[0m\u001b[0;34m(\u001b[0m\u001b[0mrange\u001b[0m\u001b[0;34m(\u001b[0m\u001b[0;36m0\u001b[0m\u001b[0;34m,\u001b[0m\u001b[0;36m10\u001b[0m\u001b[0;34m,\u001b[0m\u001b[0;36m2\u001b[0m\u001b[0;34m)\u001b[0m\u001b[0;34m)\u001b[0m\u001b[0;34m\u001b[0m\u001b[0;34m\u001b[0m\u001b[0m\n\u001b[0m\u001b[1;32m      2\u001b[0m \u001b[0;34m\u001b[0m\u001b[0m\n\u001b[1;32m      3\u001b[0m \u001b[0mprint\u001b[0m\u001b[0;34m(\u001b[0m\u001b[0ma\u001b[0m\u001b[0;34m[\u001b[0m\u001b[0;34m:\u001b[0m\u001b[0;34m:\u001b[0m\u001b[0;34m-\u001b[0m\u001b[0;36m1\u001b[0m\u001b[0;34m]\u001b[0m\u001b[0;34m)\u001b[0m\u001b[0;34m\u001b[0m\u001b[0;34m\u001b[0m\u001b[0m\n",
            "\u001b[0;31mTypeError\u001b[0m: 'numpy.int64' object is not callable"
          ]
        }
      ]
    },
    {
      "cell_type": "code",
      "source": [
        "A = 10\n",
        "\n",
        "B = 20\n",
        "\n",
        "if A > 5 & B > 15:\n",
        "\n",
        "  print(\"One\")\n",
        "\n",
        "  elif A < 5 & B < 15:\n",
        "\n",
        "    print(\"Two\")\n",
        "\n",
        "  else:\n",
        "\n",
        "print(\"None\")"
      ],
      "metadata": {
        "id": "J4wFhCLjKeU_"
      },
      "execution_count": null,
      "outputs": []
    },
    {
      "cell_type": "code",
      "source": [
        "A = 2\n",
        "B = 10\n",
        "if A > 0 and B%A==0:\n",
        "  print(\"One\", end=\",\")\n",
        "\n",
        "elif B > 5 and B%2 == 1:\n",
        "\n",
        "  print(\"Two\", end=\" \")\n",
        "\n",
        "else:\n",
        "\n",
        "  pass"
      ],
      "metadata": {
        "id": "gXQrvtIsKvcT"
      },
      "execution_count": null,
      "outputs": []
    },
    {
      "cell_type": "code",
      "source": [
        "A = 2\n",
        "\n",
        "B = 3\n",
        "\n",
        "print('Greater') if A//B==0 else print(\"Equal\") if A//B==1 else print(\"Smaller\")"
      ],
      "metadata": {
        "id": "PbMX66JEK-0J"
      },
      "execution_count": null,
      "outputs": []
    },
    {
      "cell_type": "code",
      "source": [
        "a = [[29, 'Rajesh'],[32, 'Ramesh'],[41, 'Dev']]\n",
        "\n",
        "b = dict(a)\n",
        "\n",
        "print(b.keys())"
      ],
      "metadata": {
        "id": "IZOB31QSLE4A"
      },
      "execution_count": null,
      "outputs": []
    },
    {
      "cell_type": "code",
      "source": [
        "a = {1: \"Rajesh\",\n",
        "\n",
        "2: \"Ramesh\",\n",
        "\n",
        "3: \"Dev\"}\n",
        "\n",
        "b = list(a)\n",
        "\n",
        "print(b[0])"
      ],
      "metadata": {
        "id": "Ajw3WOTuLJdk"
      },
      "execution_count": null,
      "outputs": []
    },
    {
      "cell_type": "code",
      "source": [
        "a = tuple(range(0,5))\n",
        "\n",
        "print(a.index(4))"
      ],
      "metadata": {
        "colab": {
          "base_uri": "https://localhost:8080/",
          "height": 201
        },
        "id": "5pW7heGlLPW_",
        "outputId": "70d79f6c-8e57-4957-8ce3-93cf902aef1a"
      },
      "execution_count": 136,
      "outputs": [
        {
          "output_type": "error",
          "ename": "TypeError",
          "evalue": "ignored",
          "traceback": [
            "\u001b[0;31m---------------------------------------------------------------------------\u001b[0m",
            "\u001b[0;31mTypeError\u001b[0m                                 Traceback (most recent call last)",
            "\u001b[0;32m<ipython-input-136-e507b2694315>\u001b[0m in \u001b[0;36m<cell line: 1>\u001b[0;34m()\u001b[0m\n\u001b[0;32m----> 1\u001b[0;31m \u001b[0ma\u001b[0m \u001b[0;34m=\u001b[0m \u001b[0mtuple\u001b[0m\u001b[0;34m(\u001b[0m\u001b[0mrange\u001b[0m\u001b[0;34m(\u001b[0m\u001b[0;36m0\u001b[0m\u001b[0;34m,\u001b[0m\u001b[0;36m5\u001b[0m\u001b[0;34m)\u001b[0m\u001b[0;34m)\u001b[0m\u001b[0;34m\u001b[0m\u001b[0;34m\u001b[0m\u001b[0m\n\u001b[0m\u001b[1;32m      2\u001b[0m \u001b[0;34m\u001b[0m\u001b[0m\n\u001b[1;32m      3\u001b[0m \u001b[0mprint\u001b[0m\u001b[0;34m(\u001b[0m\u001b[0ma\u001b[0m\u001b[0;34m.\u001b[0m\u001b[0mindex\u001b[0m\u001b[0;34m(\u001b[0m\u001b[0;36m4\u001b[0m\u001b[0;34m)\u001b[0m\u001b[0;34m)\u001b[0m\u001b[0;34m\u001b[0m\u001b[0;34m\u001b[0m\u001b[0m\n",
            "\u001b[0;31mTypeError\u001b[0m: 'numpy.int64' object is not callable"
          ]
        }
      ]
    },
    {
      "cell_type": "code",
      "source": [
        "a = tuple(range(0,10,2))\n",
        "\n",
        "a[4] = 6\n",
        "\n",
        "print(a[4])"
      ],
      "metadata": {
        "id": "If9jcf9rLV_h"
      },
      "execution_count": null,
      "outputs": []
    },
    {
      "cell_type": "code",
      "source": [
        "a = {1,1,2,2,3,3,4,4,5,5}\n",
        "\n",
        "print(a)"
      ],
      "metadata": {
        "id": "_qVOF1jiLcaP"
      },
      "execution_count": null,
      "outputs": []
    },
    {
      "cell_type": "code",
      "source": [
        "a = {1,2,3,4,5}\n",
        "\n",
        "a.add(6)\n",
        "\n",
        "print(a)"
      ],
      "metadata": {
        "id": "uHJJe2cPLgaW"
      },
      "execution_count": null,
      "outputs": []
    },
    {
      "cell_type": "code",
      "source": [
        "X = 10\n",
        "if X >= 0:\n",
        "  if X == 0:\n",
        "    print('None')\n",
        "  elif X //2 == 1:\n",
        "    print('Two')\n",
        "  elif X**2 ==100:\n",
        "    if X%2 == 0:\n",
        "      print(\"Three\")\n",
        "  else:\n",
        "    print(\"Four\")\n",
        "  else:\n",
        "    print(\"Five\")\n",
        "else:\n",
        "  print(\"Six\")"
      ],
      "metadata": {
        "id": "wex-w_NLLm4G"
      },
      "execution_count": null,
      "outputs": []
    },
    {
      "cell_type": "code",
      "source": [
        "a = list(range(0,3))\n",
        "b = []\n",
        "for x in a:\n",
        "  for j in range(len(a)-1, 0, -1):\n",
        "    b.append(a[j])\n",
        "print(b)"
      ],
      "metadata": {
        "id": "S0tqNtm_MzdP"
      },
      "execution_count": null,
      "outputs": []
    },
    {
      "cell_type": "code",
      "source": [
        "i=5\n",
        "while i>0:\n",
        "for i in range(0,3):\n",
        "  if i > 1:\n",
        "    i = i - 2\n",
        "    print(i)\n",
        "else:\n",
        "i = i - 1"
      ],
      "metadata": {
        "id": "MFewVz4-NgSC"
      },
      "execution_count": null,
      "outputs": []
    },
    {
      "cell_type": "code",
      "source": [
        "a = 0\n",
        "b = 1\n",
        "i = 1\n",
        "while i < 5:\n",
        "  temp = a + b\n",
        "  a = b\n",
        "  b = temp\n",
        "  print(temp, end=\" \")\n",
        "i = i + 1"
      ],
      "metadata": {
        "id": "oHhkhgqCOSsS"
      },
      "execution_count": null,
      "outputs": []
    },
    {
      "cell_type": "code",
      "source": [
        "def func(self):\n",
        "  if self%2==0:\n",
        "    return None\n",
        "func(10)"
      ],
      "metadata": {
        "id": "T-tD8ns1O-du"
      },
      "execution_count": null,
      "outputs": []
    },
    {
      "cell_type": "code",
      "source": [
        "def func(*self):\n",
        "  for i in self:\n",
        "    if i in list(range(0,100,10)):\n",
        "      print(\"True\", end=\",\")\n",
        "    else:\n",
        "      print(\"False\")\n",
        "func(10,15)"
      ],
      "metadata": {
        "id": "y2JK-cJmPcS4"
      },
      "execution_count": null,
      "outputs": []
    },
    {
      "cell_type": "code",
      "source": [
        "def func(**self):\n",
        "\n",
        "  for i in self.values():\n",
        "\n",
        "    if i%2 == 0 and i%3 == 0 in list(range(0,10)):\n",
        "\n",
        "      print(\"True\", end=\" \")\n",
        "\n",
        "    else:\n",
        "\n",
        "      print(\"False\", end=\" \")\n",
        "\n",
        "func(first= 10, second= 20)"
      ],
      "metadata": {
        "id": "YWUvIPe0Pq2F"
      },
      "execution_count": null,
      "outputs": []
    },
    {
      "cell_type": "code",
      "source": [
        "y = lambda a,b: a//2 + b//2 - 2//a//b\n",
        "\n",
        "y(12,4)"
      ],
      "metadata": {
        "id": "cZm4L9tVP53H"
      },
      "execution_count": null,
      "outputs": []
    },
    {
      "cell_type": "code",
      "source": [
        "sample = [12,22,32,42,52]\n",
        "\n",
        "x = map(lambda a: a//10, sample)\n",
        "\n",
        "print(list(x))"
      ],
      "metadata": {
        "id": "b8JauTr1P92p"
      },
      "execution_count": null,
      "outputs": []
    },
    {
      "cell_type": "code",
      "source": [
        "def func(self):\n",
        "\n",
        "  if self % 2 == 1:\n",
        "\n",
        "    return False\n",
        "\n",
        "  else:\n",
        "\n",
        "    return True\n",
        "\n",
        "sample= [12,24,23,3,5,2]\n",
        "\n",
        "z = filter(func, sample)\n",
        "\n",
        "print(list(z))"
      ],
      "metadata": {
        "id": "pooMqZx7QC7N"
      },
      "execution_count": null,
      "outputs": []
    },
    {
      "cell_type": "code",
      "source": [
        "def func(x, y, z):\n",
        "\n",
        "  for i in x:\n",
        "\n",
        "    for j in y:\n",
        "\n",
        "      print(i, end=\"\")\n",
        "\n",
        "  print(j, end=\"\")\n",
        "\n",
        "  return None\n",
        "\n",
        "a = [1,2,3]\n",
        "\n",
        "b = [3]\n",
        "\n",
        "c = [5,6,7]\n",
        "\n",
        "func(a,b,c)"
      ],
      "metadata": {
        "id": "7IA2uGoBQUun"
      },
      "execution_count": null,
      "outputs": []
    },
    {
      "cell_type": "code",
      "source": [
        "x = lambda x,y,z: x**y + z**x + y**x//z\n",
        "\n",
        "x(1,1,3)"
      ],
      "metadata": {
        "id": "_PHksVf4QmaB"
      },
      "execution_count": null,
      "outputs": []
    },
    {
      "cell_type": "code",
      "source": [
        "class Myclass:\n",
        "\n",
        "  def __init__(self):\n",
        "\n",
        "    self.string = \"Intellipaat\"\n",
        "\n",
        "    self.number = 2022\n",
        "\n",
        "obj = Myclass()\n",
        "\n",
        "print(obj.number, obj.string)"
      ],
      "metadata": {
        "id": "hYVBHl-GQrK9"
      },
      "execution_count": null,
      "outputs": []
    },
    {
      "cell_type": "code",
      "source": [
        "class Myclass:\n",
        "\n",
        "  def __init__(self):\n",
        "\n",
        "    self.string = \"Conor\"\n",
        "\n",
        "    self.number = 20\n",
        "\n",
        "  def view(self):\n",
        "\n",
        "    print(self.string[::-1], self.number//6)\n",
        "\n",
        "obj = Myclass()\n",
        "\n",
        "obj.view()"
      ],
      "metadata": {
        "id": "wY8du5t8Q39K"
      },
      "execution_count": null,
      "outputs": []
    },
    {
      "cell_type": "code",
      "source": [
        "class myClass:\n",
        "\n",
        "  def __init__(self, name, age):\n",
        "\n",
        "    self.name = name\n",
        "\n",
        "    self.age = age\n",
        "\n",
        "  def view(self):\n",
        "\n",
        "    print([self.name, self.age])\n",
        "\n",
        "class myclass:\n",
        "\n",
        "  def __init__(self, name, age):\n",
        "\n",
        "    self.name = name\n",
        "\n",
        "    self.age = age\n",
        "\n",
        "  def view(self):\n",
        "\n",
        "    print([self.name, self.age])\n",
        "\n",
        "obj1 = myClass(\"Devon\", 29)\n",
        "\n",
        "obj2 = myclass(\"Levi\", 28)\n",
        "\n",
        "print([obj1.name, obj2.age])"
      ],
      "metadata": {
        "id": "leRAHLT3RGnQ"
      },
      "execution_count": null,
      "outputs": []
    },
    {
      "cell_type": "code",
      "source": [
        "class Name:\n",
        "\n",
        "  def view(self):\n",
        "\n",
        "    self.name = \"Rajesh\"\n",
        "\n",
        "class Age:\n",
        "\n",
        "  def view(self):\n",
        "\n",
        "    self.age = 29\n",
        "\n",
        "class Profession:\n",
        "\n",
        "  def view(self):\n",
        "\n",
        "    self.profession = \"Teacher\"\n",
        "\n",
        "obj1 = Name()\n",
        "\n",
        "obj2 = Age()\n",
        "\n",
        "obj3 = Profession()\n",
        "\n",
        "print(obj1.view(), obj2.view(), obj1.view())"
      ],
      "metadata": {
        "id": "GV6CeNlZRWv8"
      },
      "execution_count": null,
      "outputs": []
    },
    {
      "cell_type": "code",
      "source": [
        "class Base:\n",
        "\n",
        "  def __init__(self):\n",
        "\n",
        "    self.name = \"Ricky\"\n",
        "\n",
        "    self.age = 23\n",
        "\n",
        "class Derived(Base):\n",
        "\n",
        "  def __init__(self):\n",
        "\n",
        "    super().__init__()\n",
        "\n",
        "    self.profession = \"Cricketer\"\n",
        "\n",
        "  def view(self):\n",
        "\n",
        "    print(self.name, self.age, self.profession)\n",
        "\n",
        "obj = Derived()\n",
        "\n",
        "obj.view()"
      ],
      "metadata": {
        "id": "bRSd24NBRoSe"
      },
      "execution_count": null,
      "outputs": []
    },
    {
      "cell_type": "code",
      "source": [
        "from abc import ABC, abstractmethod\n",
        "\n",
        "class School(ABC):\n",
        "\n",
        "  def __init__(self):\n",
        "\n",
        "    self.name = \"Levi\"\n",
        "\n",
        "    self.age = 29\n",
        "\n",
        "obj = School()\n",
        "\n",
        "obj.name"
      ],
      "metadata": {
        "id": "VaZCmVgcRzsK"
      },
      "execution_count": null,
      "outputs": []
    },
    {
      "cell_type": "code",
      "source": [
        "class Poly:\n",
        "\n",
        "  def method(self, a, b):\n",
        "\n",
        "    return (a**b)\n",
        "\n",
        "  def method(self, a, b,c):\n",
        "\n",
        "    return (a*b*c)\n",
        "\n",
        "obj = Poly()\n",
        "\n",
        "obj.method(3,2)"
      ],
      "metadata": {
        "id": "i4YXJwGiR7vk"
      },
      "execution_count": null,
      "outputs": []
    },
    {
      "cell_type": "code",
      "source": [
        "class Parent:\n",
        "\n",
        "  def __init__(self):\n",
        "\n",
        "    self._name = \"Levi\"\n",
        "\n",
        "    self.__age = 29\n",
        "\n",
        "class Child(Parent):\n",
        "\n",
        "  def __init__(self):\n",
        "\n",
        "    Parent.__init__(self)\n",
        "\n",
        "    self._name = \"Devon\"\n",
        "\n",
        "  def view(self):\n",
        "\n",
        "    return self._name\n",
        "\n",
        "obj = Child()\n",
        "\n",
        "obj.view()"
      ],
      "metadata": {
        "id": "10L1wlStSITy"
      },
      "execution_count": null,
      "outputs": []
    },
    {
      "cell_type": "code",
      "source": [
        "class Parent:\n",
        "\n",
        "  def __init__(self):\n",
        "\n",
        "    self._name = \"Levi\"\n",
        "\n",
        "    self.__age = 29\n",
        "\n",
        "class Child(Parent):\n",
        "\n",
        "  def __init__(self):\n",
        "\n",
        "    Parent.__init__(self)\n",
        "\n",
        "    self._name = \"Devon\"\n",
        "\n",
        "    self.__age = 28\n",
        "\n",
        "  def view(self):\n",
        "\n",
        "    return self.__age\n",
        "\n",
        "obj = Child()\n",
        "\n",
        "obj.view()"
      ],
      "metadata": {
        "id": "tkAmTH1aSWxp"
      },
      "execution_count": null,
      "outputs": []
    },
    {
      "cell_type": "code",
      "source": [
        "class Parent:\n",
        "\n",
        "  def __init__(self):\n",
        "\n",
        "    self._name = \"Rajesh\"\n",
        "\n",
        "    self.__age = 29\n",
        "\n",
        "class Child(Parent):\n",
        "\n",
        "  def __init__(self):\n",
        "\n",
        "    Parent.__init__(self)\n",
        "\n",
        "    self._name = \"Ramesh\"\n",
        "\n",
        "  def view(self):\n",
        "\n",
        "    return self.__age\n",
        "\n",
        "obj = Child()\n",
        "\n",
        "obj.view()"
      ],
      "metadata": {
        "id": "NzzHDIn-SfFS"
      },
      "execution_count": null,
      "outputs": []
    },
    {
      "cell_type": "code",
      "source": [
        "class Poly:\n",
        "\n",
        "  def __init__(self):\n",
        "\n",
        "    self.name = 'Rajesh'\n",
        "\n",
        "    self.age = 29\n",
        "\n",
        "  def view(self):\n",
        "\n",
        "    return None\n",
        "\n",
        "class Child(Poly):\n",
        "\n",
        "  def __init__(self):\n",
        "\n",
        "    Poly.__init__(self)\n",
        "\n",
        "  def view(self):\n",
        "\n",
        "    self.prof = \"Student\"\n",
        "\n",
        "    super().view()\n",
        "\n",
        "    return None\n",
        "\n",
        "obj = Poly()\n",
        "\n",
        "obj.view()"
      ],
      "metadata": {
        "id": "dOPXWH_HSoj3"
      },
      "execution_count": null,
      "outputs": []
    },
    {
      "cell_type": "code",
      "source": [
        "class Poly:\n",
        "\n",
        "  def __init__(self):\n",
        "\n",
        "    self.name = 'Devon'\n",
        "\n",
        "    self.age = 29\n",
        "\n",
        "  def view(self):\n",
        "\n",
        "    print(self.name)\n",
        "\n",
        "class Child(Poly):\n",
        "\n",
        "  def __init__(self):\n",
        "\n",
        "    Poly.__init__(self)\n",
        "\n",
        "  def view(self):\n",
        "\n",
        "    self.prof = \"Levi\"\n",
        "\n",
        "    super().view()\n",
        "\n",
        "    return None\n",
        "\n",
        "obj = Child()\n",
        "\n",
        "obj.view()"
      ],
      "metadata": {
        "id": "6TMbdA54S5bp"
      },
      "execution_count": null,
      "outputs": []
    },
    {
      "cell_type": "code",
      "source": [
        "from multipledispatch import dispatch\n",
        "\n",
        "class Poly:\n",
        "\n",
        "  @dispatch(int, int)\n",
        "\n",
        "    def method(self, a, b):\n",
        "\n",
        "      return (a**b)\n",
        "\n",
        "      @dispatch(int, int, int)\n",
        "\n",
        "    def method(self, a, b,c):\n",
        "\n",
        "      return (a*b*c)\n",
        "\n",
        "obj = Poly()\n",
        "\n",
        "obj.method(4,2)"
      ],
      "metadata": {
        "id": "hRvJUWkwTFH4"
      },
      "execution_count": null,
      "outputs": []
    },
    {
      "cell_type": "code",
      "source": [
        "import numpy as np\n",
        "array = np.array([17, 27, 80, 39, 72, 95, 52, 85, 8, 64, 36, 15, 62, 76, 66, 67, 59, 92])"
      ],
      "metadata": {
        "id": "OfKachbiW6DI"
      },
      "execution_count": null,
      "outputs": []
    },
    {
      "cell_type": "code",
      "source": [
        "import numpy as np\n",
        "\n",
        "array = np.array([17, 27, 80, 39, 72, 95, 52, 85, 8, 64, 36, 15, 62, 76, 66, 67, 59, 92])\n",
        "\n",
        "# Find range\n",
        "range = np.max(array) - np.min(array)\n",
        "print(\"Range:\", range)\n",
        "\n",
        "# Find IQR\n",
        "q1 = np.median(array[:len(array)//2])\n",
        "q3 = np.median(array[len(array)//2 + (len(array)%2):])\n",
        "iqr = q3 - q1\n",
        "print(\"IQR:\", iqr)\n"
      ],
      "metadata": {
        "id": "UIOLxnZGXAo3"
      },
      "execution_count": null,
      "outputs": []
    },
    {
      "cell_type": "code",
      "source": [
        "import numpy as np\n",
        "a = [[1, 0], [0, 1]]  \n",
        "b = [[4, 1], [2, 2]]  \n",
        "np.dot(a, b)"
      ],
      "metadata": {
        "colab": {
          "base_uri": "https://localhost:8080/"
        },
        "id": "E2yWcvshpxyq",
        "outputId": "e71dd986-5442-43fd-a213-121292ddcbfc"
      },
      "execution_count": 137,
      "outputs": [
        {
          "output_type": "execute_result",
          "data": {
            "text/plain": [
              "array([[4, 1],\n",
              "       [2, 2]])"
            ]
          },
          "metadata": {},
          "execution_count": 137
        }
      ]
    },
    {
      "cell_type": "code",
      "source": [
        "a = np.arange(3*4*5*6).reshape((3,4,5,6)) \n",
        "b = np.arange(3*4*5*6)[::-1].reshape((5,4,6,3)) \n",
        "np.dot(a, b)[2,3,2,1,2,2]"
      ],
      "metadata": {
        "colab": {
          "base_uri": "https://localhost:8080/"
        },
        "id": "kqR9QQCFqak4",
        "outputId": "1dba4271-89ac-447e-f904-eedf7ab715fe"
      },
      "execution_count": 138,
      "outputs": [
        {
          "output_type": "execute_result",
          "data": {
            "text/plain": [
              "499128"
            ]
          },
          "metadata": {},
          "execution_count": 138
        }
      ]
    },
    {
      "cell_type": "code",
      "source": [
        "import numpy as np \n",
        "a = np.array([3, 7, 32], dtype = complex) \n",
        "print(a)"
      ],
      "metadata": {
        "colab": {
          "base_uri": "https://localhost:8080/"
        },
        "id": "rbunRhQqqor3",
        "outputId": "06aea390-dc8d-4e2b-94ad-0c7f05606087"
      },
      "execution_count": 139,
      "outputs": [
        {
          "output_type": "stream",
          "name": "stdout",
          "text": [
            "[ 3.+0.j  7.+0.j 32.+0.j]\n"
          ]
        }
      ]
    },
    {
      "cell_type": "code",
      "source": [
        "import numpy as np\n",
        "\n",
        "array1 = np.array([[1,2],[3,4]])\n",
        "array2 = np.array([[1,2],[3,4],[5,6],[7,8],[9,10]])\n",
        "\n",
        "result = np.vstack((array1, array2))\n",
        "print(result)"
      ],
      "metadata": {
        "colab": {
          "base_uri": "https://localhost:8080/"
        },
        "id": "QotSUBLfsPoY",
        "outputId": "70d18f81-4803-4ab2-e7ab-a6718877f7c4"
      },
      "execution_count": 140,
      "outputs": [
        {
          "output_type": "stream",
          "name": "stdout",
          "text": [
            "[[ 1  2]\n",
            " [ 3  4]\n",
            " [ 1  2]\n",
            " [ 3  4]\n",
            " [ 5  6]\n",
            " [ 7  8]\n",
            " [ 9 10]]\n"
          ]
        }
      ]
    },
    {
      "cell_type": "code",
      "source": [
        "import numpy as np\n",
        "np.full((3,3), 'k')"
      ],
      "metadata": {
        "colab": {
          "base_uri": "https://localhost:8080/"
        },
        "id": "IO0tfu5itJxH",
        "outputId": "3c926713-377c-4757-ce8a-76a6255c61fd"
      },
      "execution_count": 144,
      "outputs": [
        {
          "output_type": "execute_result",
          "data": {
            "text/plain": [
              "array([['k', 'k', 'k'],\n",
              "       ['k', 'k', 'k'],\n",
              "       ['k', 'k', 'k']], dtype='<U1')"
            ]
          },
          "metadata": {},
          "execution_count": 144
        }
      ]
    },
    {
      "cell_type": "code",
      "source": [
        "def bub_sort(array): \n",
        "  for i in range(0, len(array)): \n",
        "    for j in range(0, len(array) - i - 1): \n",
        "      if array[j] < array[j + 1]: \n",
        "        temp = array[j] \n",
        "        array[j] = array[j + 1] \n",
        "        array[j+1] = temp \n",
        "        return array \n",
        "my_array = np.array([20,14,25,16,45,60,12,9])\n",
        "bub_sort(array)"
      ],
      "metadata": {
        "colab": {
          "base_uri": "https://localhost:8080/",
          "height": 322
        },
        "id": "Mj4gAdbxt2yS",
        "outputId": "8087ff61-0e71-4257-99ca-23ff951b1364"
      },
      "execution_count": 157,
      "outputs": [
        {
          "output_type": "error",
          "ename": "TypeError",
          "evalue": "ignored",
          "traceback": [
            "\u001b[0;31m---------------------------------------------------------------------------\u001b[0m",
            "\u001b[0;31mTypeError\u001b[0m                                 Traceback (most recent call last)",
            "\u001b[0;32m<ipython-input-157-b1cbc774c82d>\u001b[0m in \u001b[0;36m<cell line: 10>\u001b[0;34m()\u001b[0m\n\u001b[1;32m      8\u001b[0m         \u001b[0;32mreturn\u001b[0m \u001b[0marray\u001b[0m\u001b[0;34m\u001b[0m\u001b[0;34m\u001b[0m\u001b[0m\n\u001b[1;32m      9\u001b[0m \u001b[0mmy_array\u001b[0m \u001b[0;34m=\u001b[0m \u001b[0mnp\u001b[0m\u001b[0;34m.\u001b[0m\u001b[0marray\u001b[0m\u001b[0;34m(\u001b[0m\u001b[0;34m[\u001b[0m\u001b[0;36m20\u001b[0m\u001b[0;34m,\u001b[0m\u001b[0;36m14\u001b[0m\u001b[0;34m,\u001b[0m\u001b[0;36m25\u001b[0m\u001b[0;34m,\u001b[0m\u001b[0;36m16\u001b[0m\u001b[0;34m,\u001b[0m\u001b[0;36m45\u001b[0m\u001b[0;34m,\u001b[0m\u001b[0;36m60\u001b[0m\u001b[0;34m,\u001b[0m\u001b[0;36m12\u001b[0m\u001b[0;34m,\u001b[0m\u001b[0;36m9\u001b[0m\u001b[0;34m]\u001b[0m\u001b[0;34m)\u001b[0m\u001b[0;34m\u001b[0m\u001b[0;34m\u001b[0m\u001b[0m\n\u001b[0;32m---> 10\u001b[0;31m \u001b[0mbub_sort\u001b[0m\u001b[0;34m(\u001b[0m\u001b[0marray\u001b[0m\u001b[0;34m)\u001b[0m\u001b[0;34m\u001b[0m\u001b[0;34m\u001b[0m\u001b[0m\n\u001b[0m",
            "\u001b[0;32m<ipython-input-157-b1cbc774c82d>\u001b[0m in \u001b[0;36mbub_sort\u001b[0;34m(array)\u001b[0m\n\u001b[1;32m      1\u001b[0m \u001b[0;32mdef\u001b[0m \u001b[0mbub_sort\u001b[0m\u001b[0;34m(\u001b[0m\u001b[0marray\u001b[0m\u001b[0;34m)\u001b[0m\u001b[0;34m:\u001b[0m\u001b[0;34m\u001b[0m\u001b[0;34m\u001b[0m\u001b[0m\n\u001b[0;32m----> 2\u001b[0;31m   \u001b[0;32mfor\u001b[0m \u001b[0mi\u001b[0m \u001b[0;32min\u001b[0m \u001b[0mrange\u001b[0m\u001b[0;34m(\u001b[0m\u001b[0;36m0\u001b[0m\u001b[0;34m,\u001b[0m \u001b[0mlen\u001b[0m\u001b[0;34m(\u001b[0m\u001b[0marray\u001b[0m\u001b[0;34m)\u001b[0m\u001b[0;34m)\u001b[0m\u001b[0;34m:\u001b[0m\u001b[0;34m\u001b[0m\u001b[0;34m\u001b[0m\u001b[0m\n\u001b[0m\u001b[1;32m      3\u001b[0m     \u001b[0;32mfor\u001b[0m \u001b[0mj\u001b[0m \u001b[0;32min\u001b[0m \u001b[0mrange\u001b[0m\u001b[0;34m(\u001b[0m\u001b[0;36m0\u001b[0m\u001b[0;34m,\u001b[0m \u001b[0mlen\u001b[0m\u001b[0;34m(\u001b[0m\u001b[0marray\u001b[0m\u001b[0;34m)\u001b[0m \u001b[0;34m-\u001b[0m \u001b[0mi\u001b[0m \u001b[0;34m-\u001b[0m \u001b[0;36m1\u001b[0m\u001b[0;34m)\u001b[0m\u001b[0;34m:\u001b[0m\u001b[0;34m\u001b[0m\u001b[0;34m\u001b[0m\u001b[0m\n\u001b[1;32m      4\u001b[0m       \u001b[0;32mif\u001b[0m \u001b[0marray\u001b[0m\u001b[0;34m[\u001b[0m\u001b[0mj\u001b[0m\u001b[0;34m]\u001b[0m \u001b[0;34m<\u001b[0m \u001b[0marray\u001b[0m\u001b[0;34m[\u001b[0m\u001b[0mj\u001b[0m \u001b[0;34m+\u001b[0m \u001b[0;36m1\u001b[0m\u001b[0;34m]\u001b[0m\u001b[0;34m:\u001b[0m\u001b[0;34m\u001b[0m\u001b[0;34m\u001b[0m\u001b[0m\n\u001b[1;32m      5\u001b[0m         \u001b[0mtemp\u001b[0m \u001b[0;34m=\u001b[0m \u001b[0marray\u001b[0m\u001b[0;34m[\u001b[0m\u001b[0mj\u001b[0m\u001b[0;34m]\u001b[0m\u001b[0;34m\u001b[0m\u001b[0;34m\u001b[0m\u001b[0m\n",
            "\u001b[0;31mTypeError\u001b[0m: 'numpy.int64' object is not callable"
          ]
        }
      ]
    },
    {
      "cell_type": "code",
      "source": [
        "Sample = np.array([[1,2,3],[4,5,6],[7,8,9],[10,11,12],[13,14,15]])\n",
        "Sample[0:3, 1]"
      ],
      "metadata": {
        "colab": {
          "base_uri": "https://localhost:8080/"
        },
        "id": "6IvFfo1ywS34",
        "outputId": "6a6da106-07a7-49fd-fc2d-f88a9f922cf0"
      },
      "execution_count": 160,
      "outputs": [
        {
          "output_type": "execute_result",
          "data": {
            "text/plain": [
              "array([2, 5, 8])"
            ]
          },
          "metadata": {},
          "execution_count": 160
        }
      ]
    },
    {
      "cell_type": "code",
      "source": [
        "import numpy\n",
        "Array1 = numpy.arange(20,1,-1)\n",
        "Array2 = numpy.array([1,2,3,4,5,6,7,8,9,10])\n",
        "result = numpy.hstack((Array1, Array2))\n",
        "print(result)"
      ],
      "metadata": {
        "colab": {
          "base_uri": "https://localhost:8080/"
        },
        "id": "1vbwh4tExA0X",
        "outputId": "32d0b415-59a9-4c1d-b971-a68b979dd37a"
      },
      "execution_count": 161,
      "outputs": [
        {
          "output_type": "stream",
          "name": "stdout",
          "text": [
            "[20 19 18 17 16 15 14 13 12 11 10  9  8  7  6  5  4  3  2  1  2  3  4  5\n",
            "  6  7  8  9 10]\n"
          ]
        }
      ]
    },
    {
      "cell_type": "code",
      "source": [
        "from numpy.core.shape_base import hstack\n",
        "Array1 = np.arange(20,2)\n",
        "Array2 = np.array([1,2,3,4,5,6,7,8,9,10])\n",
        "np.hstack((Array1, Array2))"
      ],
      "metadata": {
        "colab": {
          "base_uri": "https://localhost:8080/"
        },
        "id": "HR1U6XeMxKMn",
        "outputId": "fa5853bf-81ac-4d8e-902f-faa6a320c7cb"
      },
      "execution_count": 165,
      "outputs": [
        {
          "output_type": "execute_result",
          "data": {
            "text/plain": [
              "array([ 1,  2,  3,  4,  5,  6,  7,  8,  9, 10])"
            ]
          },
          "metadata": {},
          "execution_count": 165
        }
      ]
    },
    {
      "cell_type": "code",
      "source": [
        "array1 = np.array([[1,2],[3,4]]) \n",
        "array2 = np.array([[5,6],[7,8]])\n",
        "np.hstack((array1, array2))"
      ],
      "metadata": {
        "colab": {
          "base_uri": "https://localhost:8080/"
        },
        "id": "LWLBbkzCyGuL",
        "outputId": "7df9a6a2-b91c-477b-80b0-a4995c71ae95"
      },
      "execution_count": 169,
      "outputs": [
        {
          "output_type": "execute_result",
          "data": {
            "text/plain": [
              "array([[1, 2, 5, 6],\n",
              "       [3, 4, 7, 8]])"
            ]
          },
          "metadata": {},
          "execution_count": 169
        }
      ]
    },
    {
      "cell_type": "code",
      "source": [
        "import numpy as np\n",
        "\n",
        "A = np.array([[4], [12], [29]])\n",
        "B = np.array([[13], [21], [4]])\n",
        "\n",
        "cross_product = np.cross(A.ravel(), B.ravel())\n",
        "\n",
        "print(cross_product)"
      ],
      "metadata": {
        "colab": {
          "base_uri": "https://localhost:8080/"
        },
        "id": "TLIekDgBzY6G",
        "outputId": "7f05377c-3ed6-4d1f-aba9-e62985b414be"
      },
      "execution_count": 171,
      "outputs": [
        {
          "output_type": "stream",
          "name": "stdout",
          "text": [
            "[-561  361  -72]\n"
          ]
        }
      ]
    },
    {
      "cell_type": "code",
      "source": [
        "A = np.array([1,3,5,7,9,11,13,15,17,19,21,23,25]) \n",
        "B = np.array([0,2,4,6,8,10,12,14,16,18,20, 22, 24])\n",
        "corr_matrix = np.corrcoef(A, B)\n",
        "corr_coef = corr_matrix[0, 1]\n",
        "\n",
        "print(\"Correlation coefficient between A and B:\", corr_coef)"
      ],
      "metadata": {
        "colab": {
          "base_uri": "https://localhost:8080/"
        },
        "id": "wN5sSTOx0DkE",
        "outputId": "2559fa44-6381-468c-a4c7-d07c108587e4"
      },
      "execution_count": 173,
      "outputs": [
        {
          "output_type": "stream",
          "name": "stdout",
          "text": [
            "Correlation coefficient between A and B: 1.0\n"
          ]
        }
      ]
    },
    {
      "cell_type": "code",
      "source": [
        "import numpy as np\n",
        "\n",
        "A = np.array([1,3,5,7,9,11,13,15,17,19,21,23,25])\n",
        "B = np.array([0,2,4,6,8,10,12,14,16,18,20,22,24])\n",
        "\n",
        "corr_matrix = np.corrcoef(A, B)\n",
        "\n",
        "print(corr_matrix)"
      ],
      "metadata": {
        "colab": {
          "base_uri": "https://localhost:8080/"
        },
        "id": "Iq1Q1tJB03n3",
        "outputId": "0209af16-1116-4da5-fe2a-001f7b7bbd3b"
      },
      "execution_count": 175,
      "outputs": [
        {
          "output_type": "stream",
          "name": "stdout",
          "text": [
            "[[1. 1.]\n",
            " [1. 1.]]\n"
          ]
        }
      ]
    }
  ]
}