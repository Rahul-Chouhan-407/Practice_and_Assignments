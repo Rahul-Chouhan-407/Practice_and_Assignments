{
  "nbformat": 4,
  "nbformat_minor": 0,
  "metadata": {
    "colab": {
      "provenance": [],
      "authorship_tag": "ABX9TyNH9PpjhTW4LOk8LBJbDNrv",
      "include_colab_link": true
    },
    "kernelspec": {
      "name": "python3",
      "display_name": "Python 3"
    },
    "language_info": {
      "name": "python"
    }
  },
  "cells": [
    {
      "cell_type": "markdown",
      "metadata": {
        "id": "view-in-github",
        "colab_type": "text"
      },
      "source": [
        "<a href=\"https://colab.research.google.com/github/Rahul-Chouhan-407/Practice_and_Assignments/blob/main/Module_5_CNN_Assignment.ipynb\" target=\"_parent\"><img src=\"https://colab.research.google.com/assets/colab-badge.svg\" alt=\"Open In Colab\"/></a>"
      ]
    },
    {
      "cell_type": "code",
      "execution_count": 1,
      "metadata": {
        "colab": {
          "base_uri": "https://localhost:8080/"
        },
        "id": "6NoGvFfBLg92",
        "outputId": "3e7e2395-033e-4101-d77c-d2f4655d733d"
      },
      "outputs": [
        {
          "output_type": "stream",
          "name": "stdout",
          "text": [
            "Downloading data from https://storage.googleapis.com/tensorflow/tf-keras-datasets/mnist.npz\n",
            "11490434/11490434 [==============================] - 0s 0us/step\n",
            "Epoch 1/12\n",
            "1875/1875 [==============================] - 73s 38ms/step - loss: 0.2108 - accuracy: 0.9347 - val_loss: 0.0558 - val_accuracy: 0.9817\n",
            "Epoch 2/12\n",
            "1875/1875 [==============================] - 64s 34ms/step - loss: 0.0816 - accuracy: 0.9753 - val_loss: 0.0372 - val_accuracy: 0.9868\n",
            "Epoch 3/12\n",
            "1875/1875 [==============================] - 66s 35ms/step - loss: 0.0635 - accuracy: 0.9804 - val_loss: 0.0348 - val_accuracy: 0.9880\n",
            "Epoch 4/12\n",
            "1875/1875 [==============================] - 63s 34ms/step - loss: 0.0552 - accuracy: 0.9828 - val_loss: 0.0322 - val_accuracy: 0.9892\n",
            "Epoch 5/12\n",
            "1875/1875 [==============================] - 64s 34ms/step - loss: 0.0481 - accuracy: 0.9848 - val_loss: 0.0296 - val_accuracy: 0.9900\n",
            "Epoch 6/12\n",
            "1875/1875 [==============================] - 66s 35ms/step - loss: 0.0435 - accuracy: 0.9865 - val_loss: 0.0266 - val_accuracy: 0.9918\n",
            "Epoch 7/12\n",
            "1875/1875 [==============================] - 64s 34ms/step - loss: 0.0403 - accuracy: 0.9872 - val_loss: 0.0259 - val_accuracy: 0.9915\n",
            "Epoch 8/12\n",
            "1875/1875 [==============================] - 66s 35ms/step - loss: 0.0374 - accuracy: 0.9882 - val_loss: 0.0256 - val_accuracy: 0.9914\n",
            "Epoch 9/12\n",
            "1875/1875 [==============================] - 66s 35ms/step - loss: 0.0344 - accuracy: 0.9887 - val_loss: 0.0239 - val_accuracy: 0.9926\n",
            "Epoch 10/12\n",
            "1875/1875 [==============================] - 65s 35ms/step - loss: 0.0330 - accuracy: 0.9888 - val_loss: 0.0256 - val_accuracy: 0.9912\n",
            "Epoch 11/12\n",
            "1875/1875 [==============================] - 63s 34ms/step - loss: 0.0316 - accuracy: 0.9901 - val_loss: 0.0237 - val_accuracy: 0.9925\n",
            "Epoch 12/12\n",
            "1875/1875 [==============================] - 62s 33ms/step - loss: 0.0300 - accuracy: 0.9901 - val_loss: 0.0270 - val_accuracy: 0.9912\n",
            "313/313 [==============================] - 4s 13ms/step - loss: 0.0270 - accuracy: 0.9912\n",
            "Test loss: 0.02699558436870575\n",
            "Test accuracy: 0.9911999702453613\n"
          ]
        }
      ],
      "source": [
        "import tensorflow as tf\n",
        "from tensorflow import keras\n",
        "from tensorflow.keras import layers\n",
        "import numpy as np\n",
        "\n",
        "# Downloading the MNIST dataset\n",
        "mnist = keras.datasets.mnist\n",
        "\n",
        "# Loading the dataset into train and test sets\n",
        "(x_train, y_train), (x_test, y_test) = mnist.load_data()\n",
        "\n",
        "# Normalizing the pixel values between 0 and 1\n",
        "x_train = x_train.astype(\"float32\") / 255.0\n",
        "x_test = x_test.astype(\"float32\") / 255.0\n",
        "\n",
        "# Reshaping the input data to 4D (batch_size, rows, columns, channels)\n",
        "x_train = np.expand_dims(x_train, -1)\n",
        "x_test = np.expand_dims(x_test, -1)\n",
        "\n",
        "# Creating a Sequential model\n",
        "model = keras.Sequential(\n",
        "    [\n",
        "        layers.Conv2D(32, kernel_size=(3, 3), activation=\"relu\", input_shape=(28, 28, 1)),\n",
        "        layers.MaxPooling2D(pool_size=(2, 2)),\n",
        "        layers.Conv2D(64, kernel_size=(3, 3), activation=\"relu\"),\n",
        "        layers.MaxPooling2D(pool_size=(2, 2)),\n",
        "        layers.Flatten(),\n",
        "        layers.Dropout(0.5),\n",
        "        layers.Dense(10, activation=\"softmax\"),\n",
        "    ]\n",
        ")\n",
        "\n",
        "# Compiling the model\n",
        "model.compile(loss=\"sparse_categorical_crossentropy\", optimizer=\"adam\", metrics=[\"accuracy\"])\n",
        "\n",
        "# Training the model for 12 epochs\n",
        "model.fit(x_train, y_train, epochs=12, validation_data=(x_test, y_test))\n",
        "\n",
        "# Evaluating the model on the test data and printing the loss and accuracy\n",
        "test_loss, test_acc = model.evaluate(x_test, y_test)\n",
        "print(\"Test loss:\", test_loss)\n",
        "print(\"Test accuracy:\", test_acc)\n"
      ]
    }
  ]
}