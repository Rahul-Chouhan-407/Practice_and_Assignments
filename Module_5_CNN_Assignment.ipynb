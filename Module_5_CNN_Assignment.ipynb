{
  "nbformat": 4,
  "nbformat_minor": 0,
  "metadata": {
    "colab": {
      "provenance": [],
      "authorship_tag": "ABX9TyNXsja7tIP1UaEzEUCChpmD",
      "include_colab_link": true
    },
    "kernelspec": {
      "name": "python3",
      "display_name": "Python 3"
    },
    "language_info": {
      "name": "python"
    }
  },
  "cells": [
    {
      "cell_type": "markdown",
      "metadata": {
        "id": "view-in-github",
        "colab_type": "text"
      },
      "source": [
        "<a href=\"https://colab.research.google.com/github/Rahul-Chouhan-407/Practice_and_Assignments/blob/main/Module_5_CNN_Assignment.ipynb\" target=\"_parent\"><img src=\"https://colab.research.google.com/assets/colab-badge.svg\" alt=\"Open In Colab\"/></a>"
      ]
    },
    {
      "cell_type": "markdown",
      "source": [
        "# **Module 5: CNN Assignment**\n",
        "\n",
        "**Tasks to be Done:**\n",
        "Using MNIST Dataset try to buildyourConvolutional Neural Network:\n",
        "\n",
        "**A. Do some necessary imports like:**\n",
        "\n",
        "a. Download the MNIST dataset through Keras\n",
        "\n",
        "b. Import a sequential model\n",
        "\n",
        "c. Import the convolution and pooling layers\n",
        "\n",
        "d. Import dense layers, dropout layer, and the flatten layer\n",
        "\n",
        "e. Import numpy\n",
        "\n",
        "**B. Fit the dataset to a model, i.e. train the model for 12 epochs.**\n",
        "\n",
        "a. After training the model,evaluate the loss and accuracy of the model on the test data and print it."
      ],
      "metadata": {
        "id": "WKTYU4C-UoJP"
      }
    },
    {
      "cell_type": "code",
      "execution_count": 2,
      "metadata": {
        "id": "6NoGvFfBLg92"
      },
      "outputs": [],
      "source": [
        "# Doing the necessary imports\n",
        "import tensorflow as tf\n",
        "from tensorflow import keras\n",
        "from tensorflow.keras import layers\n",
        "import numpy as np"
      ]
    },
    {
      "cell_type": "code",
      "source": [
        "# Downloading the MNIST dataset\n",
        "mnist = keras.datasets.mnist"
      ],
      "metadata": {
        "id": "rpWHn_9aO6bg"
      },
      "execution_count": 3,
      "outputs": []
    },
    {
      "cell_type": "code",
      "source": [
        "# Loading the dataset into train and test sets\n",
        "(x_train, y_train), (x_test, y_test) = mnist.load_data()"
      ],
      "metadata": {
        "id": "O-mDXd_KO6hk"
      },
      "execution_count": 5,
      "outputs": []
    },
    {
      "cell_type": "code",
      "source": [
        "print(x_train.shape)"
      ],
      "metadata": {
        "colab": {
          "base_uri": "https://localhost:8080/"
        },
        "id": "hDzjHeQIO6kU",
        "outputId": "35d105a0-94e9-4eef-934e-afd1a2a35eab"
      },
      "execution_count": 6,
      "outputs": [
        {
          "output_type": "stream",
          "name": "stdout",
          "text": [
            "(60000, 28, 28)\n"
          ]
        }
      ]
    },
    {
      "cell_type": "code",
      "source": [
        "print(x_test.shape)"
      ],
      "metadata": {
        "colab": {
          "base_uri": "https://localhost:8080/"
        },
        "id": "9K7g_YFNO6nn",
        "outputId": "e74d5458-a3c0-4e81-aaca-b5194b5c9650"
      },
      "execution_count": 7,
      "outputs": [
        {
          "output_type": "stream",
          "name": "stdout",
          "text": [
            "(10000, 28, 28)\n"
          ]
        }
      ]
    },
    {
      "cell_type": "code",
      "source": [
        "print(y_train.shape)"
      ],
      "metadata": {
        "colab": {
          "base_uri": "https://localhost:8080/"
        },
        "id": "HinfEborPw9V",
        "outputId": "8b2cb54a-44fe-4802-f054-4b68d1ac8b18"
      },
      "execution_count": 8,
      "outputs": [
        {
          "output_type": "stream",
          "name": "stdout",
          "text": [
            "(60000,)\n"
          ]
        }
      ]
    },
    {
      "cell_type": "code",
      "source": [
        "print(y_test.shape)"
      ],
      "metadata": {
        "colab": {
          "base_uri": "https://localhost:8080/"
        },
        "id": "QQWQQhsPPxF4",
        "outputId": "9a48b462-fca3-4cb0-c217-1c5a6eaf072b"
      },
      "execution_count": 9,
      "outputs": [
        {
          "output_type": "stream",
          "name": "stdout",
          "text": [
            "(10000,)\n"
          ]
        }
      ]
    },
    {
      "cell_type": "code",
      "source": [
        "# Normalizing the pixel values between 0 and 1\n",
        "x_train = x_train.astype(\"float32\") / 255.0\n",
        "x_test = x_test.astype(\"float32\") / 255.0"
      ],
      "metadata": {
        "id": "N0pYalNPO6qD"
      },
      "execution_count": 11,
      "outputs": []
    },
    {
      "cell_type": "code",
      "source": [
        "# Reshaping the input data to 4D (batch_size, rows, columns, channels)\n",
        "x_train = np.expand_dims(x_train, -1)\n",
        "x_test = np.expand_dims(x_test, -1)"
      ],
      "metadata": {
        "id": "Q4X_OzClO6ti"
      },
      "execution_count": 12,
      "outputs": []
    },
    {
      "cell_type": "code",
      "source": [
        "# Creating a Sequential model\n",
        "model = keras.Sequential(\n",
        "    [\n",
        "        layers.Conv2D(32, kernel_size=(3, 3), activation=\"relu\", input_shape=(28, 28, 1)),\n",
        "        layers.MaxPooling2D(pool_size=(2, 2)),\n",
        "        layers.Conv2D(64, kernel_size=(3, 3), activation=\"relu\"),\n",
        "        layers.MaxPooling2D(pool_size=(2, 2)),\n",
        "        layers.Flatten(),\n",
        "        layers.Dropout(0.5),\n",
        "        layers.Dense(10, activation=\"softmax\"),\n",
        "    ]\n",
        ")"
      ],
      "metadata": {
        "id": "QrNClpOdO6vz"
      },
      "execution_count": 13,
      "outputs": []
    },
    {
      "cell_type": "code",
      "source": [
        "# Compiling the model\n",
        "model.compile(loss=\"sparse_categorical_crossentropy\", optimizer=\"adam\", metrics=[\"accuracy\"])"
      ],
      "metadata": {
        "id": "sOnckAMNO6yV"
      },
      "execution_count": 14,
      "outputs": []
    },
    {
      "cell_type": "code",
      "source": [
        "# Training the model for 12 epochs\n",
        "model.fit(x_train, y_train, epochs=12, validation_data=(x_test, y_test))"
      ],
      "metadata": {
        "colab": {
          "base_uri": "https://localhost:8080/"
        },
        "id": "TVba5W0LO63x",
        "outputId": "1d9b9eb2-2e8f-4438-a973-1eeb028e62a4"
      },
      "execution_count": 15,
      "outputs": [
        {
          "output_type": "stream",
          "name": "stdout",
          "text": [
            "Epoch 1/12\n",
            "1875/1875 [==============================] - 66s 35ms/step - loss: 0.2085 - accuracy: 0.9359 - val_loss: 0.0661 - val_accuracy: 0.9791\n",
            "Epoch 2/12\n",
            "1875/1875 [==============================] - 62s 33ms/step - loss: 0.0776 - accuracy: 0.9762 - val_loss: 0.0421 - val_accuracy: 0.9861\n",
            "Epoch 3/12\n",
            "1875/1875 [==============================] - 63s 34ms/step - loss: 0.0604 - accuracy: 0.9810 - val_loss: 0.0345 - val_accuracy: 0.9882\n",
            "Epoch 4/12\n",
            "1875/1875 [==============================] - 66s 35ms/step - loss: 0.0512 - accuracy: 0.9839 - val_loss: 0.0294 - val_accuracy: 0.9886\n",
            "Epoch 5/12\n",
            "1875/1875 [==============================] - 66s 35ms/step - loss: 0.0450 - accuracy: 0.9857 - val_loss: 0.0327 - val_accuracy: 0.9886\n",
            "Epoch 6/12\n",
            "1875/1875 [==============================] - 66s 35ms/step - loss: 0.0410 - accuracy: 0.9872 - val_loss: 0.0253 - val_accuracy: 0.9914\n",
            "Epoch 7/12\n",
            "1875/1875 [==============================] - 66s 35ms/step - loss: 0.0392 - accuracy: 0.9874 - val_loss: 0.0269 - val_accuracy: 0.9901\n",
            "Epoch 8/12\n",
            "1875/1875 [==============================] - 65s 35ms/step - loss: 0.0359 - accuracy: 0.9887 - val_loss: 0.0258 - val_accuracy: 0.9917\n",
            "Epoch 9/12\n",
            "1875/1875 [==============================] - 64s 34ms/step - loss: 0.0340 - accuracy: 0.9883 - val_loss: 0.0301 - val_accuracy: 0.9894\n",
            "Epoch 10/12\n",
            "1875/1875 [==============================] - 64s 34ms/step - loss: 0.0309 - accuracy: 0.9902 - val_loss: 0.0235 - val_accuracy: 0.9923\n",
            "Epoch 11/12\n",
            "1875/1875 [==============================] - 61s 33ms/step - loss: 0.0296 - accuracy: 0.9902 - val_loss: 0.0251 - val_accuracy: 0.9926\n",
            "Epoch 12/12\n",
            "1875/1875 [==============================] - 63s 33ms/step - loss: 0.0302 - accuracy: 0.9903 - val_loss: 0.0210 - val_accuracy: 0.9932\n"
          ]
        },
        {
          "output_type": "execute_result",
          "data": {
            "text/plain": [
              "<keras.callbacks.History at 0x7f1d56b15b40>"
            ]
          },
          "metadata": {},
          "execution_count": 15
        }
      ]
    },
    {
      "cell_type": "code",
      "source": [
        "# Evaluating the model on the test data and printing the loss and accuracy\n",
        "test_loss, test_acc = model.evaluate(x_test, y_test)\n",
        "print(\"Test loss:\", test_loss)\n",
        "print(\"Test accuracy:\", test_acc)"
      ],
      "metadata": {
        "colab": {
          "base_uri": "https://localhost:8080/"
        },
        "id": "73WCAmv5O659",
        "outputId": "2b18fc77-5767-477e-b60a-120532115d4f"
      },
      "execution_count": 16,
      "outputs": [
        {
          "output_type": "stream",
          "name": "stdout",
          "text": [
            "313/313 [==============================] - 4s 11ms/step - loss: 0.0210 - accuracy: 0.9932\n",
            "Test loss: 0.021029256284236908\n",
            "Test accuracy: 0.9932000041007996\n"
          ]
        }
      ]
    }
  ]
}