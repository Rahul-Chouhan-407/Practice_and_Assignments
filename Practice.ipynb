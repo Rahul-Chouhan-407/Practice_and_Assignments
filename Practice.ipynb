{
  "nbformat": 4,
  "nbformat_minor": 0,
  "metadata": {
    "colab": {
      "provenance": [],
      "authorship_tag": "ABX9TyPfLmND17qcITjQpUYyANCY",
      "include_colab_link": true
    },
    "kernelspec": {
      "name": "python3",
      "display_name": "Python 3"
    },
    "language_info": {
      "name": "python"
    }
  },
  "cells": [
    {
      "cell_type": "markdown",
      "metadata": {
        "id": "view-in-github",
        "colab_type": "text"
      },
      "source": [
        "<a href=\"https://colab.research.google.com/github/Rahul-Chouhan-407/Practice_and_Assignments/blob/main/Practice.ipynb\" target=\"_parent\"><img src=\"https://colab.research.google.com/assets/colab-badge.svg\" alt=\"Open In Colab\"/></a>"
      ]
    },
    {
      "cell_type": "code",
      "execution_count": null,
      "metadata": {
        "id": "WR4NTpnRf016"
      },
      "outputs": [],
      "source": [
        "import numpy as np"
      ]
    },
    {
      "cell_type": "code",
      "source": [
        "arr1 = np.array([3,5,7,2,9])"
      ],
      "metadata": {
        "id": "VCIPJwgnf5Nm"
      },
      "execution_count": null,
      "outputs": []
    },
    {
      "cell_type": "code",
      "source": [
        "print(np.sum(arr1))\n",
        "print(np.max(arr1))\n",
        "print(np.min(arr1))\n",
        "print(np.mean(arr1))\n",
        "print(np.median(arr1))\n",
        "print(np.var(arr1))\n",
        "print(np.std(arr1))"
      ],
      "metadata": {
        "colab": {
          "base_uri": "https://localhost:8080/"
        },
        "id": "8qwYCOSPgFuZ",
        "outputId": "8ee86836-7462-4b64-9967-c0b637a28a29"
      },
      "execution_count": null,
      "outputs": [
        {
          "output_type": "stream",
          "name": "stdout",
          "text": [
            "26\n",
            "9\n",
            "2\n",
            "5.2\n",
            "5.0\n",
            "6.5600000000000005\n",
            "2.5612496949731396\n"
          ]
        }
      ]
    },
    {
      "cell_type": "code",
      "source": [
        "# 2D Array\n",
        "a = np.array([[1,2,3],[4,12,6],[7,8,9]])"
      ],
      "metadata": {
        "id": "zdTKrtR9gF5H"
      },
      "execution_count": null,
      "outputs": []
    },
    {
      "cell_type": "code",
      "source": [
        "print(np.linalg.det(a))"
      ],
      "metadata": {
        "colab": {
          "base_uri": "https://localhost:8080/"
        },
        "id": "PnemQHvqjZSO",
        "outputId": "3ae5efc0-7cca-4dfa-b65b-d93d3f3e6d00"
      },
      "execution_count": null,
      "outputs": [
        {
          "output_type": "stream",
          "name": "stdout",
          "text": [
            "-83.99999999999999\n"
          ]
        }
      ]
    },
    {
      "cell_type": "code",
      "source": [
        "print(np.linalg.inv(a))"
      ],
      "metadata": {
        "colab": {
          "base_uri": "https://localhost:8080/"
        },
        "id": "5ZHhmusnJGWr",
        "outputId": "61f3b2df-9b63-48b4-bfe2-ed18f94abeab"
      },
      "execution_count": null,
      "outputs": [
        {
          "output_type": "stream",
          "name": "stdout",
          "text": [
            "[[-0.71428571 -0.07142857  0.28571429]\n",
            " [-0.07142857  0.14285714 -0.07142857]\n",
            " [ 0.61904762 -0.07142857 -0.04761905]]\n"
          ]
        }
      ]
    },
    {
      "cell_type": "code",
      "source": [
        "# Arithmetic Operations\n",
        "print(arr1 + arr1)\n",
        "print(arr1 - arr1)\n",
        "print(arr1 * arr1)\n",
        "print(arr1 ** 2)\n",
        "print(arr1 / arr1)\n",
        "print(arr1 // arr1)\n",
        "print(arr1 % arr1)\n"
      ],
      "metadata": {
        "colab": {
          "base_uri": "https://localhost:8080/"
        },
        "id": "Y8UTd2FAkpTD",
        "outputId": "f447d232-1e2c-435d-9ab2-b05697699f3a"
      },
      "execution_count": null,
      "outputs": [
        {
          "output_type": "stream",
          "name": "stdout",
          "text": [
            "[ 6 10 14  4 18]\n",
            "[0 0 0 0 0]\n",
            "[ 9 25 49  4 81]\n",
            "[ 9 25 49  4 81]\n",
            "[1. 1. 1. 1. 1.]\n",
            "[1 1 1 1 1]\n",
            "[0 0 0 0 0]\n"
          ]
        }
      ]
    },
    {
      "cell_type": "code",
      "source": [
        "b = np.array([1,2,3])\n",
        "c = np.array([4,5,6])"
      ],
      "metadata": {
        "id": "y5ovs0QDmK3J"
      },
      "execution_count": null,
      "outputs": []
    },
    {
      "cell_type": "code",
      "source": [
        "print(b % c)"
      ],
      "metadata": {
        "colab": {
          "base_uri": "https://localhost:8080/"
        },
        "id": "rOWYV1WwmT7B",
        "outputId": "19e7fb7a-0e21-45fb-f96b-23d4725a842e"
      },
      "execution_count": null,
      "outputs": [
        {
          "output_type": "stream",
          "name": "stdout",
          "text": [
            "[1 2 3]\n"
          ]
        }
      ]
    },
    {
      "cell_type": "code",
      "source": [
        "print(b + 1)\n",
        "print(b * 2)\n",
        "print(b - 1)\n",
        "print(b / 5)\n",
        "print(b // 2)\n",
        "print(b % 2)\n",
        "print(np.concatenate((b, c), axis=0))"
      ],
      "metadata": {
        "colab": {
          "base_uri": "https://localhost:8080/"
        },
        "id": "G9piNiThgGDJ",
        "outputId": "abc9068e-9781-4daf-dfa7-28483585cbfe"
      },
      "execution_count": null,
      "outputs": [
        {
          "output_type": "stream",
          "name": "stdout",
          "text": [
            "[2 3 4]\n",
            "[2 4 6]\n",
            "[0 1 2]\n",
            "[0.2 0.4 0.6]\n",
            "[0 1 1]\n",
            "[1 0 1]\n",
            "[1 2 3 4 5 6]\n"
          ]
        }
      ]
    },
    {
      "cell_type": "code",
      "source": [
        "# Concatenate vertically (along rows) using vstack\n",
        "result_vertical = np.vstack((b, c))\n",
        "\n",
        "print(\"Concatenated Vertically:\\n\", result_vertical)\n"
      ],
      "metadata": {
        "colab": {
          "base_uri": "https://localhost:8080/"
        },
        "id": "6UN9LeRXqBDM",
        "outputId": "4223b15a-63d8-4eae-93de-a65806f33acf"
      },
      "execution_count": null,
      "outputs": [
        {
          "output_type": "stream",
          "name": "stdout",
          "text": [
            "Concatenated Vertically:\n",
            " [[1 2 3]\n",
            " [4 5 6]]\n"
          ]
        }
      ]
    },
    {
      "cell_type": "code",
      "source": [
        "result_horizontal = np.hstack((b, c))\n",
        "\n",
        "print(\"Concatenated Horizontally:\\n\", result_vertical)"
      ],
      "metadata": {
        "colab": {
          "base_uri": "https://localhost:8080/"
        },
        "id": "kR2TBCwGqMPt",
        "outputId": "ff82184d-e9be-4bf4-f87c-8da4b4e3ea4c"
      },
      "execution_count": null,
      "outputs": [
        {
          "output_type": "stream",
          "name": "stdout",
          "text": [
            "Concatenated Horizontally:\n",
            " [[1 2 3]\n",
            " [4 5 6]]\n"
          ]
        }
      ]
    },
    {
      "cell_type": "code",
      "source": [
        "d = np.zeros((3,3),dtype = int)\n",
        "print(d)"
      ],
      "metadata": {
        "colab": {
          "base_uri": "https://localhost:8080/"
        },
        "id": "dJywZjaJqpdJ",
        "outputId": "d51f30d3-3cdb-4761-f904-dccd7f7a2c25"
      },
      "execution_count": null,
      "outputs": [
        {
          "output_type": "stream",
          "name": "stdout",
          "text": [
            "[[0 0 0]\n",
            " [0 0 0]\n",
            " [0 0 0]]\n"
          ]
        }
      ]
    },
    {
      "cell_type": "code",
      "source": [
        "# Create a 1D array of zeros with 5 elements\n",
        "arr1d = np.zeros(5, dtype = int)\n",
        "\n",
        "# Create a 2D array of zeros with 2 rows and 3 columns\n",
        "arr2d = np.zeros((2, 3))\n",
        "\n",
        "# Create a 3D array of zeros with dimensions 2x2x2\n",
        "arr3d = np.zeros((2, 2, 2))\n",
        "\n",
        "# Create a 2D array of zeros with a specified data type (int)\n",
        "arr_int = np.zeros((3, 3), dtype=int)\n",
        "\n",
        "# Create a 2D array of zeros with column-major order\n",
        "arr_col_major = np.zeros((2, 3), order='F')\n"
      ],
      "metadata": {
        "id": "iyCcWIIkrwPk"
      },
      "execution_count": null,
      "outputs": []
    },
    {
      "cell_type": "code",
      "source": [
        "print(arr1d)"
      ],
      "metadata": {
        "colab": {
          "base_uri": "https://localhost:8080/"
        },
        "id": "N8uecY7Sr1i8",
        "outputId": "f92ce740-f9ea-4352-8ca9-9e6302dc4c59"
      },
      "execution_count": null,
      "outputs": [
        {
          "output_type": "stream",
          "name": "stdout",
          "text": [
            "[0 0 0 0 0]\n"
          ]
        }
      ]
    },
    {
      "cell_type": "code",
      "source": [
        "print(arr2d)"
      ],
      "metadata": {
        "colab": {
          "base_uri": "https://localhost:8080/"
        },
        "id": "eAem3SghsFRk",
        "outputId": "b33d6cca-f7aa-4bc5-da4e-f65517a44d1c"
      },
      "execution_count": null,
      "outputs": [
        {
          "output_type": "stream",
          "name": "stdout",
          "text": [
            "[[0. 0. 0.]\n",
            " [0. 0. 0.]]\n"
          ]
        }
      ]
    },
    {
      "cell_type": "code",
      "source": [
        "arr_col_major"
      ],
      "metadata": {
        "colab": {
          "base_uri": "https://localhost:8080/"
        },
        "id": "BctEsBShsNdI",
        "outputId": "ac91f4dd-1cf5-4365-976a-dd8a5beec7d7"
      },
      "execution_count": null,
      "outputs": [
        {
          "output_type": "execute_result",
          "data": {
            "text/plain": [
              "array([[0., 0., 0.],\n",
              "       [0., 0., 0.]])"
            ]
          },
          "metadata": {},
          "execution_count": 17
        }
      ]
    },
    {
      "cell_type": "markdown",
      "source": [
        "**Pattern Programming**"
      ],
      "metadata": {
        "id": "DUP7qZZTUxPo"
      }
    },
    {
      "cell_type": "code",
      "source": [
        "# Printing a Square (5 x 5)\n",
        "n = 5\n",
        "for i in range(n):\n",
        "  for j in range(n):\n",
        "    print(\"*\", end = \" \")\n",
        "  print()"
      ],
      "metadata": {
        "colab": {
          "base_uri": "https://localhost:8080/"
        },
        "id": "vseFL7wsU1TR",
        "outputId": "3bbacb47-2d02-40bd-f2b6-c00c01988ab4"
      },
      "execution_count": null,
      "outputs": [
        {
          "output_type": "stream",
          "name": "stdout",
          "text": [
            "* * * * * \n",
            "* * * * * \n",
            "* * * * * \n",
            "* * * * * \n",
            "* * * * * \n"
          ]
        }
      ]
    },
    {
      "cell_type": "code",
      "source": [
        "# Printing a increasing triangle\n",
        "n = 5\n",
        "for i in range(n):\n",
        "  for j in range(i+1):\n",
        "    print(\"*\", end = \" \")\n",
        "  print()\n"
      ],
      "metadata": {
        "colab": {
          "base_uri": "https://localhost:8080/"
        },
        "id": "buz4nTlMYGYS",
        "outputId": "fc1ce8fd-d316-47f3-9e41-ef26f89ee3fa"
      },
      "execution_count": null,
      "outputs": [
        {
          "output_type": "stream",
          "name": "stdout",
          "text": [
            "* \n",
            "* * \n",
            "* * * \n",
            "* * * * \n",
            "* * * * * \n"
          ]
        }
      ]
    },
    {
      "cell_type": "code",
      "source": [
        "# Increasing Triangle - Taking the input from the User\n",
        "num = int(input('Enter the number of rows: '))\n",
        "for i in range(num):\n",
        "  for j in range(i+1):\n",
        "    print(\"*\", end = \" \")\n",
        "  print()"
      ],
      "metadata": {
        "colab": {
          "base_uri": "https://localhost:8080/"
        },
        "id": "otNhHrFgsg_w",
        "outputId": "093c9493-5793-4521-cd3c-a300a1422945"
      },
      "execution_count": null,
      "outputs": [
        {
          "output_type": "stream",
          "name": "stdout",
          "text": [
            "Enter the number of rows: 4\n",
            "* \n",
            "* * \n",
            "* * * \n",
            "* * * * \n"
          ]
        }
      ]
    },
    {
      "cell_type": "code",
      "source": [
        "# Printing a decreasing triangle\n",
        "n = 5\n",
        "for i in range(n):\n",
        "  for j in range(i,n):\n",
        "    print(\"*\", end = \" \")\n",
        "  print()"
      ],
      "metadata": {
        "colab": {
          "base_uri": "https://localhost:8080/"
        },
        "id": "I_3Ggzr0Yd-E",
        "outputId": "328e3b7a-5ba7-4d07-c41c-07883892cd5d"
      },
      "execution_count": null,
      "outputs": [
        {
          "output_type": "stream",
          "name": "stdout",
          "text": [
            "* * * * * \n",
            "* * * * \n",
            "* * * \n",
            "* * \n",
            "* \n"
          ]
        }
      ]
    },
    {
      "cell_type": "code",
      "source": [
        "# Right Sided Triangle\n",
        "n = 5\n",
        "for i in range(n):\n",
        "  for j in range(i,n):\n",
        "    print(\" \", end = \" \")\n",
        "  for j in range(i+1):\n",
        "    print(\"*\", end = \" \")\n",
        "  print()"
      ],
      "metadata": {
        "colab": {
          "base_uri": "https://localhost:8080/"
        },
        "id": "FTygDFldZMl0",
        "outputId": "331a8640-0451-4d21-b7a8-dc772dc6c9db"
      },
      "execution_count": null,
      "outputs": [
        {
          "output_type": "stream",
          "name": "stdout",
          "text": [
            "          * \n",
            "        * * \n",
            "      * * * \n",
            "    * * * * \n",
            "  * * * * * \n"
          ]
        }
      ]
    },
    {
      "cell_type": "code",
      "source": [
        "# Right Sided Inverted Triangle\n",
        "n = 5\n",
        "for i in range(n):\n",
        "  for j in range(i+1):\n",
        "    print(\" \", end = \" \")\n",
        "  for j in range(i,n):\n",
        "    print(\"*\", end = \" \")\n",
        "  print()"
      ],
      "metadata": {
        "colab": {
          "base_uri": "https://localhost:8080/"
        },
        "id": "0t0JEmG0bKni",
        "outputId": "cedf0630-a530-45c2-d9a0-00a16204ffcd"
      },
      "execution_count": null,
      "outputs": [
        {
          "output_type": "stream",
          "name": "stdout",
          "text": [
            "  * * * * * \n",
            "    * * * * \n",
            "      * * * \n",
            "        * * \n",
            "          * \n"
          ]
        }
      ]
    },
    {
      "cell_type": "code",
      "source": [
        "# Hill Pattern\n",
        "n = 5\n",
        "for i in range(n):\n",
        "  for j in range(i,n):\n",
        "    print(\"\", end = \" \")\n",
        "  for j in range(i+1):\n",
        "    print(\"*\", end = \" \")\n",
        "  print()\n"
      ],
      "metadata": {
        "colab": {
          "base_uri": "https://localhost:8080/"
        },
        "id": "ootPKhKTc5CY",
        "outputId": "28d35774-dbfc-4ae1-8475-ea89701fa29e"
      },
      "execution_count": null,
      "outputs": [
        {
          "output_type": "stream",
          "name": "stdout",
          "text": [
            "     * \n",
            "    * * \n",
            "   * * * \n",
            "  * * * * \n",
            " * * * * * \n"
          ]
        }
      ]
    },
    {
      "cell_type": "code",
      "source": [
        "# Hill Pattern (Option 2 - The real one)\n",
        "n = 5\n",
        "for i in range(n):\n",
        "  for j in range(i,n):\n",
        "    print(\" \", end = \" \")\n",
        "  for j in range(i):\n",
        "    print(\"*\", end = \" \")\n",
        "  for j in range(i+1):\n",
        "    print(\"*\", end = \" \")\n",
        "\n",
        "  print()\n"
      ],
      "metadata": {
        "colab": {
          "base_uri": "https://localhost:8080/"
        },
        "id": "iBuB3DJTdhms",
        "outputId": "e0b5a653-f871-4fdb-870c-b49406a6728e"
      },
      "execution_count": null,
      "outputs": [
        {
          "output_type": "stream",
          "name": "stdout",
          "text": [
            "          * \n",
            "        * * * \n",
            "      * * * * * \n",
            "    * * * * * * * \n",
            "  * * * * * * * * * \n"
          ]
        }
      ]
    },
    {
      "cell_type": "code",
      "source": [
        "# Hill Pattern (Upside Down)\n",
        "n = 5\n",
        "for i in range(n):\n",
        "  for j in range(i+1):\n",
        "    print(\" \", end = \" \")\n",
        "  for j in range(i+1,n):\n",
        "    print(\"*\", end = \" \")\n",
        "  for j in range(i,n):\n",
        "    print(\"*\", end = \" \")\n",
        "  print()\n"
      ],
      "metadata": {
        "colab": {
          "base_uri": "https://localhost:8080/"
        },
        "id": "sdNGsjGAejgO",
        "outputId": "3576a4be-7f8f-4932-d6f6-3b8ee9546eed"
      },
      "execution_count": null,
      "outputs": [
        {
          "output_type": "stream",
          "name": "stdout",
          "text": [
            "  * * * * * * * * * \n",
            "    * * * * * * * \n",
            "      * * * * * \n",
            "        * * * \n",
            "          * \n"
          ]
        }
      ]
    },
    {
      "cell_type": "code",
      "source": [
        "# Diamond Pattern\n",
        "n = 5\n",
        "for i in range(n-1):\n",
        "  for j in range(i,n):\n",
        "    print(\" \", end = \" \")\n",
        "  for j in range(i):\n",
        "    print(\"*\", end = \" \")\n",
        "  for j in range(i+1):\n",
        "    print(\"*\", end = \" \")\n",
        "  print()\n",
        "for i in range(n):\n",
        "  for j in range(i+1):\n",
        "    print(\" \", end = \" \")\n",
        "  for j in range(i+1,n):\n",
        "    print(\"*\", end = \" \")\n",
        "  for j in range(i,n):\n",
        "    print(\"*\", end = \" \")\n",
        "  print()"
      ],
      "metadata": {
        "colab": {
          "base_uri": "https://localhost:8080/"
        },
        "id": "zW9V2lKtgy2X",
        "outputId": "a0729647-98ff-4a6a-82ad-31e1469b0c51"
      },
      "execution_count": null,
      "outputs": [
        {
          "output_type": "stream",
          "name": "stdout",
          "text": [
            "          * \n",
            "        * * * \n",
            "      * * * * * \n",
            "    * * * * * * * \n",
            "  * * * * * * * * * \n",
            "    * * * * * * * \n",
            "      * * * * * \n",
            "        * * * \n",
            "          * \n"
          ]
        }
      ]
    },
    {
      "cell_type": "code",
      "source": [
        "# Sandglass Pattern\n",
        "n = 5\n",
        "for i in range(n-1):\n",
        "  for j in range(i+1):\n",
        "    print(\" \", end = \" \")\n",
        "  for j in range(i+1,n):\n",
        "    print(\"*\", end = \" \")\n",
        "  for j in range(i,n):\n",
        "    print(\"*\", end = \" \")\n",
        "  print()\n",
        "for i in range(n):\n",
        "  for j in range(i,n):\n",
        "    print(\" \", end = \" \")\n",
        "  for j in range(i):\n",
        "    print(\"*\", end = \" \")\n",
        "  for j in range(i+1):\n",
        "    print(\"*\", end = \" \")\n",
        "\n",
        "  print()\n"
      ],
      "metadata": {
        "colab": {
          "base_uri": "https://localhost:8080/"
        },
        "id": "Cx9zx5ZLia4F",
        "outputId": "c13ff383-3132-49da-c8c3-c206920f8fb5"
      },
      "execution_count": null,
      "outputs": [
        {
          "output_type": "stream",
          "name": "stdout",
          "text": [
            "  * * * * * * * * * \n",
            "    * * * * * * * \n",
            "      * * * * * \n",
            "        * * * \n",
            "          * \n",
            "        * * * \n",
            "      * * * * * \n",
            "    * * * * * * * \n",
            "  * * * * * * * * * \n"
          ]
        }
      ]
    },
    {
      "cell_type": "code",
      "source": [
        "# Butterfly Pattern\n",
        "n = 5\n",
        "for i in range(n-1):\n",
        "  for j in range(i+1):\n",
        "    print(\"*\", end = \" \")\n",
        "  for j in range(i,n):\n",
        "    print(\" \", end = \" \")\n",
        "  for j in range(i,n):\n",
        "    print(\" \", end = \" \")\n",
        "  for j in range(i+1):\n",
        "    print(\"*\", end = \" \")\n",
        "  print()\n",
        "for i in range(n):\n",
        "  for j in range(i,n):\n",
        "    print(\"*\", end = \" \")\n",
        "  for j in range(i+1):\n",
        "    print(\" \", end = \" \")\n",
        "  for j in range(i+1):\n",
        "    print(\" \", end = \" \")\n",
        "  for j in range(i,n):\n",
        "    print(\"*\", end = \" \")\n",
        "  print()"
      ],
      "metadata": {
        "colab": {
          "base_uri": "https://localhost:8080/"
        },
        "id": "uoBfJNVRi6tq",
        "outputId": "b7b631ed-b0d0-499a-d9f0-4b7897bf3013"
      },
      "execution_count": null,
      "outputs": [
        {
          "output_type": "stream",
          "name": "stdout",
          "text": [
            "*                     * \n",
            "* *                 * * \n",
            "* * *             * * * \n",
            "* * * *         * * * * \n",
            "* * * * *     * * * * * \n",
            "* * * *         * * * * \n",
            "* * *             * * * \n",
            "* *                 * * \n",
            "*                     * \n"
          ]
        }
      ]
    },
    {
      "cell_type": "markdown",
      "source": [
        "**Pattern Programs - Alphabets**"
      ],
      "metadata": {
        "id": "_7B_mJtRqihJ"
      }
    },
    {
      "cell_type": "code",
      "source": [
        "# Printing A\n",
        "for i in range(7):\n",
        "  for j in range(5):\n",
        "    if ((j == 0 or j == 4) and i != 0) or ((i == 0 or i ==3) and (j > 0 and j < 4)):\n",
        "      print(\"*\", end = \"\")\n",
        "    else:\n",
        "      print(end = \" \")\n",
        "  print()"
      ],
      "metadata": {
        "colab": {
          "base_uri": "https://localhost:8080/"
        },
        "id": "8wBYUKWukXx7",
        "outputId": "90e78295-b30d-4aaf-9786-e1b12a10c151"
      },
      "execution_count": null,
      "outputs": [
        {
          "output_type": "stream",
          "name": "stdout",
          "text": [
            " *** \n",
            "*   *\n",
            "*   *\n",
            "*****\n",
            "*   *\n",
            "*   *\n",
            "*   *\n"
          ]
        }
      ]
    },
    {
      "cell_type": "code",
      "source": [
        "# Printing B\n",
        "for i in range(7):\n",
        "  for j in range(5):\n",
        "    if (j == 0) or (j == 4 and (i != 0 and i != 3 and i != 6)) or ((i == 0 or i == 3 or i == 6) and (j > 0 or j < 4)):\n",
        "      print(\"*\", end = \" \")\n",
        "    else:\n",
        "      print(end = \" \")\n",
        "  print()"
      ],
      "metadata": {
        "colab": {
          "base_uri": "https://localhost:8080/"
        },
        "id": "gocAs4KVLEVG",
        "outputId": "98064083-9e06-46a1-ffa2-23a2a09f2138"
      },
      "execution_count": null,
      "outputs": [
        {
          "output_type": "stream",
          "name": "stdout",
          "text": [
            "* * * * * \n",
            "*    * \n",
            "*    * \n",
            "* * * * * \n",
            "*    * \n",
            "*    * \n",
            "* * * * * \n"
          ]
        }
      ]
    },
    {
      "cell_type": "code",
      "source": [
        "# Printing C (Type 1)\n",
        "for i in range(7):\n",
        "  for j in range(5):\n",
        "    if (j == 0) or ((i == 0 or i == 6) and (j > 0)):\n",
        "      print(\"*\", end=\" \")\n",
        "    else:\n",
        "      print(end=\" \")\n",
        "  print()"
      ],
      "metadata": {
        "colab": {
          "base_uri": "https://localhost:8080/"
        },
        "id": "bR68o_VEJyN2",
        "outputId": "e099837a-2c28-4d4e-ffae-ce8656e74fa5"
      },
      "execution_count": null,
      "outputs": [
        {
          "output_type": "stream",
          "name": "stdout",
          "text": [
            "* * * * * \n",
            "*     \n",
            "*     \n",
            "*     \n",
            "*     \n",
            "*     \n",
            "* * * * * \n"
          ]
        }
      ]
    },
    {
      "cell_type": "code",
      "source": [
        "# Printing C (Type 2)\n",
        "for i in range(7):\n",
        "  for j in range(5):\n",
        "    if ((i == 0 or i == 6)and (j > 0)) or (j == 0 and i != 0 and i != 6):\n",
        "      print(\"*\", end = \" \")\n",
        "    else:\n",
        "      print(end = \" \")\n",
        "  print()"
      ],
      "metadata": {
        "colab": {
          "base_uri": "https://localhost:8080/"
        },
        "id": "35kBUBrmVm8i",
        "outputId": "7f730590-c299-4c56-a69a-9e91b71d25fc"
      },
      "execution_count": null,
      "outputs": [
        {
          "output_type": "stream",
          "name": "stdout",
          "text": [
            " * * * * \n",
            "*     \n",
            "*     \n",
            "*     \n",
            "*     \n",
            "*     \n",
            " * * * * \n"
          ]
        }
      ]
    },
    {
      "cell_type": "code",
      "source": [
        "# Printing D\n",
        "for i in range(7):\n",
        "  for j in range(5):\n",
        "    if (j == 0) or ((i==0 or i==6) and (j>0 and j<4)) or ((i!=0 and i !=6) and (j==4)):\n",
        "      print(\"*\", end=\"\")\n",
        "    else:\n",
        "      print(end=\" \")\n",
        "  print()\n"
      ],
      "metadata": {
        "colab": {
          "base_uri": "https://localhost:8080/"
        },
        "id": "s64vRDZIXd4f",
        "outputId": "4b7f1c11-5cea-4cae-bbdf-c47131ff4274"
      },
      "execution_count": null,
      "outputs": [
        {
          "output_type": "stream",
          "name": "stdout",
          "text": [
            "**** \n",
            "*   *\n",
            "*   *\n",
            "*   *\n",
            "*   *\n",
            "*   *\n",
            "**** \n"
          ]
        }
      ]
    },
    {
      "cell_type": "code",
      "source": [
        "# Printing S\n",
        "for i in range(7):\n",
        "  for j in range(5):\n",
        "    if (i==0 and j!=0) or ((i==3) and (j!=0 or j!=4)) or (i==6 and j!=4) or ((i==1 or i==2) and j==0) or ((i==4 or i==5) and j==4):\n",
        "      print(\"*\", end=\"\")\n",
        "    else:\n",
        "      print(end=\" \")\n",
        "  print()"
      ],
      "metadata": {
        "colab": {
          "base_uri": "https://localhost:8080/"
        },
        "id": "VOWNQWTUaJdV",
        "outputId": "1f337efb-a1d7-48cd-a149-7681623ed4db"
      },
      "execution_count": null,
      "outputs": [
        {
          "output_type": "stream",
          "name": "stdout",
          "text": [
            " ****\n",
            "*    \n",
            "*    \n",
            "*****\n",
            "    *\n",
            "    *\n",
            "**** \n"
          ]
        }
      ]
    },
    {
      "cell_type": "code",
      "source": [
        "# Printing X\n",
        "for i in range(5):\n",
        "  for j in range(5):\n",
        "    if (((i==0 or i==4) and (j==0 or j==4)) or (i==2 and j==2) or ((i==1 or i==3) and (j==1 or j==3))):\n",
        "      print(\"*\", end=\"\")\n",
        "    else:\n",
        "      print(end=\" \")\n",
        "  print()"
      ],
      "metadata": {
        "colab": {
          "base_uri": "https://localhost:8080/"
        },
        "id": "hyCjql29clMd",
        "outputId": "19468054-2f40-4dad-8dbf-01aa84ce693f"
      },
      "execution_count": null,
      "outputs": [
        {
          "output_type": "stream",
          "name": "stdout",
          "text": [
            "*   *\n",
            " * * \n",
            "  *  \n",
            " * * \n",
            "*   *\n"
          ]
        }
      ]
    },
    {
      "cell_type": "markdown",
      "source": [
        "**Patterns using Numbers**"
      ],
      "metadata": {
        "id": "Mld4kGByg-tV"
      }
    },
    {
      "cell_type": "code",
      "source": [
        "n = int(input(\"Enter the number of rows needed: \"))\n",
        "for i in range(n):\n",
        "  for j in range(i+1):\n",
        "    print(j+1, end=\" \")\n",
        "  print()"
      ],
      "metadata": {
        "colab": {
          "base_uri": "https://localhost:8080/"
        },
        "id": "KipD5BPhhCBU",
        "outputId": "7c2862c0-cd92-46d8-baf7-1652486a63d6"
      },
      "execution_count": null,
      "outputs": [
        {
          "output_type": "stream",
          "name": "stdout",
          "text": [
            "Enter the number of rows needed: 5\n",
            "1 \n",
            "1 2 \n",
            "1 2 3 \n",
            "1 2 3 4 \n",
            "1 2 3 4 5 \n"
          ]
        }
      ]
    },
    {
      "cell_type": "code",
      "source": [
        "n = int(input(\"Enter the number of rows needed: \"))\n",
        "for i in range(n):\n",
        "  for j in range(i,-1,-1):\n",
        "    print(j+1, end=\" \")\n",
        "  print()"
      ],
      "metadata": {
        "colab": {
          "base_uri": "https://localhost:8080/"
        },
        "id": "zvLzS1Y2l_eh",
        "outputId": "c0d02d4d-ee65-4582-f1b0-55ae4c0bb662"
      },
      "execution_count": null,
      "outputs": [
        {
          "output_type": "stream",
          "name": "stdout",
          "text": [
            "Enter the number of rows needed: 5\n",
            "1 \n",
            "2 1 \n",
            "3 2 1 \n",
            "4 3 2 1 \n",
            "5 4 3 2 1 \n"
          ]
        }
      ]
    },
    {
      "cell_type": "code",
      "source": [
        "n = int(input(\"Enter the number of rows needed: \"))\n",
        "for i in range(n):\n",
        "  for j in range(i+1):\n",
        "    print(i+1, end=\" \")\n",
        "  print()"
      ],
      "metadata": {
        "colab": {
          "base_uri": "https://localhost:8080/"
        },
        "id": "0bQyJdDymmMU",
        "outputId": "4a700d30-96be-4135-8b79-f4d114be8e73"
      },
      "execution_count": null,
      "outputs": [
        {
          "output_type": "stream",
          "name": "stdout",
          "text": [
            "Enter the number of rows needed: 5\n",
            "1 \n",
            "2 2 \n",
            "3 3 3 \n",
            "4 4 4 4 \n",
            "5 5 5 5 5 \n"
          ]
        }
      ]
    },
    {
      "cell_type": "code",
      "source": [
        "n = int(input(\"Enter the number of rows needed: \"))\n",
        "for i in range(n,-1,-1):\n",
        "  for j in range(i,-1,-1):\n",
        "    print(i+1, end=\" \")\n",
        "  print()"
      ],
      "metadata": {
        "colab": {
          "base_uri": "https://localhost:8080/"
        },
        "id": "88Lvo9DJm8vB",
        "outputId": "a1f0af28-400c-4f83-f8cd-91f65119f1d0"
      },
      "execution_count": null,
      "outputs": [
        {
          "output_type": "stream",
          "name": "stdout",
          "text": [
            "Enter the number of rows needed: 5\n",
            "6 6 6 6 6 6 \n",
            "5 5 5 5 5 \n",
            "4 4 4 4 \n",
            "3 3 3 \n",
            "2 2 \n",
            "1 \n"
          ]
        }
      ]
    },
    {
      "cell_type": "markdown",
      "source": [
        "**Table of a Number**"
      ],
      "metadata": {
        "id": "CeSNep021yGE"
      }
    },
    {
      "cell_type": "code",
      "source": [
        "n = int(input(\"Enter a number: \"))\n",
        "for i in range(1,11):\n",
        "  print(f\"{n} x {i} = {n*i}\")\n"
      ],
      "metadata": {
        "colab": {
          "base_uri": "https://localhost:8080/"
        },
        "id": "QlG8d5iI1wna",
        "outputId": "557674ed-fcbf-41e0-d9ba-54851082d5cb"
      },
      "execution_count": null,
      "outputs": [
        {
          "output_type": "stream",
          "name": "stdout",
          "text": [
            "Enter a number: 7\n",
            "7 x 1 = 7\n",
            "7 x 2 = 14\n",
            "7 x 3 = 21\n",
            "7 x 4 = 28\n",
            "7 x 5 = 35\n",
            "7 x 6 = 42\n",
            "7 x 7 = 49\n",
            "7 x 8 = 56\n",
            "7 x 9 = 63\n",
            "7 x 10 = 70\n"
          ]
        }
      ]
    },
    {
      "cell_type": "markdown",
      "source": [
        "**Factorial of a Number**"
      ],
      "metadata": {
        "id": "G8um5qIP7CpM"
      }
    },
    {
      "cell_type": "code",
      "source": [
        "# Using FOR loop\n",
        "n = int(input(\"Enter the number: \"))\n",
        "fact = 1\n",
        "for i in range(1,n+1):\n",
        "  fact = fact * i\n",
        "print(f\"Factorial of {n} is {fact}\")"
      ],
      "metadata": {
        "colab": {
          "base_uri": "https://localhost:8080/"
        },
        "id": "WAoVExRi7Bub",
        "outputId": "678475b1-a27f-4127-dbda-d5c7ad7a934d"
      },
      "execution_count": null,
      "outputs": [
        {
          "output_type": "stream",
          "name": "stdout",
          "text": [
            "Enter the number: 7\n",
            "Factorial of 7 is 5040\n"
          ]
        }
      ]
    },
    {
      "cell_type": "code",
      "source": [
        "# Using WHILE loop\n",
        "n = int(input(\"Enter the number: \"))\n",
        "fact = 1\n",
        "while (n>0):\n",
        "  fact = fact * n\n",
        "  n = n-1\n",
        "print(f\"Factorial is\", fact)\n"
      ],
      "metadata": {
        "colab": {
          "base_uri": "https://localhost:8080/"
        },
        "id": "XucV2vVk8vRR",
        "outputId": "2d543a49-01da-411d-95d3-5d4680d04592"
      },
      "execution_count": null,
      "outputs": [
        {
          "output_type": "stream",
          "name": "stdout",
          "text": [
            "Enter the number: 7\n",
            "Factorial is 5040\n"
          ]
        }
      ]
    },
    {
      "cell_type": "markdown",
      "source": [
        "**Fibocacci Series**"
      ],
      "metadata": {
        "id": "KPCNOnvT_LZw"
      }
    },
    {
      "cell_type": "code",
      "source": [
        "# Using WHILE loop\n",
        "n = int(input(\"Enter a number: \"))\n",
        "x=0\n",
        "y=1\n",
        "z=0\n",
        "while (z<=n):\n",
        "  print(z, end=\" \")\n",
        "  x=y\n",
        "  y=z\n",
        "  z=x+y"
      ],
      "metadata": {
        "colab": {
          "base_uri": "https://localhost:8080/"
        },
        "id": "QPwq9HDg_g5_",
        "outputId": "b4f03059-e755-4c52-bbd6-9e9246170aee"
      },
      "execution_count": null,
      "outputs": [
        {
          "output_type": "stream",
          "name": "stdout",
          "text": [
            "Enter a number: 7\n",
            "0 1 1 2 3 5 "
          ]
        }
      ]
    },
    {
      "cell_type": "code",
      "source": [
        "# Using FOR loop\n",
        "n = int(input(\"Enter the number of terms: \"))\n",
        "x=0\n",
        "y=1\n",
        "z=0\n",
        "for i in range(n):\n",
        "  print(z, end=\" \")\n",
        "  x=y\n",
        "  y=z\n",
        "  z=x+y\n"
      ],
      "metadata": {
        "colab": {
          "base_uri": "https://localhost:8080/"
        },
        "id": "ePcPr2XDeeDN",
        "outputId": "76ee355d-932d-459b-bd23-180677bb1804"
      },
      "execution_count": null,
      "outputs": [
        {
          "output_type": "stream",
          "name": "stdout",
          "text": [
            "Enter the number of terms: 7\n",
            "0 1 1 2 3 5 8 "
          ]
        }
      ]
    },
    {
      "cell_type": "markdown",
      "source": [
        "**Armstrong Numbers**"
      ],
      "metadata": {
        "id": "m7ENgCLRqDqW"
      }
    },
    {
      "cell_type": "code",
      "source": [
        "# Printing Armstrong Numbers\n",
        "number = int(input(\"Enter a number till you want to find out the armstrong numbers: \"))\n",
        "for i in range(number):\n",
        "  num=i\n",
        "  result=0      # to store the results in various steps\n",
        "  n=len(str(i))\n",
        "  while (i>0):\n",
        "    digit = i%10\n",
        "    result = result + digit**n\n",
        "    i = i // 10\n",
        "  if num == result:\n",
        "    print(num, end=\" \")"
      ],
      "metadata": {
        "colab": {
          "base_uri": "https://localhost:8080/"
        },
        "id": "SgpGBTH8qHL3",
        "outputId": "0fec1eb2-8975-41af-92c6-f61c96825354"
      },
      "execution_count": null,
      "outputs": [
        {
          "output_type": "stream",
          "name": "stdout",
          "text": [
            "Enter a number till you want to find out the armstrong numbers: 1001\n",
            "0 1 2 3 4 5 6 7 8 9 153 370 371 407 "
          ]
        }
      ]
    },
    {
      "cell_type": "code",
      "source": [
        "# Finding out whether a number is a Armstrong Number\n",
        "i = int(input(\"Enter a number: \"))\n",
        "num=i\n",
        "result=0\n",
        "n=len(str(i))\n",
        "while(i>0):\n",
        "  digit = i%10\n",
        "  result = result + digit**n\n",
        "  i = i//10\n",
        "if (num == result):\n",
        "  print(f\"The number {num} is an Armstrong Number\")\n",
        "else:\n",
        "  print(f\"The number {num} is not an Armstrong Number\")\n"
      ],
      "metadata": {
        "colab": {
          "base_uri": "https://localhost:8080/"
        },
        "id": "AbTRRNqbTG6h",
        "outputId": "e5a793f2-20c7-440b-e7cc-5c98d4a6e772"
      },
      "execution_count": null,
      "outputs": [
        {
          "output_type": "stream",
          "name": "stdout",
          "text": [
            "Enter a number: 1001\n",
            "The number 1001 is not an Armstrong Number\n"
          ]
        }
      ]
    },
    {
      "cell_type": "markdown",
      "source": [
        "**Prime or not**"
      ],
      "metadata": {
        "id": "PMJSBH_kNCXW"
      }
    },
    {
      "cell_type": "code",
      "source": [
        "# Checking whether a number is prime or not\n",
        "n = int(input(\"Enter a number to check whether it is prime or not: \"))\n",
        "if n>1:\n",
        "  for i in range(2,n):\n",
        "    if n%i==0:\n",
        "      print(f\"{n} is not a Prime Number\")\n",
        "      break\n",
        "  else:\n",
        "    print(f\"{n} is a prime number\")\n",
        "else:\n",
        "  print(f\"Zero or Negative Numbers are not allowed\")"
      ],
      "metadata": {
        "colab": {
          "base_uri": "https://localhost:8080/"
        },
        "id": "VzRP0eLZNFw_",
        "outputId": "7fa7b208-6829-4965-c64a-7275aaf47868"
      },
      "execution_count": null,
      "outputs": [
        {
          "output_type": "stream",
          "name": "stdout",
          "text": [
            "Enter a number to check whether it is prime or not: 5\n",
            "5 is a prime number\n"
          ]
        }
      ]
    },
    {
      "cell_type": "markdown",
      "source": [
        "**Reverse of a number**"
      ],
      "metadata": {
        "id": "04ePvkwLPd43"
      }
    },
    {
      "cell_type": "code",
      "source": [
        "# Reverse of a number\n",
        "n = int(input(\"Enter a number: \"))\n",
        "rev=0\n",
        "while (n>0):\n",
        "  rev = (rev*10) + n%10\n",
        "  n=n//10\n",
        "print(f\"Reverse of the given number is {rev}\")"
      ],
      "metadata": {
        "colab": {
          "base_uri": "https://localhost:8080/"
        },
        "id": "TI3mwm2oPhDG",
        "outputId": "4bd2af5a-c0da-4bb9-c34f-f7fe9e0bbb9f"
      },
      "execution_count": null,
      "outputs": [
        {
          "output_type": "stream",
          "name": "stdout",
          "text": [
            "Enter a number: 4567\n",
            "Reverse of the given number is 7654\n"
          ]
        }
      ]
    },
    {
      "cell_type": "markdown",
      "source": [
        "**Sum of digits of a given number**"
      ],
      "metadata": {
        "id": "ovhZ0qVFQrhw"
      }
    },
    {
      "cell_type": "code",
      "source": [
        "# Sum of digits of a given number\n",
        "num = int(input(\"Enter a number to find out the sum of its digits: \"))\n",
        "sum=0\n",
        "while (num>0):\n",
        "  digit = num%10\n",
        "  sum = sum + digit\n",
        "  num = num // 10\n",
        "print(f\"Sum of digits of the given number is {sum}\")"
      ],
      "metadata": {
        "colab": {
          "base_uri": "https://localhost:8080/"
        },
        "id": "8L-gtIX8QsGh",
        "outputId": "0bef0f5a-dc13-4795-f4e6-09f0775298ab"
      },
      "execution_count": null,
      "outputs": [
        {
          "output_type": "stream",
          "name": "stdout",
          "text": [
            "Enter a number to find out the sum of its digits: 45678\n",
            "Sum of digits of the given number is 30\n"
          ]
        }
      ]
    },
    {
      "cell_type": "markdown",
      "source": [
        "**Sum of square of digits of a given number**"
      ],
      "metadata": {
        "id": "kHbax8izQsVK"
      }
    },
    {
      "cell_type": "code",
      "source": [
        "# Sum of square of digits of a given number\n",
        "num = int(input(\"Enter a number: \"))\n",
        "sum=0\n",
        "while (num>0):\n",
        "  digit = num%10\n",
        "  sum = sum + digit**2\n",
        "  num = num // 10\n",
        "print(f\"Sum of square of digits of the given number is {sum}\")"
      ],
      "metadata": {
        "colab": {
          "base_uri": "https://localhost:8080/"
        },
        "id": "Bv0GHj__Qsew",
        "outputId": "455b7f7e-c2a2-4c7e-fad1-61976d572d9c"
      },
      "execution_count": null,
      "outputs": [
        {
          "output_type": "stream",
          "name": "stdout",
          "text": [
            "Enter a number: 5678\n",
            "Sum of square of digits of the given number is 174\n"
          ]
        }
      ]
    },
    {
      "cell_type": "markdown",
      "source": [
        "**Sum of cube of digits of a given number**"
      ],
      "metadata": {
        "id": "3EUBMe6KQsoH"
      }
    },
    {
      "cell_type": "code",
      "source": [
        "# Sum of cube of digits of a given number\n",
        "num = int(input(\"Enter a number: \"))\n",
        "sum=0\n",
        "while (num>0):\n",
        "  digit = num%10\n",
        "  sum = sum + digit**3\n",
        "  num = num // 10\n",
        "print(f\"Sum of cube of digits of the given number is {sum}\")"
      ],
      "metadata": {
        "colab": {
          "base_uri": "https://localhost:8080/"
        },
        "id": "PgR5-trDQsyZ",
        "outputId": "f56f17a3-fe60-4302-b9de-0fc88c0ef87b"
      },
      "execution_count": null,
      "outputs": [
        {
          "output_type": "stream",
          "name": "stdout",
          "text": [
            "Enter a number: 5678\n",
            "Sum of cube of digits of the given number is 1196\n"
          ]
        }
      ]
    },
    {
      "cell_type": "markdown",
      "source": [
        "**Product of digits of a given number**"
      ],
      "metadata": {
        "id": "dZZEpoxAQs9V"
      }
    },
    {
      "cell_type": "code",
      "source": [
        "# Product of digits of a given number\n",
        "num = int(input(\"Enter a number to find out the product of its digits: \"))\n",
        "product=1\n",
        "while (num>0):\n",
        "  digit = num%10\n",
        "  product = product * digit\n",
        "  num = num // 10\n",
        "print(f\"Product of digits of the given number is {product}\")"
      ],
      "metadata": {
        "colab": {
          "base_uri": "https://localhost:8080/"
        },
        "id": "k4neJM57QtIM",
        "outputId": "b09d89b4-06c1-430c-8176-2418a9b4ce16"
      },
      "execution_count": null,
      "outputs": [
        {
          "output_type": "stream",
          "name": "stdout",
          "text": [
            "Enter a number to find out the product of its digits: 5678\n",
            "Product of digits of the given number is 1680\n"
          ]
        }
      ]
    },
    {
      "cell_type": "markdown",
      "source": [
        "**Sum of even digits and product of odd digits of a given number**"
      ],
      "metadata": {
        "id": "kJeEUH2vQtRs"
      }
    },
    {
      "cell_type": "code",
      "source": [],
      "metadata": {
        "id": "9KN0B0DgQtbX"
      },
      "execution_count": null,
      "outputs": []
    },
    {
      "cell_type": "markdown",
      "source": [
        "**Print factors of a given number**"
      ],
      "metadata": {
        "id": "Ku8DYzIdQt5V"
      }
    },
    {
      "cell_type": "code",
      "source": [],
      "metadata": {
        "id": "447vYDz2QuDH"
      },
      "execution_count": null,
      "outputs": []
    },
    {
      "cell_type": "markdown",
      "source": [
        "**Count total number of factors of a given number**"
      ],
      "metadata": {
        "id": "vQxNbFUeQuNQ"
      }
    },
    {
      "cell_type": "code",
      "source": [],
      "metadata": {
        "id": "ZGsiRne1QuWn"
      },
      "execution_count": null,
      "outputs": []
    },
    {
      "cell_type": "markdown",
      "source": [
        "**Count the number of vowels and consonants**"
      ],
      "metadata": {
        "id": "7FtpK6ycQuhG"
      }
    },
    {
      "cell_type": "code",
      "source": [],
      "metadata": {
        "id": "EMaVuA3TQupz"
      },
      "execution_count": null,
      "outputs": []
    },
    {
      "cell_type": "markdown",
      "source": [
        "**Program to find out the LCM**"
      ],
      "metadata": {
        "id": "fYIaIRcPw_la"
      }
    },
    {
      "cell_type": "code",
      "source": [],
      "metadata": {
        "id": "k8vD9l4exF2v"
      },
      "execution_count": null,
      "outputs": []
    },
    {
      "cell_type": "markdown",
      "source": [
        "**Program to find out the HCF**"
      ],
      "metadata": {
        "id": "GKgw70SVxGLp"
      }
    },
    {
      "cell_type": "code",
      "source": [],
      "metadata": {
        "id": "Sd3ZVNFfxLlk"
      },
      "execution_count": null,
      "outputs": []
    },
    {
      "cell_type": "markdown",
      "source": [
        "**Printing Even and Odd Numbers**"
      ],
      "metadata": {
        "id": "T4UPzxJ02L1X"
      }
    },
    {
      "cell_type": "code",
      "source": [
        "# Printing Even Numbers\n",
        "for i in range(0,101,2):\n",
        "  print(i, end=\" \")"
      ],
      "metadata": {
        "colab": {
          "base_uri": "https://localhost:8080/"
        },
        "id": "n7aEH3SfsWap",
        "outputId": "8cbc05b3-3d7b-40b2-c98f-c6fc9af49940"
      },
      "execution_count": null,
      "outputs": [
        {
          "output_type": "stream",
          "name": "stdout",
          "text": [
            "0 2 4 6 8 10 12 14 16 18 20 22 24 26 28 30 32 34 36 38 40 42 44 46 48 50 52 54 56 58 60 62 64 66 68 70 72 74 76 78 80 82 84 86 88 90 92 94 96 98 100 "
          ]
        }
      ]
    },
    {
      "cell_type": "code",
      "source": [
        "# Printing Odd Numbers\n",
        "for i in range(1,101,2):\n",
        "  print(i, end=\" \")"
      ],
      "metadata": {
        "colab": {
          "base_uri": "https://localhost:8080/"
        },
        "id": "vC-lcuL9ti5L",
        "outputId": "641dec98-80e0-441b-babc-0bd4fd2e54e7"
      },
      "execution_count": null,
      "outputs": [
        {
          "output_type": "stream",
          "name": "stdout",
          "text": [
            "1 3 5 7 9 11 13 15 17 19 21 23 25 27 29 31 33 35 37 39 41 43 45 47 49 51 53 55 57 59 61 63 65 67 69 71 73 75 77 79 81 83 85 87 89 91 93 95 97 99 "
          ]
        }
      ]
    },
    {
      "cell_type": "markdown",
      "source": [
        "**Swap two variables without using a temporary variable**"
      ],
      "metadata": {
        "id": "-uhjYe6ur3WI"
      }
    },
    {
      "cell_type": "code",
      "source": [
        "# Initial values of the variables\n",
        "a = int(input(\"Enter the value of a: \"))\n",
        "b = int(input(\"Enter the value of b: \"))\n",
        "\n",
        "# Swapping without a temporary variable\n",
        "a = a + b\n",
        "b = a - b\n",
        "a = a - b\n",
        "\n",
        "# Now, 'a' contains the value that was initially in 'b', and 'b' contains the value that was initially in 'a'\n",
        "print(\"After swapping:\")\n",
        "print(\"a =\", a)\n",
        "print(\"b =\", b)"
      ],
      "metadata": {
        "colab": {
          "base_uri": "https://localhost:8080/"
        },
        "id": "-tsiWhp9rxJd",
        "outputId": "73123dc8-f972-436c-833a-f46c8b9edcd7"
      },
      "execution_count": null,
      "outputs": [
        {
          "output_type": "stream",
          "name": "stdout",
          "text": [
            "Enter the value of a: 4\n",
            "Enter the value of b: 7\n",
            "After swapping:\n",
            "a = 7\n",
            "b = 4\n"
          ]
        }
      ]
    },
    {
      "cell_type": "markdown",
      "source": [
        "**Find the largest element in an array**"
      ],
      "metadata": {
        "id": "_Q9kpAcKsiIj"
      }
    },
    {
      "cell_type": "code",
      "source": [
        "# Define an array (list)\n",
        "arr = [10, 45, 67, 23, 98, 54, 32]\n",
        "\n",
        "# Initialize the maximum element to the first element of the array\n",
        "max_element = arr[0]\n",
        "\n",
        "# Iterate through the array to find the maximum element\n",
        "for num in arr:\n",
        "    if num > max_element:\n",
        "        max_element = num\n",
        "\n",
        "# Print the maximum element\n",
        "print(\"The largest element in the array is:\", max_element)"
      ],
      "metadata": {
        "colab": {
          "base_uri": "https://localhost:8080/"
        },
        "id": "1kRRcqwespjX",
        "outputId": "3aff3c51-5ea5-4c5e-a137-2a91d62565ab"
      },
      "execution_count": null,
      "outputs": [
        {
          "output_type": "stream",
          "name": "stdout",
          "text": [
            "The largest element in the array is: 98\n"
          ]
        }
      ]
    },
    {
      "cell_type": "markdown",
      "source": [
        "**Write a program to reverse a string**"
      ],
      "metadata": {
        "id": "9TDqTjNfs-cl"
      }
    },
    {
      "cell_type": "code",
      "source": [
        "# Input string\n",
        "input_string = input(\"Enter a string: \")\n",
        "\n",
        "# Reverse the string using slicing\n",
        "reversed_string = input_string[::-1]\n",
        "\n",
        "# Print the reversed string\n",
        "print(\"Reversed string:\", reversed_string)"
      ],
      "metadata": {
        "colab": {
          "base_uri": "https://localhost:8080/"
        },
        "id": "jVK6mMyltPfs",
        "outputId": "d2a2940e-a7b8-4e40-aca2-b9fbef816283"
      },
      "execution_count": null,
      "outputs": [
        {
          "output_type": "stream",
          "name": "stdout",
          "text": [
            "Enter a string: Rahul\n",
            "Reversed string: luhaR\n"
          ]
        }
      ]
    },
    {
      "cell_type": "markdown",
      "source": [
        "**Check if a string is a palindrome**"
      ],
      "metadata": {
        "id": "4zGFr_Zmt0p4"
      }
    },
    {
      "cell_type": "code",
      "source": [
        "input_string = input(\"Type in your string here: \")\n",
        "# Remove spaces and convert to lowercase\n",
        "clean_string = input_string.replace(\" \", \"\").lower()\n",
        "\n",
        "# Reverse the string\n",
        "reversed_string = clean_string[::-1]\n",
        "\n",
        "# Check if the original and reversed strings are the same\n",
        "if (clean_string == reversed_string):\n",
        "    print(\"The string is a palindrome.\")\n",
        "else:\n",
        "    print(\"The string is not a palindrome.\")"
      ],
      "metadata": {
        "colab": {
          "base_uri": "https://localhost:8080/"
        },
        "id": "KfTR3yBut4m0",
        "outputId": "39f262ff-644e-4d5f-b921-714c4bc075ad"
      },
      "execution_count": null,
      "outputs": [
        {
          "output_type": "stream",
          "name": "stdout",
          "text": [
            "Type in your string here: rahul is great\n",
            "The string is not a palindrome.\n"
          ]
        }
      ]
    },
    {
      "cell_type": "markdown",
      "source": [
        "**Count the occurrences of a character in a string**"
      ],
      "metadata": {
        "id": "96CkZ0SQvRUT"
      }
    },
    {
      "cell_type": "code",
      "source": [
        "# Input string\n",
        "input_string = input(\"Enter a string: \")\n",
        "\n",
        "# Input character to count\n",
        "char_to_count = input(\"Enter a character to count: \")\n",
        "\n",
        "# Initialize a counter for the character\n",
        "count = 0\n",
        "\n",
        "# Iterate through the string and count occurrences of the character\n",
        "for char in input_string:\n",
        "    if char == char_to_count:\n",
        "        count += 1\n",
        "\n",
        "# Print the count\n",
        "print(f\"The character '{char_to_count}' occurs {count} times in the string.\")"
      ],
      "metadata": {
        "colab": {
          "base_uri": "https://localhost:8080/"
        },
        "id": "BXgaudAtvTmk",
        "outputId": "8cd29134-6721-4bc0-cdab-749ce9647958"
      },
      "execution_count": null,
      "outputs": [
        {
          "output_type": "stream",
          "name": "stdout",
          "text": [
            "Enter a string: rahul is rocking!\n",
            "Enter a character to count: r\n",
            "The character 'r' occurs 2 times in the string.\n"
          ]
        }
      ]
    },
    {
      "cell_type": "markdown",
      "source": [
        "**Remove duplicates from a string**"
      ],
      "metadata": {
        "id": "GmD7e03lwJ-0"
      }
    },
    {
      "cell_type": "code",
      "source": [
        "# Input string\n",
        "input_string = input(\"Enter a string: \")\n",
        "\n",
        "# Initialize an empty string to store unique characters\n",
        "unique_string = \"\"\n",
        "\n",
        "# Iterate through the input string\n",
        "for char in input_string:\n",
        "    # If the character is not already in the unique_string, add it\n",
        "    if char not in unique_string:\n",
        "        unique_string += char\n",
        "\n",
        "# Print the string with duplicates removed\n",
        "print(\"String with duplicates removed:\", unique_string)"
      ],
      "metadata": {
        "colab": {
          "base_uri": "https://localhost:8080/"
        },
        "id": "65ILetowwLqC",
        "outputId": "c034c1f1-ba62-4159-ae3f-0aa175cec70d"
      },
      "execution_count": null,
      "outputs": [
        {
          "output_type": "stream",
          "name": "stdout",
          "text": [
            "Enter a string: rahul is a dashing personality\n",
            "String with duplicates removed: rahul isdngpeoty\n"
          ]
        }
      ]
    },
    {
      "cell_type": "markdown",
      "source": [
        "**Reverse words in a sentence**"
      ],
      "metadata": {
        "id": "IFjhx6Lf0-Cr"
      }
    },
    {
      "cell_type": "code",
      "source": [
        "# Input sentence\n",
        "input_sentence = input(\"Enter a sentence: \")\n",
        "\n",
        "# Split the sentence into words\n",
        "words = input_sentence.split()\n",
        "\n",
        "# Reverse the order of the words\n",
        "reversed_words = words[::-1]\n",
        "\n",
        "# Join the reversed words into a sentence\n",
        "reversed_sentence = ' '.join(reversed_words)\n",
        "\n",
        "# Print the reversed sentence\n",
        "print(\"Reversed sentence:\", reversed_sentence)"
      ],
      "metadata": {
        "colab": {
          "base_uri": "https://localhost:8080/"
        },
        "id": "3KW708Iv1wV6",
        "outputId": "6fb2b95b-8d73-49c7-8752-6269f2c10d51"
      },
      "execution_count": null,
      "outputs": [
        {
          "output_type": "stream",
          "name": "stdout",
          "text": [
            "Enter a sentence: rahul is great\n",
            "Reversed sentence: great is rahul\n"
          ]
        }
      ]
    },
    {
      "cell_type": "markdown",
      "source": [
        "**Check if two strings are anagrams**"
      ],
      "metadata": {
        "id": "jLO7WFNG2zCt"
      }
    },
    {
      "cell_type": "code",
      "source": [
        "# Input two strings\n",
        "string1 = input(\"Enter the first string: \")\n",
        "string2 = input(\"Enter the second string: \")\n",
        "\n",
        "# Remove spaces and convert to lowercase for case-insensitive comparison\n",
        "string1 = string1.replace(\" \", \"\").lower()\n",
        "string2 = string2.replace(\" \", \"\").lower()\n",
        "\n",
        "# Check if the sorted characters of both strings are the same\n",
        "if sorted(string1) == sorted(string2):\n",
        "  print(\"The strings are anagrams.\")\n",
        "else:\n",
        "  print(\"The strings are not anagrams.\")"
      ],
      "metadata": {
        "colab": {
          "base_uri": "https://localhost:8080/"
        },
        "id": "xbsxBKvZ3p8s",
        "outputId": "7132184e-a031-401b-85b8-f893e977d7ae"
      },
      "execution_count": null,
      "outputs": [
        {
          "output_type": "stream",
          "name": "stdout",
          "text": [
            "Enter the first string: Rahul\n",
            "Enter the second string: Chouhan\n",
            "The strings are not anagrams.\n"
          ]
        }
      ]
    },
    {
      "cell_type": "markdown",
      "source": [
        "**Data Structures: Implementing a Stack**"
      ],
      "metadata": {
        "id": "eN4D183D6WVW"
      }
    },
    {
      "cell_type": "code",
      "source": [
        "# Initialize an empty stack\n",
        "stack = []\n",
        "\n",
        "# Push elements onto the stack (add to the top)\n",
        "stack.append(1)\n",
        "stack.append(2)\n",
        "stack.append(3)\n",
        "\n",
        "# Pop elements from the stack (remove from the top)\n",
        "top_element = stack.pop()\n",
        "print(\"Popped:\", top_element)\n",
        "\n",
        "# View the top element without removing it\n",
        "if stack:\n",
        "    top_element = stack[-1]\n",
        "    print(\"Top element:\", top_element)\n",
        "else:\n",
        "    print(\"Stack is empty.\")"
      ],
      "metadata": {
        "colab": {
          "base_uri": "https://localhost:8080/"
        },
        "id": "VdqRFBAR6bz-",
        "outputId": "5022a123-05b1-4e66-9eaf-5ae4a514e259"
      },
      "execution_count": null,
      "outputs": [
        {
          "output_type": "stream",
          "name": "stdout",
          "text": [
            "Popped: 3\n",
            "Top element: 2\n"
          ]
        }
      ]
    },
    {
      "cell_type": "code",
      "source": [
        "# IMPLEMENTING STACK BY SETTING THE LIMIT\n",
        "stack = []\n",
        "def push():\n",
        "  if len(stack) == n:\n",
        "    print(\"Stack is full!\")\n",
        "  else:\n",
        "    element = input(\"Enter the element: \")\n",
        "    stack.append(element)\n",
        "    print(stack)\n",
        "\n",
        "def pop_element():\n",
        "  if not stack:\n",
        "    print(\"The stack is empty\")\n",
        "  else:\n",
        "    e = stack.pop()\n",
        "    print(\"Removed element: \", e)\n",
        "    print(stack)\n",
        "n = int(input(\"Set the limit of the stack: \"))\n",
        "while True:\n",
        "  print(\"Select the option: 1. Push 2. Pop 3. Quit\")\n",
        "  choice = int(input())\n",
        "  if choice == 1:\n",
        "    push()\n",
        "  elif choice == 2:\n",
        "    pop_element()\n",
        "  elif choice == 3:\n",
        "    break\n",
        "  else:\n",
        "    print(\"Enter the correct operation!\")"
      ],
      "metadata": {
        "colab": {
          "base_uri": "https://localhost:8080/"
        },
        "id": "duV2opI5Bwls",
        "outputId": "1fe8efa2-edff-4ae2-cc23-6994f2844466"
      },
      "execution_count": null,
      "outputs": [
        {
          "name": "stdout",
          "output_type": "stream",
          "text": [
            "Set the limit of the stack: 5\n",
            "Select the option: 1. Push 2. Pop 3. Quit\n",
            "3\n"
          ]
        }
      ]
    },
    {
      "cell_type": "markdown",
      "source": [
        "**Data Structures: Implementing a Queue**"
      ],
      "metadata": {
        "id": "JxMJk0uX83cF"
      }
    },
    {
      "cell_type": "code",
      "source": [
        "# Initialize an empty queue\n",
        "queue = []\n",
        "\n",
        "# Enqueue elements into the queue (add to the rear)\n",
        "queue.append(1)\n",
        "queue.append(2)\n",
        "queue.append(3)\n",
        "queue.append(4)\n",
        "queue.append(5)\n",
        "queue.append(6)\n",
        "queue.append(7)\n",
        "\n",
        "# Dequeue elements from the queue (remove from the front)\n",
        "front_element = queue.pop(0)\n",
        "print(\"Dequeued:\", front_element)\n",
        "\n",
        "# View the front element without removing it\n",
        "if queue:\n",
        "    front_element = queue[0]\n",
        "    print(\"Front element:\", front_element)\n",
        "else:\n",
        "    print(\"Queue is empty.\")"
      ],
      "metadata": {
        "colab": {
          "base_uri": "https://localhost:8080/"
        },
        "id": "_xcvHGQo-Dq8",
        "outputId": "d7dded05-ebfa-4529-cc15-ae3262af0cfc"
      },
      "execution_count": null,
      "outputs": [
        {
          "output_type": "stream",
          "name": "stdout",
          "text": [
            "Dequeued: 1\n",
            "Front element: 2\n"
          ]
        }
      ]
    },
    {
      "cell_type": "code",
      "source": [
        "# IMPLEMENTING STACK BY SETTING THE LIMIT\n",
        "queue = []\n",
        "def push():\n",
        "  if len(queue) == n:\n",
        "    print(\"Queue is full. No more entry!\")\n",
        "  else:\n",
        "    element = input(\"Enter the element: \")\n",
        "    queue.append(element)\n",
        "    print(queue)\n",
        "\n",
        "def pop_element():\n",
        "  if not queue:\n",
        "    print(\"The queue is empty\")\n",
        "  else:\n",
        "    e = queue.pop(0)\n",
        "    print(\"Removed element: \", e)\n",
        "    print(queue)\n",
        "n = int(input(\"Set a limit for the queue: \"))\n",
        "while True:\n",
        "  print(\"Select the option: 1. Push 2. Pop 3. Quit\")\n",
        "  choice = int(input())\n",
        "  if choice == 1:\n",
        "    push()\n",
        "  elif choice == 2:\n",
        "    pop_element()\n",
        "  elif choice == 3:\n",
        "    break\n",
        "  else:\n",
        "    print(\"Enter the correct operation!\")"
      ],
      "metadata": {
        "colab": {
          "base_uri": "https://localhost:8080/"
        },
        "id": "a7PAdNB-Kzgu",
        "outputId": "357a05fb-c8b5-47d5-b131-0aafefa76fd3"
      },
      "execution_count": null,
      "outputs": [
        {
          "name": "stdout",
          "output_type": "stream",
          "text": [
            "Set a limit for the queue: 3\n",
            "Select the option: 1. Push 2. Pop 3. Quit\n",
            "1\n",
            "Enter the element: 10\n",
            "['10']\n",
            "Select the option: 1. Push 2. Pop 3. Quit\n",
            "1\n",
            "Enter the element: 20\n",
            "['10', '20']\n",
            "Select the option: 1. Push 2. Pop 3. Quit\n",
            "1\n",
            "Enter the element: 30\n",
            "['10', '20', '30']\n",
            "Select the option: 1. Push 2. Pop 3. Quit\n",
            "1\n",
            "Queue is full. No more entry!\n",
            "Select the option: 1. Push 2. Pop 3. Quit\n",
            "2\n",
            "Removed element:  10\n",
            "['20', '30']\n",
            "Select the option: 1. Push 2. Pop 3. Quit\n",
            "2\n",
            "Removed element:  20\n",
            "['30']\n",
            "Select the option: 1. Push 2. Pop 3. Quit\n",
            "2\n",
            "Removed element:  30\n",
            "[]\n",
            "Select the option: 1. Push 2. Pop 3. Quit\n",
            "2\n",
            "The queue is empty\n",
            "Select the option: 1. Push 2. Pop 3. Quit\n",
            "3\n"
          ]
        }
      ]
    },
    {
      "cell_type": "code",
      "source": [
        "# QUEUE - PRACTICE\n",
        "\n",
        "def enqueue():\n",
        "  n = int(input(\"Enter the element to be inserted in the queue: \"))\n",
        "  queue.append(n)\n",
        "  print(f\"Element {n} inserted in the queue successfully\")\n",
        "  print(\"---------------------------\")\n",
        "\n",
        "def dequeue():\n",
        "  if len(queue) == 0:\n",
        "    print(\"The queue is empty\")\n",
        "    print(\"-------------------------\")\n",
        "  else:\n",
        "    print(f\"Element {queue[0]} deleted from the queue successfully\")\n",
        "    queue.pop(0)\n",
        "    print(\"---------------------------\")\n",
        "\n",
        "def display():\n",
        "  if len(queue) == 0:\n",
        "    print(\"The queue is empty\")\n",
        "    print(\"---------------------------\")\n",
        "  else:\n",
        "    for i in queue:\n",
        "      print(i, end = \" \")\n",
        "    print(f\"\\nFront of the queue is {queue[0]}\")\n",
        "    print(f\"Rear of the queue is {queue[-1]}\")\n",
        "    print(\"---------------------------\")\n",
        "\n",
        "queue = []\n",
        "\n",
        "while(1):\n",
        "  print(\"Choose the option:\\n1. Enqueue\\n2. Dequeue\\n3. Display\\n4. Exit\")\n",
        "  option = int(input(\"The option chosen is: \"))\n",
        "  if option == 1:\n",
        "    enqueue()\n",
        "  elif option == 2:\n",
        "    dequeue()\n",
        "  elif option == 3:\n",
        "    display()\n",
        "  else:\n",
        "    break\n",
        "    print(\"Please choose the correct option\")\n"
      ],
      "metadata": {
        "colab": {
          "base_uri": "https://localhost:8080/"
        },
        "id": "jdxSHDKYS4D9",
        "outputId": "47ee5d39-e663-40b9-9b72-5f7f88e5c35a"
      },
      "execution_count": null,
      "outputs": [
        {
          "name": "stdout",
          "output_type": "stream",
          "text": [
            "Choose the option:\n",
            "1. Enqueue\n",
            "2. Dequeue\n",
            "3. Display\n",
            "4. Exit\n",
            "The option chosen is: 1\n",
            "Enter the element to be inserted in the queue: 10\n",
            "Element 10 inserted in the queue successfully\n",
            "---------------------------\n",
            "Choose the option:\n",
            "1. Enqueue\n",
            "2. Dequeue\n",
            "3. Display\n",
            "4. Exit\n",
            "The option chosen is: 1\n",
            "Enter the element to be inserted in the queue: 20\n",
            "Element 20 inserted in the queue successfully\n",
            "---------------------------\n",
            "Choose the option:\n",
            "1. Enqueue\n",
            "2. Dequeue\n",
            "3. Display\n",
            "4. Exit\n",
            "The option chosen is: 1\n",
            "Enter the element to be inserted in the queue: 30\n",
            "Element 30 inserted in the queue successfully\n",
            "---------------------------\n",
            "Choose the option:\n",
            "1. Enqueue\n",
            "2. Dequeue\n",
            "3. Display\n",
            "4. Exit\n",
            "The option chosen is: 1\n",
            "Enter the element to be inserted in the queue: 40\n",
            "Element 40 inserted in the queue successfully\n",
            "---------------------------\n",
            "Choose the option:\n",
            "1. Enqueue\n",
            "2. Dequeue\n",
            "3. Display\n",
            "4. Exit\n",
            "The option chosen is: 3\n",
            "10 20 30 40 \n",
            "Front of the queue is 10\n",
            "Rear of the queue is 40\n",
            "---------------------------\n",
            "Choose the option:\n",
            "1. Enqueue\n",
            "2. Dequeue\n",
            "3. Display\n",
            "4. Exit\n",
            "The option chosen is: 2\n",
            "Element 10 deleted from the queue successfully\n",
            "---------------------------\n",
            "Choose the option:\n",
            "1. Enqueue\n",
            "2. Dequeue\n",
            "3. Display\n",
            "4. Exit\n",
            "The option chosen is: 3\n",
            "20 30 40 \n",
            "Front of the queue is 20\n",
            "Rear of the queue is 40\n",
            "---------------------------\n",
            "Choose the option:\n",
            "1. Enqueue\n",
            "2. Dequeue\n",
            "3. Display\n",
            "4. Exit\n",
            "The option chosen is: 4\n"
          ]
        }
      ]
    },
    {
      "cell_type": "markdown",
      "source": [
        "**Selection Sort**"
      ],
      "metadata": {
        "id": "VWfZgd2eYSbY"
      }
    },
    {
      "cell_type": "code",
      "source": [
        "# Implementing Selection Sort\n",
        "\n",
        "arr = [9,65,4,7,34,76,2]\n",
        "for i in range(len(arr)):\n",
        "  min_index = i\n",
        "  for j in range(i+1, len(arr)):\n",
        "    if arr[j] < arr[min_index]:\n",
        "      min_index = j\n",
        "  arr[i], arr[min_index] = arr[min_index], arr[i]\n",
        "print(arr)\n"
      ],
      "metadata": {
        "colab": {
          "base_uri": "https://localhost:8080/"
        },
        "id": "up-yKKbfYR4q",
        "outputId": "085842ae-2084-40d5-f56b-c751680a069a"
      },
      "execution_count": null,
      "outputs": [
        {
          "output_type": "stream",
          "name": "stdout",
          "text": [
            "[2, 4, 7, 9, 34, 65, 76]\n"
          ]
        }
      ]
    },
    {
      "cell_type": "markdown",
      "source": [
        "**Merge Sort (Using Recursion)**"
      ],
      "metadata": {
        "id": "V1pLF0xYfKp7"
      }
    },
    {
      "cell_type": "code",
      "source": [
        "def merge_sort(arr):\n",
        "  if len(arr) > 1:\n",
        "    mid = len(arr)//2\n",
        "    left_arr = arr[:mid]    # Splitting the array\n",
        "    right_arr = arr[mid:]\n",
        "    merge_sort(left_arr)   # Recursion. Continue splitting till each array has a songle element.\n",
        "    merge_sort(right_arr)\n",
        "    i=0     # Initializing index of left array\n",
        "    j=0     # Initializing index of right array\n",
        "    k=0     # Initializing index of the main array\n",
        "    while i<len(left_arr) and j<len(right_arr):\n",
        "      if left_arr[i] < right_arr[j]:\n",
        "        arr[k] = left_arr[i]\n",
        "        i=i+1\n",
        "        k=k+1\n",
        "      else:\n",
        "        arr[k] = right_arr[j]\n",
        "        j=j+1\n",
        "        k=k+1\n",
        "\n",
        "    while i<len(left_arr):  # To check whether any element is left in the left array\n",
        "      arr[k] = left_arr[i]\n",
        "      i=i+1\n",
        "      k=j+1\n",
        "\n",
        "    while j<len(right_arr):  # To check whether any element is left in the right array\n",
        "      arr[k] = right_arr[j]\n",
        "      j=j+1\n",
        "      k=k+1\n",
        "\n",
        "num = int(input(\"Enter the number of elements you want to enter in an array: \"))\n",
        "arr = [int(input()) for x in range(num)]\n",
        "merge_sort(arr)\n",
        "print(arr)"
      ],
      "metadata": {
        "colab": {
          "base_uri": "https://localhost:8080/"
        },
        "id": "2DnGGFIqfPEi",
        "outputId": "81d29cd7-23ad-46a7-b141-bc2e6ab927d0"
      },
      "execution_count": null,
      "outputs": [
        {
          "output_type": "stream",
          "name": "stdout",
          "text": [
            "Enter the number of elements you want to enter in an array7\n",
            "4\n",
            "6\n",
            "1\n",
            "9\n",
            "5\n",
            "4\n",
            "3\n",
            "[1, 3, 4, 4, 5, 6, 9]\n"
          ]
        }
      ]
    },
    {
      "cell_type": "markdown",
      "source": [
        "**Quick Sort**"
      ],
      "metadata": {
        "id": "6nYEn5nlzAOg"
      }
    },
    {
      "cell_type": "code",
      "source": [],
      "metadata": {
        "id": "yQD_s5ZOvTMh"
      },
      "execution_count": null,
      "outputs": []
    },
    {
      "cell_type": "markdown",
      "source": [
        "**Bubble Sort**"
      ],
      "metadata": {
        "id": "QHXsD0A6zcZU"
      }
    },
    {
      "cell_type": "markdown",
      "source": [],
      "metadata": {
        "id": "ihLIjm-BzfbY"
      }
    },
    {
      "cell_type": "markdown",
      "source": [
        "**Implementation of Binary Search Algorithm**"
      ],
      "metadata": {
        "id": "Mk5GIYJpn4oV"
      }
    },
    {
      "cell_type": "code",
      "source": [
        "def binary_search(arr, target):\n",
        "    left, right = 0, len(arr) - 1\n",
        "\n",
        "    while left <= right:\n",
        "        mid = left + (right - left) // 2  # Calculate the middle index\n",
        "\n",
        "        if arr[mid] == target:\n",
        "            return mid  # Element found, return its index\n",
        "        elif arr[mid] < target:\n",
        "            left = mid + 1  # Adjust the left boundary\n",
        "        else:\n",
        "            right = mid - 1  # Adjust the right boundary\n",
        "\n",
        "    return -1  # Element not found in the list\n",
        "\n",
        "# Sorted list (you can modify this list as needed)\n",
        "sorted_list = [1, 3, 5, 7, 9, 11, 13, 15]\n",
        "\n",
        "# Target element to search for\n",
        "target_element = 7\n",
        "\n",
        "# Perform binary search\n",
        "result = binary_search(sorted_list, target_element)\n",
        "\n",
        "if result != -1:\n",
        "    print(f\"Element {target_element} found at index {result}\")\n",
        "else:\n",
        "    print(f\"Element {target_element} not found in the list\")\n"
      ],
      "metadata": {
        "colab": {
          "base_uri": "https://localhost:8080/"
        },
        "id": "yP-C-uYHf987",
        "outputId": "54738386-b9d0-44b7-ef77-2b6f7e66edf4"
      },
      "execution_count": null,
      "outputs": [
        {
          "output_type": "stream",
          "name": "stdout",
          "text": [
            "Element 7 found at index 3\n"
          ]
        }
      ]
    },
    {
      "cell_type": "code",
      "source": [
        "# Swapping 2 elements in an array\n",
        "\n",
        "def swap(a,b,arr):\n",
        "  arr[a], arr[b] = arr[b], arr[a]\n",
        "\n",
        "n = int(input(\"Enter the number of elements you want in an array: \"))\n",
        "\n",
        "arr = int(input(\"Enter the elements in the array: \"))\n",
        "\n",
        "swap(0,5,arr)\n",
        "print(arr)\n",
        "\n",
        "swap(1,4,arr)\n",
        "print(arr)\n"
      ],
      "metadata": {
        "colab": {
          "base_uri": "https://localhost:8080/"
        },
        "id": "Mjjp8i273Gy3",
        "outputId": "845bbe61-84c0-420b-e156-f8f773a2579a"
      },
      "execution_count": null,
      "outputs": [
        {
          "output_type": "stream",
          "name": "stdout",
          "text": [
            "[6, 2, 3, 4, 5, 1, 7]\n",
            "[6, 5, 3, 4, 2, 1, 7]\n"
          ]
        }
      ]
    },
    {
      "cell_type": "code",
      "source": [
        "# Quicksort Practice\n",
        "def quicksort(arr, left, right):\n",
        "  if left<right:\n",
        "    partition_pos = partition(arr,left,right)\n",
        "    quicksort(arr,left,partition_pos - 1)\n",
        "    quicksort(arr,partition_pos + 1,right)\n",
        "\n",
        "\n",
        "def partition(arr, left, right):\n",
        "  i = left\n",
        "  j =  right - 1\n",
        "  pivot = arr[right]\n",
        "  while i<j:\n",
        "    while i<right and arr[i] < pivot:\n",
        "      i=i+1\n",
        "    while j>left and arr[j] >= pivot:\n",
        "      j=j-1\n",
        "    if i<j:\n",
        "      arr[i],arr[j]=arr[j],arr[i]\n",
        "  if arr[i]>pivot:\n",
        "    arr[i],arr[right]=arr[right],arr[i]\n",
        "  return i"
      ],
      "metadata": {
        "id": "5X_r6DrDp1zY"
      },
      "execution_count": null,
      "outputs": []
    },
    {
      "cell_type": "code",
      "source": [
        "a = [5,19,3,89,6,4,8,2]\n",
        "quicksort(a,0,len(a)-1)\n",
        "print(a)"
      ],
      "metadata": {
        "colab": {
          "base_uri": "https://localhost:8080/"
        },
        "id": "FvufYkixyqnK",
        "outputId": "1e2f32fb-a3ee-4067-dfb9-6e7a97309360"
      },
      "execution_count": null,
      "outputs": [
        {
          "output_type": "stream",
          "name": "stdout",
          "text": [
            "[2, 3, 4, 5, 6, 8, 19, 89]\n"
          ]
        }
      ]
    },
    {
      "cell_type": "code",
      "source": [
        "for i in range(100):\n",
        "  if i%3 == 0:\n",
        "    print(i, end = \" \")"
      ],
      "metadata": {
        "colab": {
          "base_uri": "https://localhost:8080/"
        },
        "id": "3ATduhGUAeT-",
        "outputId": "af0b0b5d-cee8-4ef0-87b6-0265899ae37b"
      },
      "execution_count": null,
      "outputs": [
        {
          "output_type": "stream",
          "name": "stdout",
          "text": [
            "0 3 6 9 12 15 18 21 24 27 30 33 36 39 42 45 48 51 54 57 60 63 66 69 72 75 78 81 84 87 90 93 96 99 "
          ]
        }
      ]
    },
    {
      "cell_type": "code",
      "source": [
        "for i in range(0,100,3):\n",
        "  print(i, end=\" \")"
      ],
      "metadata": {
        "colab": {
          "base_uri": "https://localhost:8080/"
        },
        "id": "qkQkLJTHA82_",
        "outputId": "867570d5-e581-4630-ca7f-407ac382dc1c"
      },
      "execution_count": null,
      "outputs": [
        {
          "output_type": "stream",
          "name": "stdout",
          "text": [
            "0 3 6 9 12 15 18 21 24 27 30 33 36 39 42 45 48 51 54 57 60 63 66 69 72 75 78 81 84 87 90 93 96 99 "
          ]
        }
      ]
    },
    {
      "cell_type": "code",
      "source": [
        "list = []\n",
        "for i in range(100):\n",
        "  if i%3==0:\n",
        "    list.append(i)\n",
        "print(list)"
      ],
      "metadata": {
        "colab": {
          "base_uri": "https://localhost:8080/"
        },
        "id": "dJ8u84qABOy5",
        "outputId": "f5a3f4c8-c02d-4ca4-8116-0e9c1ebffdd3"
      },
      "execution_count": null,
      "outputs": [
        {
          "output_type": "stream",
          "name": "stdout",
          "text": [
            "[0, 3, 6, 9, 12, 15, 18, 21, 24, 27, 30, 33, 36, 39, 42, 45, 48, 51, 54, 57, 60, 63, 66, 69, 72, 75, 78, 81, 84, 87, 90, 93, 96, 99]\n"
          ]
        }
      ]
    },
    {
      "cell_type": "code",
      "source": [
        "list=[]\n",
        "for i in range(0,100,3):\n",
        "  list.append(i)\n",
        "print(list)\n"
      ],
      "metadata": {
        "colab": {
          "base_uri": "https://localhost:8080/"
        },
        "id": "vJjMx6bXB-ig",
        "outputId": "db664e28-6fdb-4962-89aa-d2be15ac5154"
      },
      "execution_count": null,
      "outputs": [
        {
          "output_type": "stream",
          "name": "stdout",
          "text": [
            "[0, 3, 6, 9, 12, 15, 18, 21, 24, 27, 30, 33, 36, 39, 42, 45, 48, 51, 54, 57, 60, 63, 66, 69, 72, 75, 78, 81, 84, 87, 90, 93, 96, 99]\n"
          ]
        }
      ]
    },
    {
      "cell_type": "code",
      "source": [
        "ls=[i for i in range(0,100,3)]\n",
        "print(ls)"
      ],
      "metadata": {
        "colab": {
          "base_uri": "https://localhost:8080/"
        },
        "id": "sTDGTLPGCQ4m",
        "outputId": "fbf768aa-8bcb-4ed9-9e9d-8c257093d058"
      },
      "execution_count": null,
      "outputs": [
        {
          "output_type": "stream",
          "name": "stdout",
          "text": [
            "[0, 3, 6, 9, 12, 15, 18, 21, 24, 27, 30, 33, 36, 39, 42, 45, 48, 51, 54, 57, 60, 63, 66, 69, 72, 75, 78, 81, 84, 87, 90, 93, 96, 99]\n"
          ]
        }
      ]
    },
    {
      "cell_type": "code",
      "source": [
        "s = \"Hello World\" # Using List Comprehension\n",
        "l=[i for i in s]\n",
        "print(l)"
      ],
      "metadata": {
        "colab": {
          "base_uri": "https://localhost:8080/"
        },
        "id": "Kcmi_wYmHWVO",
        "outputId": "4ec251e0-7954-4ce6-b631-90a5dfa2935e"
      },
      "execution_count": null,
      "outputs": [
        {
          "output_type": "stream",
          "name": "stdout",
          "text": [
            "['H', 'e', 'l', 'l', 'o', ' ', 'W', 'o', 'r', 'l', 'd']\n"
          ]
        }
      ]
    },
    {
      "cell_type": "code",
      "source": [
        "l = []                # Without using List Comprehension\n",
        "s = \"Hello World\"\n",
        "for i in s:\n",
        "  l.append(i)\n",
        "print(l)"
      ],
      "metadata": {
        "colab": {
          "base_uri": "https://localhost:8080/"
        },
        "id": "XDGgmvPrIL1K",
        "outputId": "2b1c5b76-0915-4738-9616-6cdd09050e15"
      },
      "execution_count": null,
      "outputs": [
        {
          "output_type": "stream",
          "name": "stdout",
          "text": [
            "['H', 'e', 'l', 'l', 'o', ' ', 'W', 'o', 'r', 'l', 'd']\n"
          ]
        }
      ]
    },
    {
      "cell_type": "markdown",
      "source": [
        "# **OOPS PRACTICE**"
      ],
      "metadata": {
        "id": "QQj4TvXSapyA"
      }
    },
    {
      "cell_type": "markdown",
      "source": [
        "# **Bank ATM Application**"
      ],
      "metadata": {
        "id": "XP1TRUih2m_7"
      }
    },
    {
      "cell_type": "code",
      "source": [
        "class Atm:\n",
        "  def __init__(self):\n",
        "    self.pin = \"\"\n",
        "    self.balance = 0\n",
        "    self.menu()\n",
        "\n",
        "  def menu(self):\n",
        "    user_input = input(\"\"\"\n",
        "    Hi! How are you?\n",
        "    1. Press 1 to create a Pin\n",
        "    2. Press 2 to change the Pin\n",
        "    3. Press 3 to check your account balance\n",
        "    4. Press 4 to withdraw money\n",
        "    5. Press anything else to exit\n",
        "    \"\"\")\n",
        "\n",
        "    if user_input == '1':\n",
        "      self.create_pin()\n",
        "      self.menu()\n",
        "\n",
        "    elif user_input == '2':\n",
        "      self.change_pin()\n",
        "\n",
        "\n",
        "    elif user_input == '3':\n",
        "      self.check_balance()\n",
        "\n",
        "    elif user_input == '4':\n",
        "      self.withdraw_money()\n",
        "\n",
        "    else:\n",
        "      exit()\n",
        "\n",
        "  def create_pin(self):\n",
        "    user_pin = input(\"Enter your desired 4 digit PIN: \")\n",
        "    self.pin = user_pin\n",
        "    user_balance = int(input(\"Enter your balance: \"))\n",
        "    self.balance = user_balance\n",
        "    print(\"Pin created successfully!\")\n",
        "    self.menu()\n",
        "\n",
        "  def change_pin(self):\n",
        "    old_pin = input(\"Enter your existing PIN: \")\n",
        "    if old_pin == self.pin:\n",
        "      new_pin = input(\"Enter your new PIN: \")\n",
        "      self.pin = new_pin\n",
        "      print(\"PIN changed successfully!\")\n",
        "      self.menu()\n",
        "    else:\n",
        "      print(\"Wrong Old Pin! Cannot let you change it.\")\n",
        "      self.menu()\n",
        "\n",
        "  def check_balance(self):\n",
        "    user_pin = input(\"Enter your PIN: \")\n",
        "    if user_pin == self.pin:\n",
        "      print(\"Your balance is\", self.balance)\n",
        "    else:\n",
        "      print(\"Wrong Pin entered!\")\n",
        "    self.menu()\n",
        "\n",
        "  def withdraw_money(self):\n",
        "    user_pin = input(\"Enter your Pin: \")\n",
        "    if user_pin == self.pin:\n",
        "      amount = int(input(\"Enter the amount to withdraw: \"))\n",
        "      if self.balance > amount:\n",
        "        self.balance = self.balance - amount\n",
        "        print(\"Amount withdrawn is\", amount)\n",
        "        print(\"Your new balance is\", self.balance)\n",
        "      else:\n",
        "        print(\"Insufficient Balance\")\n",
        "    self.menu()\n"
      ],
      "metadata": {
        "id": "6jipK3RT2seg"
      },
      "execution_count": 3,
      "outputs": []
    },
    {
      "cell_type": "code",
      "source": [
        "obj=Atm()"
      ],
      "metadata": {
        "colab": {
          "base_uri": "https://localhost:8080/"
        },
        "id": "k8cUDDb33LaT",
        "outputId": "1d42ff7b-2fd4-4f19-a460-e59de13a0425"
      },
      "execution_count": 4,
      "outputs": [
        {
          "name": "stdout",
          "output_type": "stream",
          "text": [
            "\n",
            "    Hi! How are you?\n",
            "    1. Press 1 to create a Pin\n",
            "    2. Press 2 to change the Pin\n",
            "    3. Press 3 to check your account balance\n",
            "    4. Press 4 to withdraw money\n",
            "    5. Press anything else to exit\n",
            "    1\n",
            "Enter your desired 4 digit PIN: 1234\n",
            "Enter your balance: 10000\n",
            "Pin created successfully!\n",
            "\n",
            "    Hi! How are you?\n",
            "    1. Press 1 to create a Pin\n",
            "    2. Press 2 to change the Pin\n",
            "    3. Press 3 to check your account balance\n",
            "    4. Press 4 to withdraw money\n",
            "    5. Press anything else to exit\n",
            "    3\n",
            "Enter your PIN: 1234\n",
            "Your balance is 10000\n",
            "\n",
            "    Hi! How are you?\n",
            "    1. Press 1 to create a Pin\n",
            "    2. Press 2 to change the Pin\n",
            "    3. Press 3 to check your account balance\n",
            "    4. Press 4 to withdraw money\n",
            "    5. Press anything else to exit\n",
            "    4\n",
            "Enter your Pin: 1234\n",
            "Enter the amount to withdraw: 3000\n",
            "Amount withdrawn is 3000\n",
            "Your new balance is 7000\n",
            "\n",
            "    Hi! How are you?\n",
            "    1. Press 1 to create a Pin\n",
            "    2. Press 2 to change the Pin\n",
            "    3. Press 3 to check your account balance\n",
            "    4. Press 4 to withdraw money\n",
            "    5. Press anything else to exit\n",
            "    3\n",
            "Enter your PIN: 1234\n",
            "Your balance is 7000\n",
            "\n",
            "    Hi! How are you?\n",
            "    1. Press 1 to create a Pin\n",
            "    2. Press 2 to change the Pin\n",
            "    3. Press 3 to check your account balance\n",
            "    4. Press 4 to withdraw money\n",
            "    5. Press anything else to exit\n",
            "    7\n",
            "\n",
            "    Hi! How are you?\n",
            "    1. Press 1 to create a Pin\n",
            "    2. Press 2 to change the Pin\n",
            "    3. Press 3 to check your account balance\n",
            "    4. Press 4 to withdraw money\n",
            "    5. Press anything else to exit\n",
            "    7\n"
          ]
        }
      ]
    },
    {
      "cell_type": "markdown",
      "source": [
        "# **Creating your own Data Type: Fraction**"
      ],
      "metadata": {
        "id": "vnCWYbPtWHRM"
      }
    },
    {
      "cell_type": "code",
      "source": [
        "class Fraction:\n",
        "  def __init__(self,x,y):\n",
        "    self.numerator = x\n",
        "    self.denominator = y\n",
        "\n",
        "  def __str__(self):\n",
        "    return \"{}/{}\".format(self.numerator,self.denominator)\n",
        "\n",
        "  def __add__(self,other):\n",
        "    new_numerator = self.numerator*other.denominator + self.denominator*other.numerator\n",
        "    new_denominator = self.denominator*other.denominator\n",
        "\n",
        "    return \"{}/{}\".format(new_numerator,new_denominator)\n",
        "\n",
        "  def __sub__(self,other):\n",
        "    new_numerator = self.numerator*other.denominator - self.denominator*other.numerator\n",
        "    new_denominator = self.denominator*other.denominator\n",
        "\n",
        "    return \"{}/{}\".format(new_numerator,new_denominator)\n",
        "\n",
        "  def __mul__(self,other):\n",
        "    new_numerator = self.numerator*other.numerator\n",
        "    new_denominator = self.denominator*other.denominator\n",
        "\n",
        "    return \"{}/{}\".format(new_numerator,new_denominator)\n",
        "\n",
        "  def __truediv__(self,other):\n",
        "    new_numerator = self.numerator*other.denominator\n",
        "    new_denominator = self.denominator*other.numerator\n",
        "\n",
        "    return \"{}/{}\".format(new_numerator,new_denominator)\n",
        "\n",
        "  def convert_to_decimal(self):\n",
        "    return self.numerator/self.denominator"
      ],
      "metadata": {
        "id": "Ng7VbvFrWNZQ"
      },
      "execution_count": 19,
      "outputs": []
    },
    {
      "cell_type": "code",
      "source": [
        "fr1 = Fraction(3,4)\n",
        "fr2 = Fraction(5,6)\n",
        "print(fr1 + fr2)\n",
        "print(fr1-fr2)\n",
        "print(fr2-fr1)\n",
        "print(fr1*fr2)\n",
        "print(fr1/fr2)\n",
        "fr1.convert_to_decimal()\n",
        "fr2.convert_to_decimal()"
      ],
      "metadata": {
        "colab": {
          "base_uri": "https://localhost:8080/"
        },
        "id": "4Q033McWchEN",
        "outputId": "db76b3eb-e05a-42cf-801b-fa8428fc4577"
      },
      "execution_count": 21,
      "outputs": [
        {
          "output_type": "stream",
          "name": "stdout",
          "text": [
            "38/24\n",
            "-2/24\n",
            "2/24\n",
            "15/24\n",
            "18/20\n"
          ]
        },
        {
          "output_type": "execute_result",
          "data": {
            "text/plain": [
              "0.8333333333333334"
            ]
          },
          "metadata": {},
          "execution_count": 21
        }
      ]
    },
    {
      "cell_type": "markdown",
      "source": [
        "# **OOP Classes to handle the below scenarios:**\n",
        "\n",
        "1.   A user can write and view 2D coordinates\n",
        "2.   Finding out distance between 2 coordinates\n",
        "1.   Finding out the distance of coordinates from origin\n",
        "2.   Check if the point lies on a given line\n",
        "1.   Finding out the distance between a given 2D point and a given line\n",
        "\n",
        "\n",
        "\n",
        "\n",
        "\n"
      ],
      "metadata": {
        "id": "iLVUDQHQmD4w"
      }
    },
    {
      "cell_type": "code",
      "source": [
        "class Point:\n",
        "\n",
        "  def __init__(self,x,y):\n",
        "    self.x_cord = x\n",
        "    self.y_cord = y\n",
        "\n",
        "  def __str__(self):\n",
        "    return \"<{},{}>\".format(self.x_cord,self.y_cord)\n",
        "\n",
        "  def euclidean_distance(self,other):\n",
        "    return ((self.x_cord - other.x_cord)**2 + (self.y_cord - other.y_cord)**2)**0.5\n",
        "\n",
        "  def dist_from_origin(self):\n",
        "    return (self.x_cord**2 + self.y_cord**2)**0.5\n",
        "\n",
        "class Line:\n",
        "\n",
        "  def __init__(self,A,B,C):\n",
        "    self.A = A\n",
        "    self.B = B\n",
        "    self.C = C\n",
        "\n",
        "  def __str__(self):\n",
        "    return \"{}x + {}y + {} = 0\".format(self.A,self.B,self.C)\n",
        "\n",
        "  def point_on_line(line,point):\n",
        "    if line.A*point.x_cord + line.B*point.y_cord + line.C == 0:\n",
        "      return \"Point lies on the line\"\n",
        "    else:\n",
        "      return \"Point does not lie on the line\"\n",
        "\n",
        "  def shortest_distance(line,point):\n",
        "    return abs(line.A*point.x_cord + line.B*point.y_cord + line.C)/(line.A**2 + line.B**2)**0.5\n",
        ""
      ],
      "metadata": {
        "id": "X4Vyq_xZnCbX"
      },
      "execution_count": 59,
      "outputs": []
    },
    {
      "cell_type": "code",
      "source": [
        "l1 = Line(1,1,-2)\n",
        "print(l1)\n",
        "p1 = Point(3,2)\n",
        "print(p1)\n",
        "l1.shortest_distance(p1)"
      ],
      "metadata": {
        "colab": {
          "base_uri": "https://localhost:8080/"
        },
        "id": "E2YDjuewx1jQ",
        "outputId": "2cc6e2b2-e88f-415f-b518-7451be285c85"
      },
      "execution_count": 61,
      "outputs": [
        {
          "output_type": "stream",
          "name": "stdout",
          "text": [
            "1x + 1y + -2 = 0\n",
            "<3,2>\n"
          ]
        },
        {
          "output_type": "execute_result",
          "data": {
            "text/plain": [
              "2.1213203435596424"
            ]
          },
          "metadata": {},
          "execution_count": 61
        }
      ]
    },
    {
      "cell_type": "code",
      "source": [
        "p1 = Point(3,2)\n",
        "print(p1)\n",
        "p2 = Point(4,3)\n",
        "print(p2)\n",
        "p1.euclidean_distance(p2)\n",
        "p1.dist_from_origin()"
      ],
      "metadata": {
        "colab": {
          "base_uri": "https://localhost:8080/"
        },
        "id": "4euTMS9krJKD",
        "outputId": "66dc38bd-b0cc-4b43-c955-68ef1bbf2606"
      },
      "execution_count": 39,
      "outputs": [
        {
          "output_type": "stream",
          "name": "stdout",
          "text": [
            "<3,2>\n",
            "<4,3>\n"
          ]
        },
        {
          "output_type": "execute_result",
          "data": {
            "text/plain": [
              "3.605551275463989"
            ]
          },
          "metadata": {},
          "execution_count": 39
        }
      ]
    },
    {
      "cell_type": "markdown",
      "source": [
        "# **Class Relationships:**\n",
        "\n",
        "1.   Aggregation\n",
        "2.   Inheritance\n",
        "\n"
      ],
      "metadata": {
        "id": "_pBrq1iTXrUZ"
      }
    },
    {
      "cell_type": "markdown",
      "source": [
        "## **Aggregation**"
      ],
      "metadata": {
        "id": "dH-P-E1KX3N9"
      }
    },
    {
      "cell_type": "code",
      "source": [
        "class Customer:\n",
        "  def __init__(self, name,gender,address):\n",
        "    self.name = name\n",
        "    self.gender = gender\n",
        "    self.address = address\n",
        "\n",
        "  def print_address(self):\n",
        "    print(self.address.houseno, self.address.colony, self.address.landmark, self.address.city, self.address.pincode, self.address.state)\n",
        "\n",
        "class Address:\n",
        "  def __init__(self,houseno,colony,landmark,city,pincode,state):\n",
        "    self.houseno = houseno\n",
        "    self.colony = colony\n",
        "    self.landmark = landmark\n",
        "    self.city = city\n",
        "    self.pincode = pincode\n",
        "    self.state = state"
      ],
      "metadata": {
        "id": "Bu_UOoHQX65i"
      },
      "execution_count": 65,
      "outputs": []
    },
    {
      "cell_type": "code",
      "source": [
        "add1 = Address(175, 'Sacchidanand Nagar', 'Kesharbagh Road', 'Indore', 452009, 'Madhya Pradesh')\n",
        "print(add1)"
      ],
      "metadata": {
        "colab": {
          "base_uri": "https://localhost:8080/"
        },
        "id": "HvFegPqSZBki",
        "outputId": "b3303b5c-ad6e-4240-cdce-93414f662f3a"
      },
      "execution_count": 66,
      "outputs": [
        {
          "output_type": "stream",
          "name": "stdout",
          "text": [
            "<__main__.Address object at 0x7f8e9ad1b100>\n"
          ]
        }
      ]
    },
    {
      "cell_type": "code",
      "source": [
        "cust1 = Customer('Rahul', 'Male', add1)\n",
        "print(cust1)"
      ],
      "metadata": {
        "colab": {
          "base_uri": "https://localhost:8080/"
        },
        "id": "75EBEnCegPoN",
        "outputId": "93c0ccb9-89da-4e78-dd16-1514a7e86f4c"
      },
      "execution_count": 67,
      "outputs": [
        {
          "output_type": "stream",
          "name": "stdout",
          "text": [
            "<__main__.Customer object at 0x7f8e9ad19720>\n"
          ]
        }
      ]
    },
    {
      "cell_type": "code",
      "source": [
        "cust1.print_address()\n",
        "print(cust1.name)\n",
        "print(cust1.gender)"
      ],
      "metadata": {
        "colab": {
          "base_uri": "https://localhost:8080/"
        },
        "id": "tLXEXAKEgewE",
        "outputId": "8aa36f99-b1c3-4613-fed4-cac2538c0fd3"
      },
      "execution_count": 69,
      "outputs": [
        {
          "output_type": "stream",
          "name": "stdout",
          "text": [
            "175 Sacchidanand Nagar Kesharbagh Road Indore 452009 Madhya Pradesh\n",
            "Rahul\n",
            "Male\n"
          ]
        }
      ]
    },
    {
      "cell_type": "code",
      "source": [],
      "metadata": {
        "id": "Py4Z4AA8Z2hy"
      },
      "execution_count": null,
      "outputs": []
    }
  ]
}