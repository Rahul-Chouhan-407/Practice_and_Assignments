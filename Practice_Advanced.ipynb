{
  "nbformat": 4,
  "nbformat_minor": 0,
  "metadata": {
    "colab": {
      "provenance": [],
      "authorship_tag": "ABX9TyN4ifIGgtfomfZ2El31jSLT",
      "include_colab_link": true
    },
    "kernelspec": {
      "name": "python3",
      "display_name": "Python 3"
    },
    "language_info": {
      "name": "python"
    }
  },
  "cells": [
    {
      "cell_type": "markdown",
      "metadata": {
        "id": "view-in-github",
        "colab_type": "text"
      },
      "source": [
        "<a href=\"https://colab.research.google.com/github/Rahul-Chouhan-407/Practice_and_Assignments/blob/main/Practice_Advanced.ipynb\" target=\"_parent\"><img src=\"https://colab.research.google.com/assets/colab-badge.svg\" alt=\"Open In Colab\"/></a>"
      ]
    },
    {
      "cell_type": "markdown",
      "source": [
        "**Creating a function to add any number of numbers (arguments)**"
      ],
      "metadata": {
        "id": "-VyEA94ZLebu"
      }
    },
    {
      "cell_type": "code",
      "source": [
        "def addn(*args):\n",
        "  result = 0\n",
        "  for i in args:\n",
        "    result = result + i\n",
        "  return (f\"The sum of numbers is {result}\")\n",
        "\n",
        "addn(1,3,5,7,9)"
      ],
      "metadata": {
        "colab": {
          "base_uri": "https://localhost:8080/",
          "height": 35
        },
        "id": "DWcWVNS4LsR_",
        "outputId": "212a1808-9467-4aa2-9c1f-24ba03e90751"
      },
      "execution_count": null,
      "outputs": [
        {
          "output_type": "execute_result",
          "data": {
            "text/plain": [
              "'The sum of numbers is 25'"
            ],
            "application/vnd.google.colaboratory.intrinsic+json": {
              "type": "string"
            }
          },
          "metadata": {},
          "execution_count": 9
        }
      ]
    },
    {
      "cell_type": "code",
      "source": [
        "def subn(arg1, *args):\n",
        "  result = arg1\n",
        "  for i in args:\n",
        "    result = result - i\n",
        "  return (f\"The substraction of numbers is {result}\")\n",
        "\n",
        "subn(5,3,8,1)"
      ],
      "metadata": {
        "colab": {
          "base_uri": "https://localhost:8080/",
          "height": 35
        },
        "id": "eTRaQA30Nf3g",
        "outputId": "de2f7fc6-7295-404f-d5fd-e55a3db4d389"
      },
      "execution_count": null,
      "outputs": [
        {
          "output_type": "execute_result",
          "data": {
            "text/plain": [
              "'The substraction of numbers is -7'"
            ],
            "application/vnd.google.colaboratory.intrinsic+json": {
              "type": "string"
            }
          },
          "metadata": {},
          "execution_count": 12
        }
      ]
    },
    {
      "cell_type": "code",
      "source": [
        "def muln(*args):\n",
        "  result = 1\n",
        "  for i in args:\n",
        "    result = result * i\n",
        "  return (f\"The multiplication of all the number is {result}\")\n",
        "\n",
        "muln(5,9,10)"
      ],
      "metadata": {
        "colab": {
          "base_uri": "https://localhost:8080/",
          "height": 35
        },
        "id": "vynQQmbHObS0",
        "outputId": "384ac9c1-2333-43d9-a5e4-df7e7162e38d"
      },
      "execution_count": null,
      "outputs": [
        {
          "output_type": "execute_result",
          "data": {
            "text/plain": [
              "'The multiplication of all the number is 450'"
            ],
            "application/vnd.google.colaboratory.intrinsic+json": {
              "type": "string"
            }
          },
          "metadata": {},
          "execution_count": 16
        }
      ]
    },
    {
      "cell_type": "code",
      "source": [
        "def divn(*args):\n",
        "    if len(args) < 2:\n",
        "        raise ValueError(\"At least two numbers are required for division.\")\n",
        "\n",
        "    result = args[0]\n",
        "    for i in args[1:]:\n",
        "        if i == 0:\n",
        "            raise ValueError(\"Division by zero is not allowed.\")\n",
        "        result = result/i\n",
        "    return (f\"The division of the following numbers is {result}\")\n",
        "\n",
        "# Example usage:\n",
        "divn(3,5,2)"
      ],
      "metadata": {
        "colab": {
          "base_uri": "https://localhost:8080/",
          "height": 35
        },
        "id": "d_-5lokEQB1c",
        "outputId": "c041d897-1a6d-4cfe-ce2d-c0872eee0a80"
      },
      "execution_count": null,
      "outputs": [
        {
          "output_type": "execute_result",
          "data": {
            "text/plain": [
              "'The division of the following numbers is 0.3'"
            ],
            "application/vnd.google.colaboratory.intrinsic+json": {
              "type": "string"
            }
          },
          "metadata": {},
          "execution_count": 31
        }
      ]
    },
    {
      "cell_type": "code",
      "source": [
        "class Fraction:\n",
        "  def __init__(self,x,y):\n",
        "    self.numerator = x\n",
        "    self.denominator = y\n",
        "\n",
        "  def __str__(self):\n",
        "    return \"{}/{}\".format(self.numerator,self.denominator)\n",
        "\n",
        "  def __add__(self,other):\n",
        "    new_numerator = self.numerator*other.denominator + self.denominator*other.numerator\n",
        "    new_denominator = self.denominator*other.denominator\n",
        "\n",
        "    return \"{}/{}\".format(new_numerator,new_denominator)\n",
        "\n",
        "  def __sub__(self,other):\n",
        "    new_numerator = self.numerator*other.denominator - self.denominator*other.numerator\n",
        "    new_denominator = self.denominator*other.denominator\n",
        "\n",
        "    return \"{}/{}\".format(new_numerator,new_denominator)\n",
        "\n",
        "  def __mul__(self,other):\n",
        "    new_numerator = self.numerator*other.numerator\n",
        "    new_denominator = self.denominator*other.denominator\n",
        "\n",
        "    return \"{}/{}\".format(new_numerator,new_denominator)\n",
        "\n",
        "  def __truediv__(self,other):\n",
        "    new_numerator = self.numerator*other.denominator\n",
        "    new_denominator = self.denominator*other.numerator\n",
        "\n",
        "    return \"{}/{}\".format(new_numerator,new_denominator)\n",
        "\n",
        "  def convert_to_decimal(self):\n",
        "    return self.numerator/self.denominator"
      ],
      "metadata": {
        "id": "2eV4-BYSRhub"
      },
      "execution_count": null,
      "outputs": []
    },
    {
      "cell_type": "code",
      "source": [
        "fr1 = Fraction(1,2)\n",
        "fr2 = Fraction(3,2)\n",
        "fr3 = Fraction(9,2)\n",
        "fr4 = Fraction(3,5)\n",
        "a = fr1+fr2\n",
        "print(a)\n",
        "b = fr3 + fr4\n",
        "print(b)\n",
        "print(a+b)"
      ],
      "metadata": {
        "colab": {
          "base_uri": "https://localhost:8080/"
        },
        "id": "Ujm_0jFQSKDN",
        "outputId": "a99ddabd-eb05-4457-92a7-4c7f0d524716"
      },
      "execution_count": null,
      "outputs": [
        {
          "output_type": "stream",
          "name": "stdout",
          "text": [
            "8/4\n",
            "51/10\n",
            "8/451/10\n"
          ]
        }
      ]
    },
    {
      "cell_type": "code",
      "source": [
        "from math import gcd\n",
        "\n",
        "class Fraction:\n",
        "    def __init__(self, numerator, denominator):\n",
        "        if denominator == 0:\n",
        "            raise ValueError(\"Denominator cannot be zero.\")\n",
        "        common = gcd(numerator, denominator)\n",
        "        self.numerator = numerator // common\n",
        "        self.denominator = denominator // common\n",
        "\n",
        "    def __add__(self, other):\n",
        "        if not isinstance(other, Fraction):\n",
        "            raise TypeError(\"You can only add Fraction objects.\")\n",
        "\n",
        "        # Calculate the common denominator\n",
        "        common_denominator = self.denominator * other.denominator\n",
        "\n",
        "        # Calculate the new numerators\n",
        "        new_numerator1 = self.numerator * other.denominator\n",
        "        new_numerator2 = other.numerator * self.denominator\n",
        "\n",
        "        # Calculate the sum of fractions\n",
        "        sum_numerator = new_numerator1 + new_numerator2\n",
        "\n",
        "        return Fraction(sum_numerator, common_denominator)\n",
        "\n",
        "    def __str__(self):\n",
        "        return f\"{self.numerator}/{self.denominator}\"\n",
        "\n",
        "# Example usage:\n",
        "fraction1 = Fraction(1, 2)\n",
        "fraction2 = Fraction(3, 4)\n",
        "fraction3 = Fraction(1, 3)\n",
        "\n",
        "result = fraction1 + fraction2 + fraction3\n",
        "print(\"Sum of fractions:\", result)\n"
      ],
      "metadata": {
        "colab": {
          "base_uri": "https://localhost:8080/"
        },
        "id": "g9FZud7FTs3c",
        "outputId": "adc9d54a-c9d3-43a0-fdd1-c983fb240c78"
      },
      "execution_count": null,
      "outputs": [
        {
          "output_type": "stream",
          "name": "stdout",
          "text": [
            "Sum of fractions: 19/12\n"
          ]
        }
      ]
    },
    {
      "cell_type": "markdown",
      "source": [
        "**HCF/GDC of two numbers**"
      ],
      "metadata": {
        "id": "feU7UBxZkNwt"
      }
    },
    {
      "cell_type": "code",
      "source": [
        "x = int(input(\"Enter the first number: \"))\n",
        "y = int(input(\"Enter the second number: \"))\n",
        "z = min(x,y)\n",
        "for i in range(1,z+1):\n",
        "  if x%i == 0 and y%i == 0:\n",
        "    hcf=i\n",
        "print(f\"The HCF/GCD of two numbers is {hcf}\")"
      ],
      "metadata": {
        "colab": {
          "base_uri": "https://localhost:8080/"
        },
        "id": "hu8SGuL7kS1R",
        "outputId": "266f747f-a528-4a91-e2b5-1779f01a9368"
      },
      "execution_count": null,
      "outputs": [
        {
          "output_type": "stream",
          "name": "stdout",
          "text": [
            "Enter the first number: 56\n",
            "Enter the second number: 82\n",
            "The HCF/GCD of two numbers is 2\n"
          ]
        }
      ]
    },
    {
      "cell_type": "code",
      "source": [
        "# HCF/GCD using function\n",
        "\n",
        "def hcf(x,y):\n",
        "  z = min(x,y)\n",
        "  for i in range(1,z+1):\n",
        "    if x%i == 0 and y%i == 0:\n",
        "      hcf=i\n",
        "  return hcf\n",
        "\n",
        "hcf(12,41)"
      ],
      "metadata": {
        "colab": {
          "base_uri": "https://localhost:8080/"
        },
        "id": "5Vt0iq34nDq0",
        "outputId": "a29d4706-f1d1-4ac8-f5c9-b89c262230b2"
      },
      "execution_count": null,
      "outputs": [
        {
          "output_type": "execute_result",
          "data": {
            "text/plain": [
              "1"
            ]
          },
          "metadata": {},
          "execution_count": 65
        }
      ]
    },
    {
      "cell_type": "markdown",
      "source": [
        "**LCM of 2 numbers**"
      ],
      "metadata": {
        "id": "IFlgA9rMrIOm"
      }
    },
    {
      "cell_type": "code",
      "source": [
        "x = int(input(\"Enter the first number: \"))\n",
        "y = int(input(\"Enter the second number: \"))\n",
        "z = max(x,y)\n",
        "while (True):\n",
        "  if z%x == 0 and z%y == 0:\n",
        "    break\n",
        "  z = z+1\n",
        "print(f\"The LCM of 2 numbers is {z}\")"
      ],
      "metadata": {
        "colab": {
          "base_uri": "https://localhost:8080/"
        },
        "id": "76f2bCOwrLzv",
        "outputId": "f447caab-9f39-4883-ebde-dd79910e6a6a"
      },
      "execution_count": null,
      "outputs": [
        {
          "output_type": "stream",
          "name": "stdout",
          "text": [
            "Enter the first number: 12\n",
            "Enter the second number: 48\n",
            "The LCM of 2 numbers is 48\n"
          ]
        }
      ]
    },
    {
      "cell_type": "code",
      "source": [
        "# LCM using a function\n",
        "def lcm(x,y):\n",
        "  z = max(x,y)\n",
        "  while(True):\n",
        "    if z%x == 0 and z%y == 0:\n",
        "      break\n",
        "    z = z+1\n",
        "  return (f\"The LCM of {x} and {y} is {z}\")\n",
        "\n",
        "lcm(36,48)\n"
      ],
      "metadata": {
        "colab": {
          "base_uri": "https://localhost:8080/",
          "height": 35
        },
        "id": "J0atHFsu2r9i",
        "outputId": "02c49a07-1489-4e68-d4bb-4489ab873463"
      },
      "execution_count": null,
      "outputs": [
        {
          "output_type": "execute_result",
          "data": {
            "text/plain": [
              "'The LCM of 36 and 48 is 144'"
            ],
            "application/vnd.google.colaboratory.intrinsic+json": {
              "type": "string"
            }
          },
          "metadata": {},
          "execution_count": 78
        }
      ]
    },
    {
      "cell_type": "markdown",
      "source": [
        "**Find the second largest element in an array**"
      ],
      "metadata": {
        "id": "cFUNOUs2v9FB"
      }
    },
    {
      "cell_type": "code",
      "source": [
        "n = int(input(\"Enter the number of elements you want in your list: \"))\n",
        "l=[]\n",
        "for i in range(1,n+1):\n",
        "  i = int(input(f\"Enter element {i}: \"))\n",
        "  l.append(i)\n",
        "print(f\"My list is {l}\")\n",
        "\n",
        "l.sort()\n",
        "print(f\"List after sorting: {l}\")\n",
        "\n",
        "second_largest_element = l[-2]\n",
        "print(f\"Bingo! The second largest element in the list is {second_largest_element}\")"
      ],
      "metadata": {
        "colab": {
          "base_uri": "https://localhost:8080/"
        },
        "id": "m_nNEk-m8ZFs",
        "outputId": "7ed03f3f-d1f0-415d-9d82-937f637addb8"
      },
      "execution_count": null,
      "outputs": [
        {
          "output_type": "stream",
          "name": "stdout",
          "text": [
            "Enter the number of elements you want in your list: 6\n",
            "Enter element 1: 3\n",
            "Enter element 2: 9\n",
            "Enter element 3: 7\n",
            "Enter element 4: 0\n",
            "Enter element 5: 2\n",
            "Enter element 6: 5\n",
            "My list is [3, 9, 7, 0, 2, 5]\n",
            "List after sorting: [0, 2, 3, 5, 7, 9]\n",
            "Bingo! The second largest element in the list is 7\n"
          ]
        }
      ]
    },
    {
      "cell_type": "code",
      "source": [
        "# Without using inbuilt functions\n",
        "n = int(input(\"Enter the number of elements you want in an array: \"))\n",
        "l=[]\n",
        "for i in range(n):\n",
        "  i = int(input(\"Enter the element: \"))\n",
        "  l.append(i)\n",
        "print(f\"My list is {l}\")\n",
        "\n",
        "if l[0]>l[1]:\n",
        "  l_element = l[0]\n",
        "  sl_element = l[1]\n",
        "else:\n",
        "  l_element = l[1]\n",
        "  sl_element = l[0]\n",
        "\n",
        "for j in range(2,n):\n",
        "  if l[j]>l_element:\n",
        "    sl_element = l_element\n",
        "    l_element = l[j]\n",
        "  elif l[j]<l_element and l[j]>sl_element:\n",
        "    sl_element = l[j]\n",
        "print(f\"The second largest element is {sl_element}\")"
      ],
      "metadata": {
        "colab": {
          "base_uri": "https://localhost:8080/"
        },
        "id": "oZZK5Vt9Sm2v",
        "outputId": "97b799c9-4195-4e2b-c063-20f39dd152ab"
      },
      "execution_count": null,
      "outputs": [
        {
          "output_type": "stream",
          "name": "stdout",
          "text": [
            "Enter the number of elements you want in an array: 5\n",
            "Enter the element: 7\n",
            "Enter the element: 9\n",
            "Enter the element: 5\n",
            "Enter the element: 8\n",
            "Enter the element: 2\n",
            "My list is [7, 9, 5, 8, 2]\n",
            "The second largest element is 8\n"
          ]
        }
      ]
    },
    {
      "cell_type": "markdown",
      "source": [
        "**Removing duplicates from a list**"
      ],
      "metadata": {
        "id": "E_Hi0_NfZaIL"
      }
    },
    {
      "cell_type": "code",
      "source": [
        "n = int(input(\"Enter the number of elements you want in an array: \"))\n",
        "l=[]\n",
        "for i in range(n):\n",
        "  i = int(input(\"Enter the element: \"))\n",
        "  l.append(i)\n",
        "print(f\"My list is {l}\")\n",
        "\n",
        "# Converting List to a Set\n",
        "s = set(l)\n",
        "print(s)\n",
        "\n",
        "# Converting set back to list\n",
        "l = list(s)\n",
        "print(f\"New list after removing all the duplicates is {l}\")"
      ],
      "metadata": {
        "colab": {
          "base_uri": "https://localhost:8080/"
        },
        "id": "aCggtqMxZhm-",
        "outputId": "c1a971d0-5068-462e-bac7-206342a26516"
      },
      "execution_count": null,
      "outputs": [
        {
          "output_type": "stream",
          "name": "stdout",
          "text": [
            "Enter the number of elements you want in an array: 7\n",
            "Enter the element: 8\n",
            "Enter the element: 5\n",
            "Enter the element: 6\n",
            "Enter the element: 3\n",
            "Enter the element: 5\n",
            "Enter the element: 6\n",
            "Enter the element: 2\n",
            "My list is [8, 5, 6, 3, 5, 6, 2]\n",
            "{2, 3, 5, 6, 8}\n",
            "New list after removing all the duplicates is [2, 3, 5, 6, 8]\n"
          ]
        }
      ]
    },
    {
      "cell_type": "markdown",
      "source": [
        "# **Recursion**"
      ],
      "metadata": {
        "id": "2daSasoJxDc0"
      }
    },
    {
      "cell_type": "markdown",
      "source": [
        "**Find the intersection of two lists**"
      ],
      "metadata": {
        "id": "K6EIjRYFwGjc"
      }
    },
    {
      "cell_type": "markdown",
      "source": [
        "**Write a recursive function to calculate the factorial of a number**\n"
      ],
      "metadata": {
        "id": "SFIY6r1QwaKO"
      }
    },
    {
      "cell_type": "code",
      "source": [
        "# Factorial using Recursion\n",
        "def fact(n):\n",
        "  if n < 0:\n",
        "    print(\"No factorial exists\")\n",
        "  elif n == 0 or n == 1:\n",
        "    return 1\n",
        "  else:\n",
        "    return (n * fact(n-1))\n",
        "\n",
        "n = int(input(\"Enter the number you want to calculate factorial of: \"))\n",
        "print(f\"The factorial of {n} is {fact(n)}\")"
      ],
      "metadata": {
        "colab": {
          "base_uri": "https://localhost:8080/"
        },
        "id": "Amwmopnefe6N",
        "outputId": "4a6e2e1e-7722-4936-a30c-7aed18482bb6"
      },
      "execution_count": null,
      "outputs": [
        {
          "output_type": "stream",
          "name": "stdout",
          "text": [
            "Enter the number you want to calculate factorial of: 7\n",
            "The factorial of 7 is 5040\n"
          ]
        }
      ]
    },
    {
      "cell_type": "markdown",
      "source": [
        "**Implement the Tower of Hanoi problem using recursion**"
      ],
      "metadata": {
        "id": "JsXYwDbhwaZw"
      }
    },
    {
      "cell_type": "markdown",
      "source": [
        "**Reverse a list using recursion**\n"
      ],
      "metadata": {
        "id": "rzNz7PrqwakK"
      }
    },
    {
      "cell_type": "code",
      "source": [
        "# Without using recursion\n",
        "\n",
        "n = int(input(\"Enter the number of items you want to have in the list: \"))\n",
        "l = []\n",
        "l_reversed = []\n",
        "for i in range(n):\n",
        "  i = int(input(\"Enter the elements: \"))\n",
        "  l.append(i)\n",
        "print(f\"List: {l}\")\n",
        "\n",
        "i = 0\n",
        "j = n-1\n",
        "while i<j:\n",
        "  l[i], l[j] = l[j], l[i]\n",
        "  i = i+1\n",
        "  j = j-1\n",
        "\n",
        "for i in range(n):\n",
        "  reversed_list = l[i]\n",
        "  l_reversed.append(reversed_list)\n",
        "print(\"Reversed List:\", l_reversed)"
      ],
      "metadata": {
        "colab": {
          "base_uri": "https://localhost:8080/"
        },
        "id": "9i06j2f9g2KN",
        "outputId": "db6f9327-d39b-497d-f8a8-4a032f5394fe"
      },
      "execution_count": null,
      "outputs": [
        {
          "output_type": "stream",
          "name": "stdout",
          "text": [
            "Enter the number of items you want to have in the list: 5\n",
            "Enter the elements: 1\n",
            "Enter the elements: 2\n",
            "Enter the elements: 3\n",
            "Enter the elements: 4\n",
            "Enter the elements: 5\n",
            "List: [1, 2, 3, 4, 5]\n",
            "Reversed List: [5, 4, 3, 2, 1]\n"
          ]
        }
      ]
    },
    {
      "cell_type": "markdown",
      "source": [
        "**Write a recursive function to find the sum of digits in a number**"
      ],
      "metadata": {
        "id": "9dKLOW03watQ"
      }
    }
  ]
}