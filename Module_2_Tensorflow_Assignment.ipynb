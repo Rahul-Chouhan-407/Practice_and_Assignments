{
  "nbformat": 4,
  "nbformat_minor": 0,
  "metadata": {
    "colab": {
      "provenance": [],
      "authorship_tag": "ABX9TyPi5/146PPkkkcWMluG3ddz",
      "include_colab_link": true
    },
    "kernelspec": {
      "name": "python3",
      "display_name": "Python 3"
    },
    "language_info": {
      "name": "python"
    }
  },
  "cells": [
    {
      "cell_type": "markdown",
      "metadata": {
        "id": "view-in-github",
        "colab_type": "text"
      },
      "source": [
        "<a href=\"https://colab.research.google.com/github/Rahul-Chouhan-407/Practice_and_Assignments/blob/main/Module_2_Tensorflow_Assignment.ipynb\" target=\"_parent\"><img src=\"https://colab.research.google.com/assets/colab-badge.svg\" alt=\"Open In Colab\"/></a>"
      ]
    },
    {
      "cell_type": "code",
      "execution_count": 2,
      "metadata": {
        "id": "KjL-2vaRubGC"
      },
      "outputs": [],
      "source": [
        "import tensorflow as tf"
      ]
    },
    {
      "cell_type": "markdown",
      "source": [
        "**A.** **Shows how you can create a session in TensorFlow**"
      ],
      "metadata": {
        "id": "iAxShd0Kv58o"
      }
    },
    {
      "cell_type": "markdown",
      "source": [
        "In TensorFlow 2 tf.Session has been replaced by tf.function"
      ],
      "metadata": {
        "id": "VJ4ohdsXwf3H"
      }
    },
    {
      "cell_type": "code",
      "source": [],
      "metadata": {
        "id": "a1ADJqeWwBgO"
      },
      "execution_count": null,
      "outputs": []
    },
    {
      "cell_type": "markdown",
      "source": [
        "**B. Define constants and perform computation such as addition and subtraction with those constants using the session.**"
      ],
      "metadata": {
        "id": "W7ZSqUZhxKjd"
      }
    },
    {
      "cell_type": "code",
      "source": [
        "# Define constants\n",
        "a = tf.constant(5)\n",
        "b = tf.constant(2)\n",
        "\n",
        "# Perform computation\n",
        "c = tf.add(a, b)\n",
        "d = tf.subtract(a, b)\n",
        "\n",
        "# Print results\n",
        "print(\"c =\", c.numpy())\n",
        "print(\"d =\", d.numpy())"
      ],
      "metadata": {
        "colab": {
          "base_uri": "https://localhost:8080/"
        },
        "id": "Pjo7F_Awxq_D",
        "outputId": "d1ca4fea-38f7-4f91-955d-7773f113f60b"
      },
      "execution_count": 4,
      "outputs": [
        {
          "output_type": "stream",
          "name": "stdout",
          "text": [
            "c = 7\n",
            "d = 3\n"
          ]
        }
      ]
    },
    {
      "cell_type": "markdown",
      "source": [
        "**C. Print Hello World using the same** "
      ],
      "metadata": {
        "id": "0KNXvSASxSnc"
      }
    },
    {
      "cell_type": "code",
      "source": [
        "# Define constant\n",
        "hello = tf.constant(\"Hello World\")\n",
        "\n",
        "# Print result\n",
        "print(hello.numpy().decode())"
      ],
      "metadata": {
        "colab": {
          "base_uri": "https://localhost:8080/"
        },
        "id": "jTO2qy5txrpz",
        "outputId": "727e06ba-cc9a-4a09-d42f-222822f2454a"
      },
      "execution_count": 5,
      "outputs": [
        {
          "output_type": "stream",
          "name": "stdout",
          "text": [
            "Hello World\n"
          ]
        }
      ]
    },
    {
      "cell_type": "markdown",
      "source": [
        "**D. Create a simple Linear Equation y = mx+c in tensor flow, where m and c are variables and x is a placeholder**\n",
        "\n",
        "a. Feed in a scalar value to x\n",
        "\n",
        "b. Feed in a vector of 5 values to x\n",
        "\n",
        "c. Choose arbitrary values for m and c"
      ],
      "metadata": {
        "id": "SxsRzqs3xZO5"
      }
    },
    {
      "cell_type": "code",
      "source": [
        "import tensorflow as tf\n",
        "\n",
        "# Define the input layer with shape (1,)\n",
        "x = tf.keras.Input(shape=(1,))\n",
        "\n",
        "# Define the variables m and c as trainable parameters\n",
        "m = tf.Variable(2.0)\n",
        "c = tf.Variable(1.0)\n",
        "\n",
        "# Define the linear equation y = mx + c\n",
        "y = tf.keras.layers.Dense(units=1, use_bias=False)(x)\n",
        "y = m * y + c\n",
        "\n",
        "# Create a model that takes x as input and outputs y\n",
        "model = tf.keras.Model(inputs=x, outputs=y)\n",
        "\n",
        "# Print the summary of the model\n",
        "model.summary()\n",
        "\n",
        "# Feed in a scalar value to x\n",
        "import numpy as np\n",
        "x_input = np.array([2.0])\n",
        "y_output = model(x_input)\n",
        "print(y_output)\n",
        "\n",
        "# Define the input layer with shape (5,)\n",
        "x = tf.keras.Input(shape=(5,))\n",
        "\n",
        "# Feed in a vector of 5 values to x\n",
        "x_input = np.array([1.0, 2.0, 3.0, 4.0, 5.0])\n",
        "y_output = model(x_input)\n",
        "print(y_output)\n"
      ],
      "metadata": {
        "colab": {
          "base_uri": "https://localhost:8080/"
        },
        "id": "ZtuZu4QkxsS-",
        "outputId": "486b5448-1cec-4de8-b22b-90a86fc56906"
      },
      "execution_count": 10,
      "outputs": [
        {
          "output_type": "stream",
          "name": "stderr",
          "text": [
            "WARNING:tensorflow:The following Variables were used in a Lambda layer's call (tf.__operators__.add_2), but are not present in its tracked objects:   <tf.Variable 'Variable:0' shape=() dtype=float32>. This is a strong indication that the Lambda layer should be rewritten as a subclassed Layer.\n"
          ]
        },
        {
          "output_type": "stream",
          "name": "stdout",
          "text": [
            "Model: \"model_2\"\n",
            "_________________________________________________________________\n",
            " Layer (type)                Output Shape              Param #   \n",
            "=================================================================\n",
            " input_3 (InputLayer)        [(None, 1)]               0         \n",
            "                                                                 \n",
            " dense_2 (Dense)             (None, 1)                 1         \n",
            "                                                                 \n",
            " tf.math.multiply_2 (TFOpLam  (None, 1)                0         \n",
            " bda)                                                            \n",
            "                                                                 \n",
            " tf.__operators__.add_2 (TFO  (None, 1)                0         \n",
            " pLambda)                                                        \n",
            "                                                                 \n",
            "=================================================================\n",
            "Total params: 1\n",
            "Trainable params: 1\n",
            "Non-trainable params: 0\n",
            "_________________________________________________________________\n",
            "tf.Tensor([[3.5304294]], shape=(1, 1), dtype=float32)\n",
            "tf.Tensor(\n",
            "[[2.2652147]\n",
            " [3.5304294]\n",
            " [4.795644 ]\n",
            " [6.0608587]\n",
            " [7.3260736]], shape=(5, 1), dtype=float32)\n"
          ]
        }
      ]
    }
  ]
}