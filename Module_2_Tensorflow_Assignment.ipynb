{
  "nbformat": 4,
  "nbformat_minor": 0,
  "metadata": {
    "colab": {
      "provenance": [],
      "authorship_tag": "ABX9TyO3/U7+QPCyUmniy0mVabtO",
      "include_colab_link": true
    },
    "kernelspec": {
      "name": "python3",
      "display_name": "Python 3"
    },
    "language_info": {
      "name": "python"
    }
  },
  "cells": [
    {
      "cell_type": "markdown",
      "metadata": {
        "id": "view-in-github",
        "colab_type": "text"
      },
      "source": [
        "<a href=\"https://colab.research.google.com/github/Rahul-Chouhan-407/Practice_and_Assignments/blob/main/Module_2_Tensorflow_Assignment.ipynb\" target=\"_parent\"><img src=\"https://colab.research.google.com/assets/colab-badge.svg\" alt=\"Open In Colab\"/></a>"
      ]
    },
    {
      "cell_type": "code",
      "execution_count": 2,
      "metadata": {
        "id": "KjL-2vaRubGC"
      },
      "outputs": [],
      "source": [
        "import tensorflow as tf"
      ]
    },
    {
      "cell_type": "markdown",
      "source": [
        "**A.** **Shows how you can create a session in TensorFlow**"
      ],
      "metadata": {
        "id": "iAxShd0Kv58o"
      }
    },
    {
      "cell_type": "markdown",
      "source": [
        "In TensorFlow 2 tf.Session has been replaced by tf.function"
      ],
      "metadata": {
        "id": "VJ4ohdsXwf3H"
      }
    },
    {
      "cell_type": "markdown",
      "source": [
        "In TensorFlow 2 with eager execution enabled, there is no need to create a session explicitly. Instead, computations are executed eagerly as soon as they are defined. Therefore, you can simply define the TensorFlow operations and run them immediately."
      ],
      "metadata": {
        "id": "gh0RnwMgrrdS"
      }
    },
    {
      "cell_type": "markdown",
      "source": [
        "In Tensorflow 1, a session is created using:\n",
        "\n",
        "sess = tf.Session()\n",
        "\n"
      ],
      "metadata": {
        "id": "N4CL_gzJsM2v"
      }
    },
    {
      "cell_type": "markdown",
      "source": [
        "**B. Define constants and perform computation such as addition and subtraction with those constants using the session.**"
      ],
      "metadata": {
        "id": "W7ZSqUZhxKjd"
      }
    },
    {
      "cell_type": "code",
      "source": [
        "# Define constants\n",
        "a = tf.constant(5)\n",
        "b = tf.constant(2)\n",
        "\n",
        "# Perform computation (Addition, Substraction, Multiplication and Division)\n",
        "c = tf.add(a, b)\n",
        "d = tf.subtract(a, b)\n",
        "e = tf.multiply(a, b)\n",
        "f = tf.divide(a, b)\n",
        "# Print results\n",
        "print(\"c =\", c.numpy())\n",
        "print(\"d =\", d.numpy())\n",
        "print(\"e =\", e.numpy())\n",
        "print(\"f =\", f.numpy())"
      ],
      "metadata": {
        "colab": {
          "base_uri": "https://localhost:8080/",
          "height": 0
        },
        "id": "Pjo7F_Awxq_D",
        "outputId": "58e3610e-6687-4670-aea9-47e3f134479a"
      },
      "execution_count": 8,
      "outputs": [
        {
          "output_type": "stream",
          "name": "stdout",
          "text": [
            "c = 7\n",
            "d = 3\n",
            "e = 10\n",
            "f = 2.5\n"
          ]
        }
      ]
    },
    {
      "cell_type": "markdown",
      "source": [
        "**C. Print Hello World using the same** "
      ],
      "metadata": {
        "id": "0KNXvSASxSnc"
      }
    },
    {
      "cell_type": "code",
      "source": [
        "# Define constant\n",
        "hello = tf.constant(\"Hello World\")\n",
        "\n",
        "# Print result\n",
        "print(hello.numpy().decode())"
      ],
      "metadata": {
        "colab": {
          "base_uri": "https://localhost:8080/",
          "height": 0
        },
        "id": "jTO2qy5txrpz",
        "outputId": "27a443f3-e9de-4c2d-910f-6568f0c96e70"
      },
      "execution_count": 9,
      "outputs": [
        {
          "output_type": "stream",
          "name": "stdout",
          "text": [
            "Hello World\n"
          ]
        }
      ]
    },
    {
      "cell_type": "markdown",
      "source": [
        "**D. Create a simple Linear Equation y = mx+c in tensor flow, where m and c are variables and x is a placeholder**\n",
        "\n",
        "a. Feed in a scalar value to x\n",
        "\n",
        "b. Feed in a vector of 5 values to x\n",
        "\n",
        "c. Choose arbitrary values for m and c"
      ],
      "metadata": {
        "id": "SxsRzqs3xZO5"
      }
    },
    {
      "cell_type": "code",
      "source": [
        "import tensorflow as tf\n",
        "\n",
        "m = tf.Variable(2.0)\n",
        "c = tf.Variable(1.0)\n",
        "\n",
        "def linear_eqn(x):\n",
        "    return m * x + c\n",
        "\n",
        "# a. Feed in a scalar value to x\n",
        "x_scalar = tf.constant(3.0)\n",
        "y_scalar = linear_eqn(x_scalar)\n",
        "print(y_scalar.numpy())  # 7.0\n",
        "\n",
        "# b. Feed in a vector of 5 values to x\n",
        "x_vector = tf.constant([1.0, 2.0, 3.0, 4.0, 5.0])\n",
        "y_vector = linear_eqn(x_vector)\n",
        "print(y_vector.numpy())  # [ 3.  5.  7.  9. 11.]\n",
        "\n",
        "# c. Choose arbitrary values for m and c\n",
        "m.assign(3.0)\n",
        "c.assign(2.0)\n",
        "y_vector = linear_eqn(x_vector)\n",
        "print(y_vector.numpy())  # [ 5.  8. 11. 14. 17.]\n"
      ],
      "metadata": {
        "colab": {
          "base_uri": "https://localhost:8080/",
          "height": 0
        },
        "id": "i1hHCLd8rVDP",
        "outputId": "27937824-478d-4524-db0e-b0c52ebd421b"
      },
      "execution_count": 19,
      "outputs": [
        {
          "output_type": "stream",
          "name": "stdout",
          "text": [
            "7.0\n",
            "[ 3.  5.  7.  9. 11.]\n",
            "[ 5.  8. 11. 14. 17.]\n"
          ]
        }
      ]
    }
  ]
}